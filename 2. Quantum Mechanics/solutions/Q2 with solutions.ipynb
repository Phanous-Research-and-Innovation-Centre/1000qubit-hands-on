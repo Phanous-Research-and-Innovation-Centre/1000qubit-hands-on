{
 "cells": [
  {
   "cell_type": "markdown",
   "id": "d075827b",
   "metadata": {
    "direction": "rtl"
   },
   "source": [
    "# یک سیستم ساده"
   ]
  },
  {
   "cell_type": "markdown",
   "id": "38eeb194",
   "metadata": {
    "direction": "rtl"
   },
   "source": [
    "اگر از درس شیمی به خاطر داشته باشید، با استفاده از ساختار لوویس می‌توانستیم الکترون‌ها و پیوندهای مولکول‌ها را نشان دهیم. اما بعضی مولکول‌ها بودند که چند ساختار لوویس داشتند که به اصطلاح به آن‌ها رزونانس می‌گفتیم. برای مثال بنزن یا آمونیاک که هر دو ساختارهای دو حالته داشتند. در شکل زیر ساختارهای ممکن بنزن را می‌بینیم."
   ]
  },
  {
   "attachments": {
    "540px-Benzene_delocalization.svg.png": {
     "image/png": "[encoded data removed]"
    }
   },
   "cell_type": "markdown",
   "id": "d8fa65aa",
   "metadata": {},
   "source": [
    "![540px-Benzene_delocalization.svg.png](attachment:540px-Benzene_delocalization.svg.png)"
   ]
  },
  {
   "cell_type": "markdown",
   "id": "461d8e06",
   "metadata": {
    "direction": "rtl"
   },
   "source": [
    "پس برای توصیف مولکول بنزن، باید از یک سیستم دو حالته استفاده کنیم. پس دوبردار پایه این فضا را تعریف می‌کنیم: به ساختار لوویس اول بردار\n",
    "$\\vert 0 \\rangle = \\begin{pmatrix}\n",
    "1\\\\0\n",
    "\\end{pmatrix}$\n",
    "و به ساختار دوم بردار\n",
    "$\\vert 1 \\rangle = \\begin{pmatrix}\n",
    "0\\\\1\n",
    "\\end{pmatrix}$\n",
    "را نسبت می‌دهیم. سیستم را می‌توانیم با هامیلتونی زیر که یک ماتریس هرمیتی است توصیف کنیم.\n",
    "$$\\hat{H} = \\begin{pmatrix}\n",
    "E_0 & -\\Delta \\\\-\\Delta & E_0\n",
    "\\end{pmatrix}$$\n",
    "\n",
    "درایه‌های قطری به این معنی هستند که اگر هر یک از ساختارها را به تنهایی داشتیم هر کدام انرژی\n",
    "$E_0$ \n",
    "داشتند. و درایه‌های غیر قطری $-\\Delta$ برای این هستند که این دو ساختار بتوانند با احتمالی غیر صفر به یکدیگر تبدیل شوند. \n",
    "1. ماتریس هامیلتونی بالا را قطری کنید و ویژه‌بردارها و ویژه‌مقدارهای آن را به دست آورید.\n",
    "\n",
    "حالا می‌خواهیم تحول این سیستم را بررسی کنیم. بنابراین از معادله شرودینگر استفاده می‌کنیم.\n",
    "$$i \\hbar \\frac{d}{dt} \\vert \\psi(t) \\rangle = \\hat{H} \\vert \\psi(t) \\rangle$$\n",
    "تابع موج در زمان‌های مختلف را می‌توانیم برحسب بردارهای پایه فضا بسط دهیم.\n",
    "$$\\vert \\psi(t) \\rangle = c_0(t) \\vert 0 \\rangle + c_1(t) \\vert 1 \\rangle = \\begin{pmatrix} c_0(t) \\\\ c_1(t) \\end{pmatrix}$$\n",
    "بنابراین مسئله تبدیل می‌شود به پیدا کردن تحولات ضرایب $c_0 (t)$ و $c_1 (t)$. با قرار دادن تابع موج برحسب این ضرایب در معادله شرودینگر دو معادله دیفرانسیل خطی خواهیم داشت.\n",
    "\n",
    "2. این دو معادله دیفرانسیل را به دست آورید و با تغییر متغییر آنها را به صورت زیر بازنویسی کنید.\n",
    "$$i \\hbar \\frac{d(c_0 + c_1)}{dt} = (E_0 - \\Delta) (c_0 + c_1)$$\n",
    "$$i \\hbar \\frac{d(c_0 - c_1)}{dt} = (E_0 + \\Delta) (c_0 - c_1)$$\n",
    "3. \tمعادلات بالا را حل کنید و ضرایب $c_0 (t)$ و $c_1 (t)$ را به دست آورید. می‌توانید این معادلات را به صورت عددی حل کنید. \n",
    "\n",
    "4. نشان دهید که در زمان‌های مختلف، احتمال اینکه بنزن در ساختار اول و دوم باشد برابر است با $\\vert c_0(t) \\vert^2$ و $\\vert c_1(t) \\vert^2$. از روی جواب قسمت قبل نمودار این احتمالات برحسب زمان را رسم کنید. \n",
    "5. با استفاده از جواب بخش قبل ساختار رزونانسی بنزن را توصیف کنید.\n",
    "\n",
    "حالا می‌خواهیم این جواب‌ها را از روش دیگری به دست آوریم.\n",
    "\n",
    "6. از جواب های بخش اول استفاده کنید و معادله شرودینگر را در پایه ویژه‌بردارهای ماتریس هامیلتونی بنویسید. یعنی بجای اینکه $\\vert \\psi(t) \\rangle$ را در پایه $\\vert 0 \\rangle$ و $\\vert 1 \\rangle$ بنویسم، در پایه‌ای که در بخش یک بدست آوردیم بنویسیم.\n",
    "7. تحولات ویژه‌بردارهای هامیلتونی را با استفاده از معادله بخش قبل به دست آورید. مشاهده کنید که مشابه جواب‌های بخش ۳ می‌شود."
   ]
  },
  {
   "cell_type": "markdown",
   "id": "ddbb2ed7",
   "metadata": {
    "direction": "rtl"
   },
   "source": [
    "## آماده‌سازی‌ها"
   ]
  },
  {
   "cell_type": "code",
   "execution_count": 63,
   "id": "9a3e0bc8",
   "metadata": {},
   "outputs": [],
   "source": [
    "import numpy as np\n",
    "import matplotlib.pylab as plt"
   ]
  },
  {
   "cell_type": "code",
   "execution_count": 64,
   "id": "c7d82b13",
   "metadata": {},
   "outputs": [],
   "source": [
    "# use for finding eigenvalue and eigenvectors\n",
    "from numpy import linalg as LA"
   ]
  },
  {
   "cell_type": "code",
   "execution_count": 65,
   "id": "11c7c234",
   "metadata": {},
   "outputs": [],
   "source": [
    "def dagger(x : str):\n",
    "    return np.mat(x).conj().T\n",
    "# e.g. dagger(np.mat([1 + 1j,0,0]))"
   ]
  },
  {
   "cell_type": "code",
   "execution_count": null,
   "id": "f00aca5c",
   "metadata": {},
   "outputs": [],
   "source": [
    "# calculate e^matrix\n",
    "from scipy.linalg import expm"
   ]
  },
  {
   "cell_type": "code",
   "execution_count": 66,
   "id": "d64ed920",
   "metadata": {},
   "outputs": [],
   "source": [
    "#part 3\n",
    "def evolution(H,initial,T):\n",
    "    N = 1000\n",
    "    delta_t = T / N\n",
    "    hbar = 1\n",
    "    psi = initial\n",
    "    psi_t = psi\n",
    "    c_0 = complex_rand(N)\n",
    "    c_1 = complex_rand(N)\n",
    "    for i in range(N):\n",
    "        psi_t = np.matmul(expm(-1j * delta_t * H ) , psi) # psi(t) = e^{-itH} psi_0\n",
    "        psi = psi_t\n",
    "        c_0[i] = psi_t[0]\n",
    "        c_1[i] = psi_t[1]\n",
    "    return psi_t,c_0,c_1"
   ]
  },
  {
   "cell_type": "markdown",
   "id": "f8190d99",
   "metadata": {
    "direction": "rtl"
   },
   "source": [
    "## جوابِ سؤال به شکلِ کد"
   ]
  },
  {
   "cell_type": "code",
   "execution_count": 67,
   "id": "0e860a8d",
   "metadata": {},
   "outputs": [],
   "source": [
    "# you can create a random matrix/vector using this function\n",
    "def complex_rand(*args):\n",
    "    return np.random.rand(*args) * np.exp(1j * 2 * np.pi * np.random.rand(*args))"
   ]
  },
  {
   "cell_type": "code",
   "execution_count": 68,
   "id": "81c3d56b",
   "metadata": {},
   "outputs": [
    {
     "name": "stdout",
     "output_type": "stream",
     "text": [
      "energies: [11.  9.]\n",
      "eigenvectors: U =  [[ 0.70710678  0.70710678]\n",
      " [-0.70710678  0.70710678]]\n"
     ]
    }
   ],
   "source": [
    "# part 1\n",
    "e = 10\n",
    "delta = 1\n",
    "H = np.array([[e,-delta],[-delta,e]])\n",
    "energies, U = LA.eig(H)\n",
    "print('energies:' ,energies)\n",
    "print('eigenvectors: U = ' ,U)"
   ]
  },
  {
   "cell_type": "code",
   "execution_count": 69,
   "id": "4b8d4a2e",
   "metadata": {},
   "outputs": [
    {
     "name": "stdout",
     "output_type": "stream",
     "text": [
      "psi(T) =  [[-0.72354721-0.42487699j]\n",
      " [ 0.2754736 -0.46911967j]]\n"
     ]
    }
   ],
   "source": [
    "# part 2 and 3\n",
    "ket0 = np.array([[1], [0]])\n",
    "ket1 = np.array([[0], [1]])\n",
    "\n",
    "psi_0 = ket0\n",
    "def evolution(H,initial,T):\n",
    "    N = 1000\n",
    "    delta_t = T / N\n",
    "    hbar = 1\n",
    "    psi = initial\n",
    "    psi_t = psi\n",
    "    c_0 = complex_rand(N)\n",
    "    c_1 = complex_rand(N)\n",
    "    for i in range(N):\n",
    "        psi_t = np.matmul(expm(-1j * delta_t * H ) , psi)\n",
    "        psi = psi_t\n",
    "        c_0[i] = psi_t[0]\n",
    "        c_1[i] = psi_t[1]\n",
    "    return psi_t,c_0,c_1\n",
    "\n",
    "psi_final,c_0,c_1 = evolution(H,psi_0,10)\n",
    "print('psi(T) = ',psi_final)"
   ]
  },
  {
   "cell_type": "code",
   "execution_count": 70,
   "id": "5944cb1e",
   "metadata": {},
   "outputs": [
    {
     "data": {
      "image/png": "[encoded data removed]",
      "text/plain": [
       "<Figure size 432x288 with 1 Axes>"
      ]
     },
     "metadata": {
      "needs_background": "light"
     },
     "output_type": "display_data"
    }
   ],
   "source": [
    "# part 4\n",
    "p_0 = np.real(np.conjugate(c_0)*c_0)\n",
    "p_1 = np.real(np.conjugate(c_1)*c_1)\n",
    "plt.plot(p_0,label='$p_0 = |c_0(t)|^2$')\n",
    "plt.plot(p_1,label='$p_1 = |c_1(t)|^2$')\n",
    "plt.legend()\n",
    "plt.xlabel('t')\n",
    "plt.show()"
   ]
  },
  {
   "cell_type": "code",
   "execution_count": 76,
   "id": "b5c44c87",
   "metadata": {},
   "outputs": [
    {
     "name": "stdout",
     "output_type": "stream",
     "text": [
      "H diagonal =  [[11.  0.]\n",
      " [ 0.  9.]]\n",
      "psi_tilde =  [[0.70710678]\n",
      " [0.70710678]]\n"
     ]
    }
   ],
   "source": [
    "# part 6\n",
    "\n",
    "# change the basis\n",
    "H_d = np.matmul(np.matmul(dagger(U),H),U)\n",
    "psi_0_tilde = np.matmul(dagger(U),psi_0)\n",
    "\n",
    "print('H diagonal = ',H_d)\n",
    "print('psi_tilde = ',psi_0_tilde)"
   ]
  },
  {
   "cell_type": "code",
   "execution_count": 77,
   "id": "ed5b8bb2",
   "metadata": {},
   "outputs": [
    {
     "name": "stdout",
     "output_type": "stream",
     "text": [
      "psi_tilde(T) =  [[-0.70641439+0.0312843j]\n",
      " [-0.31683589-0.6321511j]]\n"
     ]
    }
   ],
   "source": [
    "psi_final_tilde,c_0_tilde,c_1_tilde = evolution(H_d,psi_0_tilde,10)\n",
    "print('psi_tilde(T) = ',psi_final_tilde)"
   ]
  },
  {
   "cell_type": "code",
   "execution_count": 79,
   "id": "828bd33b",
   "metadata": {},
   "outputs": [
    {
     "name": "stdout",
     "output_type": "stream",
     "text": [
      "psi_prime(T) =  [[-0.72354721-0.42487699j]\n",
      " [ 0.2754736 -0.46911967j]]\n",
      "psi(T) =  [[-0.72354721-0.42487699j]\n",
      " [ 0.2754736 -0.46911967j]]\n"
     ]
    }
   ],
   "source": [
    "# part 7\n",
    "# return to 0 , 1 basis\n",
    "psi_final_prime = np.matmul(U,psi_final_tilde)\n",
    "print('psi_prime(T) = ',psi_final_prime) # part 6\n",
    "print('psi(T) = ',psi_final) # part 3"
   ]
  },
  {
   "cell_type": "markdown",
   "id": "2b0870f0",
   "metadata": {
    "direction": "rtl"
   },
   "source": [
    "## جوابِ سؤال به شکلِ ریاضی\n",
    "### جواب بخش 1\n",
    "برای اینکه ویژه‌مقادیر و ویژه‌بردارهای هامیلتونی را پیدا کنیم باید معادله ویژه‌مقداری آن را حل کنیم.\n",
    "$$\\hat{H} \\vert \\psi \\rangle = E \\vert \\psi \\rangle$$\n",
    "که در رابطه بالا $\\vert E \\rangle$ ویژه‌بردار هامیلتونی است که انرژی‌اش برابر است با $E$. به جای حل معادله \n",
    "$(\\hat{H} - E \\hat{\\mathbb{1}} ) \\vert E \\rangle = 0$\n",
    "اگر هامیلتونی را به صورت زیر بازنویسی کنیم\n",
    "$$\\hat{H} = E_0 \\hat{\\mathbb{1}} - \\Delta \\sigma_x$$\n",
    "و از این استفاده کنیم که برای ماتریس پائولی $\\sigma_x$ می‌دانیم که\n",
    "$$\\sigma_x \\vert + \\rangle = \\vert + \\rangle$$\n",
    "$$\\sigma_x \\vert - \\rangle = - \\vert - \\rangle$$\n",
    "حالا می‌توانیم حدس بزنیم که ویژه‌بردارهای ماتریس هامیلتونی همین بردارهای $\\vert + \\rangle$ و $\\vert - \\rangle$ هستند. و با محاسبه تثر هامیلتونی روی آنها می‌توانیم انرژی‌ها را نیز به دست آوریم.\n",
    "$$\\hat{H} \\vert + \\rangle = (E_0 \\hat{\\mathbb{1}} - \\Delta \\sigma_x) \\vert + \\rangle = (E_0 - \\Delta) \\vert + \\rangle $$\n",
    "$$\\hat{H} \\vert - \\rangle = (E_0 \\hat{\\mathbb{1}} - \\Delta \\sigma_x) \\vert - \\rangle = (E_0 + \\Delta) \\vert - \\rangle $$\n",
    "### جواب بخش 2 \n",
    "برای اینکه معادلات دیفرانسیل حاکم بر ضرایب $c_0 (t)$ و $c_1 (t)$ را به دست آوریم تابع موج را به شکل داده شده می‌نویسیم و آن را داخل معادله شرودینگر قرار می‌دهیم. دقت کنیم که فعلا با جواب بخش اول که در آن هامیلتونی را قطری کرده بودیم کاری نداریم و از آن روش در بخش‌های بعدی استفاده خواهیم کرد.\n",
    "$$ i \\hbar \\frac{d}{dt} \\begin{pmatrix} c_0(t) \\\\ c_1(t) \\end{pmatrix} = \\begin{pmatrix} E_0 & -\\Delta \\\\ -\\Delta & E_0 \\end{pmatrix}\\begin{pmatrix} c_0(t) \\\\ c_1(t) \\end{pmatrix} $$\n",
    "که معادله ماتریسی بالا معادل است با یک دستگاه معادله دیفرانسیل خطی به شکل زیر:\n",
    "$$i \\hbar \\frac{d c_0(t)}{dt} = E_0 c_0(t) - \\Delta c_1(t)$$\n",
    "$$i \\hbar \\frac{d c_1(t)}{dt} = - \\Delta c_0(t) + E_0 c_1(t)$$\n",
    "اگر دو معادله بالا را یک‌بار با هم جمع و یک‌بار از هم کم کنیم به دو معادله گفته شده در صورت سوال می‌رسیم.\n",
    "$$i \\hbar \\frac{d(c_0 + c_1)}{dt} = (E_0 - \\Delta) (c_0 + c_1)$$\n",
    "$$i \\hbar \\frac{d(c_0 - c_1)}{dt} = (E_0 + \\Delta) (c_0 - c_1)$$\n",
    "\n",
    "### جواب بخش 3\n",
    "حالا از دو معادله دیفرانسیل خطی بالا که با آن روش تغییر متغییری که دادیم دیگر جفت‌شده نیستند می‌توانیم دو عبارت زیر را برحسب زمان به دست آوریم:\n",
    "$$c_0(t) + c_1(t) = A e^{\\frac{-it}{\\hbar}(E_0 - \\Delta)}$$\n",
    "$$c_0(t) - c_1(t) = B e^{\\frac{-it}{\\hbar}(E_0 + \\Delta)}$$\n",
    "در عبارت‌های بالا A و B ثوابتی هستند که باید با شرایط اولیه مسئله آن‌ها را به دست آوریم. فرض می‌کنیم سیستم در لحظه اول در حالت $\\vert 0 \\rangle$ بوده.\n",
    "$$c_0(t=0) = 1, \\quad c_1(t=0) = 0$$\n",
    "از شرایط بالا به دست می‌آوریم که $A = B = 1$ است و در نهایت خواهیم داشت که:\n",
    "$$c_0(t) = e^{\\frac{-it E_0}{\\hbar}} cos(\\frac{\\Delta t}{\\hbar})$$\n",
    "$$c_1(t) = e^{\\frac{-it E_0}{\\hbar}} sin(\\frac{\\Delta t}{\\hbar})$$\n",
    "\n",
    "### جواب بخش 4\n",
    "پس الان حالت بنزن در هر لحظه را به دست آوردیم که به شکل زیر است:\n",
    "$$\\vert \\psi(t) \\rangle = c_0(t) \\vert 0 \\rangle + c_1(t) \\vert 1 \\rangle$$\n",
    "حالا مي‌خواهیم احتمال اینکه در لحظه t بنزن در ساختار اول و دوم باشد را به دست آوریم.\n",
    "احتمال اینکه در ساختار اول باشد را با $P_0$ و احتمال اینکه در ساختار دوم باشد را با $P_1$ نشان می‌دهیم.\n",
    "$$P_0 = \\vert \\langle 0 \\vert \\psi(t) \\rangle \\vert^2 = \\vert c_0(t) \\vert^2 = cos^2(\\frac{\\Delta t}{\\hbar})$$\n",
    "$$P_1 = \\vert \\langle 1 \\vert \\psi(t) \\rangle \\vert^2 = \\vert c_1(t) \\vert^2 = sin^2(\\frac{\\Delta t}{\\hbar})$$\n",
    "\n",
    "### جواب بخش 5\n",
    "از جواب بخش قبل مشاهده می‌کنیم که در یک لحظه هم احتمال حضور در ساختار اول و هم احتمال حضور در ساختار دوم غیر صفر است. پس رزونانسی که بین این دو ساختار انتظار داشتیم را داریم مشاهده می‌کنیم.\n",
    "\n",
    "\n",
    "### جواب بخش 6\n",
    "حالا از اینجا به بعد می‌خواهیم از جواب‌های بخش اول استفاده کنیم و تمام محاسبات را در پایه ویژه‌بردارهای هامیلتونی انجام دهیم. برای این اولین کاری که می‌کنیم این است که بریم به پایه جدید. دقت کنیم که این تبدیل پایه را هم برای بردارها و هم برای عملگرها باید انجام دهیم. بردارها و عملگرها در پایه جدید را با tilde متمایز می‌کنیم.\n",
    "$$\\vert \\tilde{\\psi}(t) \\rangle = U^\\dagger \\vert \\psi(t) \\rangle$$\n",
    "$$ \\hat{H} = U \\hat{H}_d U^\\dagger$$\n",
    "که در رابطه بالا $\\hat{H}_d$ ماتریس هامیلتونی قطری است و در واقع همان ماتریس هامیلتونی در پایه جدید و یعنی $\\hat{\\tilde{H}}$ است.\n",
    "حالا معادله شرودینگر را در این پایه‌ها بازنویسی می‌کنیم.\n",
    "$$i \\hbar \\frac{d}{dt} \\vert \\tilde{\\psi}(t) \\rangle = \\hat{H}_d \\vert \\tilde{\\psi}(t) \\rangle$$\n",
    "که حالا ماتریس هامیلتونی قطری شده را در این قرار می‌دهیم و به جای تابع حالت نیز قرار می‌دهیم (دقت کنیم که الان در پایه $\\vert + \\rangle$ و $\\vert - \\rangle$ هستیم.) \n",
    "$$\\vert \\tilde{\\psi}(t) \\rangle = \\tilde{c}_0(t) \\vert + \\rangle + \\tilde{c}_1(t) \\vert - \\rangle = \\begin{pmatrix} \\tilde{c}_0(t) \\\\ \\tilde{c}_1(t) \\end{pmatrix}$$\n",
    "حالا معادله شرودینگر را بازنویسی می‌کنیم.\n",
    "$$ i \\hbar \\frac{d}{dt} \\begin{pmatrix} \\tilde{c}_0(t) \\\\ \\tilde{c}_1(t) \\end{pmatrix} = \\begin{pmatrix} E_0 - \\Delta & 0 \\\\ 0 & E_0 + \\Delta \\end{pmatrix}\\begin{pmatrix} \\tilde{c}_0(t) \\\\ \\tilde{c}_1(t) \\end{pmatrix} $$\n",
    "معادلات این بار نیازی به تغییر متغییر ندارند. به صورت زیر می‌شوند:\n",
    "$$i \\hbar \\frac{d \\tilde{c}_0(t)}{dt} = (E_0 - \\Delta) \\tilde{c}_0(t)$$\n",
    "$$i \\hbar \\frac{d\\tilde{c}_1(t)}{dt} = (E_0 + \\Delta) \\tilde{c}_1(t)$$\n",
    "با حل معادلات بالا جواب‌های زیر برحسب زمان به دست می‌آیند:\n",
    "$$\\tilde{c}_0(t) = \\tilde{c}_0(t=0) e^{\\frac{-it}{\\hbar}(E_0 - \\Delta)}$$\n",
    "$$\\tilde{c}_1(t) = \\tilde{c}_1(t=0) e^{\\frac{-it}{\\hbar}(E_0 + \\Delta)}$$\n",
    "اگر بخواهیم همان شرایط اولیه روش قبل را داشته باشیم باید قرار دهیم:\n",
    "$$\\tilde{c}_0(t=0) = \\tilde{c}_1(t=0) = \\frac{1}{\\sqrt{2}}$$\n",
    "پس درنهایت حالت را در هر لحظه به صورت زیر داریم (در پایه‌های مثبت و منفی):\n",
    "$$\\vert \\tilde{\\psi}(t) \\rangle = \\frac{1}{\\sqrt{2}} \\begin{pmatrix} e^{\\frac{-it}{\\hbar}(E_0 - \\Delta)} \\\\ e^{\\frac{-it}{\\hbar}(E_0 + \\Delta)} \\end{pmatrix}$$\n",
    "### جواب بخش 7\n",
    "حالا اگر بخواهیم جواب بخش ۶ را با جواب بخش ۳ مقایسه کنیم باید دوباره وارون تبدیل پایه‌ای که انجام دادیم را انجام دهیم.\n",
    "$$\\vert \\psi(t) \\rangle = U \\vert \\tilde{\\psi}(t) \\rangle = \\frac{1}{2} \\begin{pmatrix} 1 & 1 \\\\ 1 & -1 \\end{pmatrix}  \\begin{pmatrix} e^{\\frac{-it}{\\hbar}(E_0 - \\Delta)} \\\\ e^{\\frac{-it}{\\hbar}(E_0 + \\Delta)} \\end{pmatrix} = e^{\\frac{-it E_0}{\\hbar}} \\begin{pmatrix} cos(\\frac{t \\Delta}{\\hbar})\\\\sin(\\frac{t \\Delta}{\\hbar}) \\end{pmatrix} $$\n",
    "که دقیقا همانی شد که در بخش ۳ به دست آورده بودیم.\n"
   ]
  },
  {
   "cell_type": "code",
   "execution_count": null,
   "id": "49475114",
   "metadata": {},
   "outputs": [],
   "source": []
  }
 ],
 "metadata": {
  "kernelspec": {
   "display_name": "Python 3 (ipykernel)",
   "language": "python",
   "name": "python3"
  },
  "language_info": {
   "codemirror_mode": {
    "name": "ipython",
    "version": 3
   },
   "file_extension": ".py",
   "mimetype": "text/x-python",
   "name": "python",
   "nbconvert_exporter": "python",
   "pygments_lexer": "ipython3",
   "version": "3.8.10"
  }
 },
 "nbformat": 4,
 "nbformat_minor": 5
}
