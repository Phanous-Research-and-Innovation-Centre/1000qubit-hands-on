{
 "cells": [
  {
   "cell_type": "markdown",
   "id": "469ff206",
   "metadata": {
    "direction": "rtl"
   },
   "source": [
    "# سوالی در رابطه با قضیه No Signaling"
   ]
  },
  {
   "cell_type": "markdown",
   "id": "5149b1a7",
   "metadata": {
    "direction": "rtl"
   },
   "source": [
    "قضیه no signaling می‌گوید اگر سیستمی را بین آلیس و باب به اشتراک گذاشته باشیم، هیچ کدام از آن‌ها نمی‌توانند با اندازه‌گیری یا تحول زمانی روی بخشی از سیستم که به صورت موضعی پیش خودشان است، پیامی را برای دیگری ارسال کند. اگر این اتفاق ممکن بود می‌توانستیم بدون ارسال هیچ سیگنالی پیام منتقل کنیم. در واقع داشتیم پیامی را با سرعتی بیشتر از سرعت نور منتقل می‌کردیم که این موضعیت در نسبیت را نقض می‌کرد!\n",
    "\n",
    "در این سوال می‌خواهیم درستی قضیه بالا را بررسی کنیم.\n",
    "\n",
    "پس اول از همه فرض کنید که یک سیستم دو کیوبیتی داریم که بین آلیس و باب به اشتراک گذاشته شده. به طوریکه کیوبیت اول دست آلیس است و کیوبیت دوم دست باب است. حالا آلیس روی کیوبیتی که در دست خودش است یک اندازه‌گیری انجام می‌دهد. ما می‌خواهیم حالتی که دست باب است را بعد از اندازه گیری آلیس به دست آوریم و آن را با حالتی که قبل از اندازه‌گیری داشت مقایسه کنیم. مشاهده می‌کنیم که حالت دست باب قبل و بعد از اندازه‌گیری آلیس تفاوتی نکرده است. بنابراین باب هیچ اطلاعاتی به دست نمی‌آورد با اندازه‌گیری موضعی آلیس.\n",
    "\n",
    "در ادامه می‌خواهیم مرحله به مرحله کارهای بالا را انجام دهیم.\n",
    "حالت درهمتنیده زیر را به عنوان حالتی که بین آلیس و باب به اشتراک می‌گذاریم در نظر بگیرید.\n",
    "$$\\vert \\psi \\rangle_{AB} =  \\alpha \\vert 0 0 \\rangle + \\beta \\vert 1 1 \\rangle$$\n",
    "$$ \\vert \\alpha \\vert^2 + \\vert \\beta \\vert^2 = 1$$\n",
    "\n",
    "##### مرحله اول\n",
    "آلیس می‌خواهد روی کیوبیتی که دست خودش دارد اندازه‌گیری انجام دهد. او اندازه‌گیری را در پایه $\\vert 0 \\rangle$ و $\\vert 1 \\rangle$ انجام می‌دهد. در حالتی که روی یک کیوبیت اندازه‌گیری انجام می‌دادیم می‌دانستیم نتیجه اندازه‌گیری را چطور به دست آوریم. الان فقط باید روی بخش دوم حالت که دست باب است ماتریس واحد را اثر دهیم که تغییری نکند. یعنی عملگرهای تصویر اندازه‌گیری به شکل زیر هستند.\n",
    "$$ \\hat{P}_0 = \\vert 0 \\rangle \\langle 0 \\vert_A \\otimes \\mathbb{1}_B$$\n",
    "$$ \\hat{P}_1 = \\vert 1 \\rangle \\langle 1 \\vert_A \\otimes \\mathbb{1}_B$$\n",
    "\n",
    "که با داشتن در دو عبارت بالا می‌توانیم احتمالات $P(0)$ و $P(1)$ را به دست آوریم. که این احتمال‌ها به ترتیب احتمال این هستند که آلیس خروجی صفر و یک را به دست آورد.\n",
    "حالا حالت‌های جدیدی که کل سیستم به آن‌ها فروپاشی می‌کند را هم به شکل زیر به دست آورید. دقت کنید که داریم حالت جدید هر دو کیوبیت بعد از اندازه گیری را به دست می‌آوریم بخاطر اینکه می‌خواهیم از روی این در بخش‌های بعدی قضاوت کنیم که حالتی که دست باب بود چه تغییری کرده.\n",
    "$$\\vert \\psi_0 \\rangle_{AB} = (\\vert 0 \\rangle_A \\langle 0 \\vert \\otimes \\mathbb{1}_B ) \\vert \\psi_{AB} \\rangle$$\n",
    "$$\\vert \\psi_1 \\rangle_{AB} = (\\vert 1 \\rangle_A \\langle 1 \\vert \\otimes \\mathbb{1}_B ) \\vert \\psi_{AB} \\rangle$$\n",
    "که منظور از $\\vert \\psi_0 \\rangle_{AB}$ حالت جدید کل سیستم بعد از خروجی صفر و منظور از $\\vert \\psi_1 \\rangle_{AB}$ حالت جدید کل سیستم بعد از خروجی صفر است. دقت کنید که برای نرمال شدن حالت‌های بعد از خروجی تنها کافی است آن‌ها را به مجذور احتمال هر خروجی تقسیم کنید.\n",
    "\n",
    "در ادامه می‌توانیم از روی حالت‌های بالا که متعلق به کل سیستم است حالت باب را هم به دست آوریم. که آنها را به ترتیب $\\vert \\psi_0 \\rangle_B$ و $\\vert \\psi_1 \\rangle_B$ بنامید.\n",
    "\n",
    "\n",
    "##### مرحله دوم\n",
    "حالا می‌خواهیم در نظر بگیریم که آلیس کار دیگری روی کیوبیت خودش انجام می‌دهد و بعد مثل مراحل بخش قبل حالت باب را در این مسئله هم به دست آوریم. فرض می‌کنیم که آلیس در ابتدا یک ماتریس یکانی دلخواه روی کیوبیت خودش اثر می‌دهد و بعد از آن در همان پایه‌های قبلی اندازه‌گیری می‌کند مثل مرحله قبل.\n",
    "فرض کنیم یک ماتریس یکانی دلخواه به شکل زیر روی حالت اولیه‌ای که بین این دو نفر است اثر کند. دقت کنید که این ماتریس فقط روی کیوبیت آلیس اثر می‌کند و روی کیوبیت باب هیچ تغییری نمی‌دهیم. این ماتریس یکانی دلخواه رو می‌تونیم به صورت زیر بگیریم:\n",
    "$$U = \\begin{pmatrix} a & b \\\\ -b^* & a^* \\end{pmatrix}, \\quad \\vert a \\vert^2 + \\vert b \\vert^2 = 1$$\n",
    "حالت سیستم بعد از اثر این ماتریس را به دست آورید.\n",
    "$$\\vert \\phi_{AB} \\rangle = ( U \\otimes \\mathbb{1}_B ) \\vert \\psi_{AB} \\rangle$$\n",
    "\n",
    "حالا آلیس می‌خواهد روی کیوبیتی که دست خودش دارد اندازه‌گیری انجام دهد. او مشابه سوال قبل اندازه‌گیری را در پایه $\\vert 0 \\rangle$ و $\\vert 1 \\rangle$ انجام می‌دهد. احتمال‌های $P^\\prime(0)$ و $P^\\prime(1)$ را به دست آوریم. که این احتمال‌ها به ترتیب احتمال این هستند که آلیس خروجی صفر و یک را به دست آورد.\n",
    "حالا حالت‌های جدیدی که کل سیستم به آن‌ها فروپاشی می‌کند را هم مشابه بخش قبل به دست آورید.\n",
    "$$\\vert \\phi_0 \\rangle_{AB} = (\\vert 0 \\rangle_A \\langle 0 \\vert \\otimes \\mathbb{1}_B ) \\vert \\phi_{AB} \\rangle$$\n",
    "$$\\vert \\phi_1 \\rangle_{AB} = (\\vert 1 \\rangle_A \\langle 1 \\vert \\otimes \\mathbb{1}_B ) \\vert \\phi_{AB} \\rangle$$\n",
    "که منظور از $\\vert \\phi_0 \\rangle_{AB}$ حالت جدید کل سیستم بعد از خروجی صفر و منظور از $\\vert \\phi_1 \\rangle_{AB}$ حالت جدید کل سیستم بعد از خروجی صفر است. دقت کنید که برای نرمال شدن حالت‌های بعد از خروجی تنها کافی است آن‌ها را به مجذور احتمال هر خروجی تقسیم کنید.\n",
    "\n",
    "در ادامه می‌توانیم از روی حالت‌های بالا که متعلق به کل سیستم است حالت باب را هم به دست آوریم. که آنها را به ترتیب $\\vert \\phi_0 \\rangle_B$ و $\\vert \\phi_1 \\rangle_B$ بنامید.\n",
    "\n",
    "\n",
    "##### مرحله سوم\n",
    "در این بخش می‌خواهیم کل حالتی که دست باب است را در دو آزمایش بالا با هم مقایسه کنیم. ابتدا باید با داشتن احتمال‌های هر حالت دست باب و خود حالت‌های دست باب یک حالت کلی بسازیم که نشان‌دهنده حالت دست باب باشد. آن را به شکل زیر می‌سازیم و به آن ماتریس چگالی می‌گوییم. بنابراین حالت دست باب بعد از آزمایش اول مطابق زیر است:\n",
    "$$\\rho_B = P(0) \\; \\vert \\psi_0 \\rangle_{B}\\langle \\psi_0 \\vert + P(1) \\; \\vert \\psi_1 \\rangle_{B}\\langle \\psi_1 \\vert$$\n",
    "همچنین حالت باب بعد از آزمایش دوم به شکل زیر می‌شود:\n",
    "$$\\rho^\\prime_B = P^\\prime(0) \\; \\vert \\phi_0 \\rangle_{B}\\langle \\phi_0 \\vert + P^\\prime(1) \\; \\vert \\phi_1 \\rangle_{B}\\langle \\phi_1 \\vert$$\n",
    "دو ماتریس چگالی بالا را به کمک محاسباتی که در بخش‌های قبل انجام دادیم به دست آورید و با هم مقایسه کنید. مشاهده می‌کنیم که دو عبارت بالا با هم برابر می‌شوند که یعنی برای باب هیچ فرقی نمی‌کند که آلیس به صورت موضعی روی کیوبیت خودش چه کاری انجام می‌دهد. در نهایت پس هیچ پیامی به این روش نمی‌توان بین آلیس و باب رد و بدل کرد.\n"
   ]
  },
  {
   "cell_type": "markdown",
   "id": "738d748a",
   "metadata": {
    "direction": "rtl"
   },
   "source": [
    "## آماده‌سازی‌ها"
   ]
  },
  {
   "cell_type": "code",
   "execution_count": 1,
   "id": "19d1f8e0",
   "metadata": {},
   "outputs": [],
   "source": [
    "import numpy as np"
   ]
  },
  {
   "cell_type": "code",
   "execution_count": 2,
   "id": "3df5daed",
   "metadata": {},
   "outputs": [],
   "source": [
    "def dagger(x : str):\n",
    "    return np.mat(x).conj().T\n",
    "# e.g. dagger(np.mat([1 + 1j,0,0]))"
   ]
  },
  {
   "cell_type": "code",
   "execution_count": 13,
   "id": "4a3dd99d",
   "metadata": {},
   "outputs": [],
   "source": [
    "# you can create a random matrix/vector using this function\n",
    "def complex_rand(*args):\n",
    "    return np.random.rand(*args) * np.exp(1j * 2 * np.pi * np.random.rand(*args))"
   ]
  },
  {
   "cell_type": "code",
   "execution_count": 30,
   "id": "64517efa",
   "metadata": {},
   "outputs": [],
   "source": [
    "def tensor_product(a, b):\n",
    "    return np.kron(a, b)"
   ]
  },
  {
   "cell_type": "code",
   "execution_count": 32,
   "id": "5c2aa4b3",
   "metadata": {},
   "outputs": [],
   "source": [
    "ket0 = np.array([[1], [0]])\n",
    "ket1 = np.array([[0], [1]])"
   ]
  },
  {
   "cell_type": "markdown",
   "id": "bd5d255c",
   "metadata": {
    "direction": "rtl"
   },
   "source": [
    "## جوابِ سؤال به شکلِ کد"
   ]
  },
  {
   "cell_type": "code",
   "execution_count": 43,
   "id": "b6970efb",
   "metadata": {},
   "outputs": [
    {
     "name": "stdout",
     "output_type": "stream",
     "text": [
      "psi_AB =  [[0.74691737-0.16705283j]\n",
      " [0.        +0.j        ]\n",
      " [0.        +0.j        ]\n",
      " [0.47262743-0.43684219j]]\n",
      "alpha =  (0.7469173744656568-0.1670528276783666j)\n",
      "beta =  (0.4726274279290831-0.4368421944537081j)\n"
     ]
    }
   ],
   "source": [
    "rand = complex_rand(2)\n",
    "alpha = rand[0] / np.sqrt(rand[0] * np.conjugate(rand[0]) + rand[1] * np.conjugate(rand[1]))\n",
    "beta = rand[1] / np.sqrt(rand[0] * np.conjugate(rand[0]) + rand[1] * np.conjugate(rand[1]))\n",
    "\n",
    "psi_AB = alpha * tensor_product(ket0, ket0) + beta * tensor_product(ket1, ket1)\n",
    "print('psi_AB = ' , psi_AB)\n",
    "print('alpha = ',alpha)\n",
    "print('beta = ',beta)"
   ]
  },
  {
   "cell_type": "code",
   "execution_count": 44,
   "id": "c4ab220a",
   "metadata": {},
   "outputs": [
    {
     "name": "stdout",
     "output_type": "stream",
     "text": [
      "measurement_0 =  [[1. 0. 0. 0.]\n",
      " [0. 1. 0. 0.]\n",
      " [0. 0. 0. 0.]\n",
      " [0. 0. 0. 0.]]\n",
      "measurement_1 =  [[0. 0. 0. 0.]\n",
      " [0. 0. 0. 0.]\n",
      " [0. 0. 1. 0.]\n",
      " [0. 0. 0. 1.]]\n"
     ]
    }
   ],
   "source": [
    "# first step\n",
    "\n",
    "measurement_0 = tensor_product(np.matmul(ket0, dagger(ket0)), np.eye(2))\n",
    "measurement_1 = tensor_product(np.matmul(ket1, dagger(ket1)), np.eye(2))\n",
    "print('measurement_0 = ',measurement_0)\n",
    "print('measurement_1 = ',measurement_1)"
   ]
  },
  {
   "cell_type": "code",
   "execution_count": 74,
   "id": "58483a86",
   "metadata": {},
   "outputs": [
    {
     "name": "stdout",
     "output_type": "stream",
     "text": [
      "P_0 =  (0.5857922115140082+0j)\n",
      "P_1 =  (0.41420778848599193+0j)\n",
      "P_0 + P_1 =  (1+0j)\n"
     ]
    }
   ],
   "source": [
    "P_0 = (dagger(psi_AB) * measurement_0 * psi_AB)[0,0]\n",
    "P_1 = (dagger(psi_AB) * measurement_1 * psi_AB)[0,0]\n",
    "print('P_0 = ',P_0)\n",
    "print('P_1 = ',P_1)\n",
    "print('P_0 + P_1 = ',P_0 + P_1)"
   ]
  },
  {
   "cell_type": "code",
   "execution_count": 46,
   "id": "78f5f54d",
   "metadata": {},
   "outputs": [
    {
     "name": "stdout",
     "output_type": "stream",
     "text": [
      "psi_0_AB =  [[0.74691737-0.16705283j]\n",
      " [0.        +0.j        ]\n",
      " [0.        +0.j        ]\n",
      " [0.        +0.j        ]]\n",
      "psi_1_AB =  [[0.        +0.j        ]\n",
      " [0.        +0.j        ]\n",
      " [0.        +0.j        ]\n",
      " [0.47262743-0.43684219j]]\n"
     ]
    }
   ],
   "source": [
    "psi_0_AB = np.matmul(measurement_0,psi_AB)\n",
    "psi_1_AB = np.matmul(measurement_1,psi_AB)\n",
    "print('psi_0_AB = ',psi_0_AB)\n",
    "print('psi_1_AB = ',psi_1_AB)"
   ]
  },
  {
   "cell_type": "code",
   "execution_count": 48,
   "id": "bd3fa7f9",
   "metadata": {},
   "outputs": [
    {
     "name": "stdout",
     "output_type": "stream",
     "text": [
      "psi_0_B =  [[0.74691737-0.16705283j]\n",
      " [0.        +0.j        ]]\n",
      "psi_1_B =  [[0.        +0.j        ]\n",
      " [0.47262743-0.43684219j]]\n"
     ]
    }
   ],
   "source": [
    "psi_0_B = dagger(tensor_product(ket0, np.eye(2))) * psi_0_AB\n",
    "psi_1_B = dagger(tensor_product(ket1, np.eye(2))) * psi_1_AB\n",
    "print('psi_0_B = ',psi_0_B)\n",
    "print('psi_1_B = ',psi_1_B)"
   ]
  },
  {
   "cell_type": "code",
   "execution_count": 63,
   "id": "d03acac3",
   "metadata": {},
   "outputs": [
    {
     "name": "stdout",
     "output_type": "stream",
     "text": [
      "phi_AB =  [[ 0.01874573+0.65415082j]\n",
      " [-0.08047478+0.32389803j]\n",
      " [-0.01577632+0.39658369j]\n",
      " [ 0.16888485-0.52373617j]]\n"
     ]
    }
   ],
   "source": [
    "# second step\n",
    "\n",
    "from scipy.linalg import expm\n",
    "random_2D = complex_rand(2)\n",
    "U = expm(-1j * (random_2D + dagger(random_2D))) # random unitary\n",
    "phi_AB = np.matmul(tensor_product(U,np.eye(2)), psi_AB)\n",
    "print('phi_AB = ',phi_AB)"
   ]
  },
  {
   "cell_type": "code",
   "execution_count": 73,
   "id": "6406c1ef",
   "metadata": {},
   "outputs": [
    {
     "name": "stdout",
     "output_type": "stream",
     "text": [
      "P_0_prime =  (0.5396508193363878+0j)\n",
      "P_1_prime =  (0.4603491806636123+0j)\n",
      "P_0_prime + P_1_prime =  (1+0j)\n"
     ]
    }
   ],
   "source": [
    "P_0_prime = (dagger(phi_AB) * measurement_0 * phi_AB)[0,0]\n",
    "P_1_prime = (dagger(phi_AB) * measurement_1 * phi_AB)[0,0]\n",
    "print('P_0_prime = ',P_0_prime)\n",
    "print('P_1_prime = ',P_1_prime)\n",
    "print('P_0_prime + P_1_prime = ',P_0_prime + P_1_prime)"
   ]
  },
  {
   "cell_type": "code",
   "execution_count": 65,
   "id": "7c538164",
   "metadata": {},
   "outputs": [
    {
     "name": "stdout",
     "output_type": "stream",
     "text": [
      "phi_0_AB =  [[ 0.01874573+0.65415082j]\n",
      " [-0.08047478+0.32389803j]\n",
      " [ 0.        +0.j        ]\n",
      " [ 0.        +0.j        ]]\n",
      "phi_1_AB =  [[ 0.        +0.j        ]\n",
      " [ 0.        +0.j        ]\n",
      " [-0.01577632+0.39658369j]\n",
      " [ 0.16888485-0.52373617j]]\n"
     ]
    }
   ],
   "source": [
    "phi_0_AB = np.matmul(measurement_0,phi_AB)\n",
    "phi_1_AB = np.matmul(measurement_1,phi_AB)\n",
    "print('phi_0_AB = ',phi_0_AB)\n",
    "print('phi_1_AB = ',phi_1_AB)"
   ]
  },
  {
   "cell_type": "code",
   "execution_count": 66,
   "id": "64d158ce",
   "metadata": {},
   "outputs": [
    {
     "name": "stdout",
     "output_type": "stream",
     "text": [
      "phi_0_B =  [[ 0.01874573+0.65415082j]\n",
      " [-0.08047478+0.32389803j]]\n",
      "phi_1_B =  [[-0.01577632+0.39658369j]\n",
      " [ 0.16888485-0.52373617j]]\n"
     ]
    }
   ],
   "source": [
    "phi_0_B = dagger(tensor_product(ket0, np.eye(2))) * phi_0_AB\n",
    "phi_1_B = dagger(tensor_product(ket1, np.eye(2))) * phi_1_AB\n",
    "print('phi_0_B = ',phi_0_B)\n",
    "print('phi_1_B = ',phi_1_B)"
   ]
  },
  {
   "cell_type": "code",
   "execution_count": 80,
   "id": "57902229",
   "metadata": {},
   "outputs": [
    {
     "name": "stdout",
     "output_type": "stream",
     "text": [
      "rho_B =  [[0.58579221+0.j 0.        +0.j]\n",
      " [0.        +0.j 0.41420779+0.j]]\n",
      "rho_B_prime =  [[ 5.85792212e-01+0.00000000e+00j -8.32667268e-17+4.85722573e-17j]\n",
      " [-8.32667268e-17-4.85722573e-17j  4.14207788e-01+0.00000000e+00j]]\n"
     ]
    }
   ],
   "source": [
    "# third step\n",
    "\n",
    "rho_B =  np.matmul(psi_0_B, dagger(psi_0_B)) + np.matmul(psi_1_B, dagger(psi_1_B))\n",
    "rho_B_prime =  np.matmul(phi_0_B, dagger(phi_0_B)) +  np.matmul(phi_1_B, dagger(phi_1_B))\n",
    "\n",
    "print('rho_B = ',rho_B)\n",
    "print('rho_B_prime = ',rho_B_prime)"
   ]
  },
  {
   "cell_type": "markdown",
   "id": "481b443e",
   "metadata": {
    "direction": "rtl"
   },
   "source": [
    "## جوابِ سؤال به شکلِ ریاضی\n",
    "\n",
    "\n",
    "##### مرحله اول\n",
    "با توجه به راهنمایی و تعاریف گفته شده در سوال ابتدا احتمال خروجی‌های مختلف را به دست می‌آوریم:\n",
    "$$ P(0) = \\langle \\psi_{AB} \\vert \\hat{P}_0 \\vert \\psi_{AB} \\rangle = \\vert \\alpha \\vert^2 $$\n",
    "$$ P(1) = \\langle \\psi_{AB} \\vert \\hat{P}_1 \\vert \\psi_{AB} \\rangle = \\vert \\beta \\vert^2 $$\n",
    "دوباره با استفاده از عبارتی که داده شده کافی است $\\vert \\psi \\rangle$ را جایگذاری کنیم و حالت بعد از هر خروجی را به دست آوریم.\n",
    "\n",
    "$$\\vert \\psi_0 \\rangle_{AB} = (\\vert 0 \\rangle_A \\langle 0 \\vert \\otimes \\mathbb{1}_B ) \\vert \\psi \\rangle = \\alpha \\vert 00 \\rangle$$\n",
    "$$\\vert \\psi_1 \\rangle_{AB} = (\\vert 1 \\rangle_A \\langle 1 \\vert \\otimes \\mathbb{1}_B ) \\vert \\psi \\rangle = \\beta \\vert 11 \\rangle$$\n",
    "که با تقسیم کردن این دو بر مجذور احتمال‌هایی که در همین بخش به دست آوردیم می‌توانیم آنها را نرمال کنیم.\n",
    "$$\\vert \\psi_0 \\rangle_{AB} = \\frac{\\alpha}{\\vert \\alpha \\vert} \\vert 00 \\rangle$$\n",
    "$$\\vert \\psi_1 \\rangle_{AB} = \\frac{\\beta}{\\vert \\beta \\vert} \\vert 11 \\rangle$$\n",
    "\n",
    "حالا اگر بخواهیم با استفاده از حالت‌های بالا حالت باب را به دست آوریم کافی است بخش مروبط به باب را برداریم.\n",
    "$$\\vert \\psi_0 \\rangle_{AB} = \\frac{\\alpha}{\\vert \\alpha \\vert} \\vert 0 \\rangle_A \\vert 0 \\rangle_B \\rightarrow \\vert \\psi_0\\rangle_B = \\frac{\\alpha}{\\vert \\alpha \\vert} \\vert 0 \\rangle_B $$\n",
    "$$\\vert \\psi_1 \\rangle_{AB} = \\frac{\\beta}{\\vert \\beta \\vert} \\vert 1 \\rangle_A \\vert 1 \\rangle_B \\rightarrow \\vert \\psi_1\\rangle_B = \\frac{\\beta}{\\vert \\beta \\vert} \\vert 1 \\rangle_B $$\n",
    "\n",
    "\n",
    "##### مرحله دوم\n",
    "کاملا مشابه مرحله قبل تک تک مراحل را انجام می‌دهیم. فقط قبل از آن باید حالت بعد از اثر ماتریس یکانی را پیدا کنیم.\n",
    "$$U = \\begin{pmatrix} a & b \\\\ -b^* & a^* \\end{pmatrix}, \\quad \\vert a \\vert^2 + \\vert b \\vert^2 = 1$$\n",
    "حالت سیستم بعد از اثر این ماتریس را به دست آورید.\n",
    "$$\\vert \\phi_{AB} \\rangle = ( U \\otimes \\mathbb{1}_B ) \\vert \\psi_{AB} \\rangle $$\n",
    "$$ \\vert \\phi_{AB} \\rangle = \\alpha (U \\vert 0 \\rangle) \\vert 0 \\rangle + \\beta (U \\vert 1 \\rangle ) \\vert 1 \\rangle = \\alpha ( a \\vert 0 \\rangle - b^* \\vert 1 \\rangle ) \\vert 0 \\rangle + \\beta ( b \\vert 0 \\rangle + a^* \\vert 1 \\rangle) \\vert 1 \\rangle $$\n",
    "\n",
    "با توجه به راهنمایی و تعاریف گفته شده در سوال ابتدا احتمال خروجی‌های مختلف را به دست می‌آوریم:\n",
    "$$ P^\\prime(0) = \\langle \\phi_{AB} \\vert \\hat{P}_0 \\vert \\phi_{AB} \\rangle = \\vert \\alpha \\vert^2 \\vert a \\vert^2+ \\vert \\beta \\vert^2 \\vert b \\vert^2 $$\n",
    "$$ P^\\prime(1) = \\langle \\phi_{AB} \\vert \\hat{P}_1 \\vert \\phi_{AB} \\rangle = \\vert \\beta \\vert^2 \\vert a \\vert^2 + \\vert \\alpha \\vert^2 \\vert b \\vert^2 $$\n",
    "دوباره با استفاده از عبارتی که داده شده کافی است $\\vert \\phi \\rangle$ را جایگذاری کنیم و حالت بعد از هر خروجی را به دست آوریم.\n",
    "\n",
    "$$\\vert \\phi_0 \\rangle_{AB} = (\\vert 0 \\rangle_A \\langle 0 \\vert \\otimes \\mathbb{1}_B ) \\vert \\phi \\rangle = \\alpha a \\vert 00 \\rangle + \\beta b \\vert 01 \\rangle$$\n",
    "$$\\vert \\phi_1 \\rangle_{AB} = (\\vert 1 \\rangle_A \\langle 1 \\vert \\otimes \\mathbb{1}_B ) \\vert \\phi \\rangle = -\\alpha b^* \\vert 10 \\rangle + \\beta a^* \\vert 11 \\rangle$$\n",
    "که با تقسیم کردن این دو بر مجذور احتمال‌هایی که در همین بخش به دست آوردیم می‌توانیم آنها را نرمال کنیم.\n",
    "حالا اگر بخواهیم با استفاده از حالت‌های بالا حالت باب را به دست آوریم کافی است بخش مروبط به باب را برداریم.\n",
    "$$\\vert \\phi_0 \\rangle_{AB} = \\frac{1}{\\sqrt{P^\\prime_0}}\\big( \\alpha a \\vert 00 \\rangle + \\beta b \\vert 01 \\rangle \\big) \\rightarrow \\vert \\phi_0\\rangle_B = \\frac{\\alpha a}{\\sqrt{P^\\prime_0}} \\vert 0 \\rangle_B + \\frac{\\beta b}{\\sqrt{P^\\prime_0}} \\vert 1 \\rangle_B $$\n",
    "$$\\vert \\phi_1 \\rangle_{AB} = \\frac{1}{\\sqrt{P^\\prime_1}}\\big( -\\alpha b^* \\vert 10 \\rangle + \\beta a^* \\vert 11 \\rangle \\big) \\rightarrow \\vert \\phi_1\\rangle_B = \\frac{-\\alpha b^*}{\\sqrt{P^\\prime_1}} \\vert 0 \\rangle_B + \\frac{\\beta a^*}{\\sqrt{P^\\prime_1}} \\vert 1 \\rangle_B $$\n",
    "\n",
    "##### مرحله سوم\n",
    "حالت دست باب بعد از آزمایش اول مطابق زیر است:\n",
    "$$\\rho_B = P(0) \\; \\vert \\psi_0 \\rangle_{B}\\langle \\psi_0 \\vert + P(1) \\; \\vert \\psi_1 \\rangle_{B}\\langle \\psi_1 \\vert = \\vert \\alpha \\vert^2 \\vert 0 \\rangle \\langle 0 \\vert + \\vert \\beta \\vert^2 \\vert 1 \\rangle \\langle 1 \\vert$$\n",
    "همچنین حالت باب بعد از آزمایش دوم به شکل زیر می‌شود:\n",
    "$$\\rho^\\prime_B = P^\\prime(0) \\; \\vert \\phi_0 \\rangle_{B}\\langle \\phi_0 \\vert + P^\\prime(1) \\; \\vert \\phi_1 \\rangle_{B}\\langle \\phi_1 \\vert = \\vert \\alpha \\vert^2 \\vert 0 \\rangle \\langle 0 \\vert + \\vert \\beta \\vert^2 \\vert 1 \\rangle \\langle 1 \\vert$$\n",
    "که می‌بینیم که هر دو برابر هستند.\n",
    "$$\\rho_B = \\rho^\\prime_B$$"
   ]
  }
 ],
 "metadata": {
  "kernelspec": {
   "display_name": "Python 3 (ipykernel)",
   "language": "python",
   "name": "python3"
  },
  "language_info": {
   "codemirror_mode": {
    "name": "ipython",
    "version": 3
   },
   "file_extension": ".py",
   "mimetype": "text/x-python",
   "name": "python",
   "nbconvert_exporter": "python",
   "pygments_lexer": "ipython3",
   "version": "3.8.10"
  }
 },
 "nbformat": 4,
 "nbformat_minor": 5
}
