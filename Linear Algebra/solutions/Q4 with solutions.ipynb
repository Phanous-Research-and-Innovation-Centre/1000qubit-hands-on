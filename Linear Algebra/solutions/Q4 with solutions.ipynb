{
 "cells": [
  {
   "cell_type": "markdown",
   "id": "e80aa7cd",
   "metadata": {
    "direction": "rtl"
   },
   "source": [
    "# سؤالِ چهارم"
   ]
  },
  {
   "cell_type": "markdown",
   "id": "ef95c142",
   "metadata": {
    "direction": "rtl"
   },
   "source": [
    "تعریف کنید\n",
    "$$\\vert{\\Phi}\\rangle = \\frac{1}{\\sqrt 2}(\\vert 0\\rangle \\vert 0\\rangle+\\vert 1\\rangle\\vert 1\\rangle).$$\n",
    "توجه کنید که این بردار یکی از اعضای پایه بل است که در سوال اول با آن آشنا شدیم. در واقع این بردار (و بقیه اعضای پایه بل) «درهم‌تنیده‌ترین» حالات کوانتومی هستند. در این تمرین یاد می‌گیریم که این بردار به نوعی مستقل از پایه است.\n",
    " \n",
    "1. قرار دهید  \n",
    "$$\\vert{\\pm}\\rangle=\\frac{1}{\\sqrt 2} (\\vert 0\\rangle\\pm \\vert 1\\rangle).$$\n",
    "بررسی کنید که \n",
    "$\\vert{\\Phi}\\rangle = \\frac{1}{\\sqrt 2}(\\vert +\\rangle\\vert +\\rangle+\\vert -\\rangle\\vert -\\rangle)$.\n"
   ]
  },
  {
   "cell_type": "markdown",
   "id": "65e5e1df",
   "metadata": {
    "direction": "rtl"
   },
   "source": [
    "2. توجه کنید که طبق قسمت قبل داریم \n",
    "$H\\otimes \\overline H \\vert{\\Phi}\\rangle = \\vert{\\Phi}\\rangle$\n",
    "که در آن \n",
    "$$H=\\frac{1}{\\sqrt 2}\\begin{pmatrix}\n",
    "1 & 1\\\\\n",
    "1 &-1\n",
    "\\end{pmatrix}.$$\n",
    "نشان دهید این رابطه در حالت کلی برای هر ماتریس  یکانی $U$ برقرار است. یعنی \n",
    "$U\\otimes \\overline U\\vert{\\Phi}\\rangle = \\vert{\\Phi}\\rangle$\n",
    ". در اینجا منظور از \n",
    "$\\overline U$\n",
    "ماتریسی است که از مزدوج مختلط کردن درایه‌های ماتریس $U$ بدست می‌آید یعنی \n",
    "$\\langle i \\vert \\overline U \\vert j \\rangle= \\overline{\\langle i \\vert U \\vert j\\rangle}$\n",
    ".\n",
    "\n",
    " "
   ]
  },
  {
   "cell_type": "markdown",
   "id": "416b406e",
   "metadata": {
    "direction": "rtl"
   },
   "source": [
    "3. نشان دهید\n",
    "$tr A = \\frac{1}{2} \\langle \\Phi\\vert A\\otimes I\\vert \\Phi\\rangle$\n",
    "\n"
   ]
  },
  {
   "cell_type": "markdown",
   "id": "60c62590",
   "metadata": {
    "direction": "rtl"
   },
   "source": [
    "## آماده‌سازی‌ها"
   ]
  },
  {
   "cell_type": "code",
   "execution_count": 92,
   "id": "6960f7ce",
   "metadata": {},
   "outputs": [],
   "source": [
    "import numpy as np"
   ]
  },
  {
   "cell_type": "code",
   "execution_count": 93,
   "id": "acad0b3e",
   "metadata": {},
   "outputs": [],
   "source": [
    "# you can create a random matrix/vector using this function\n",
    "def complex_rand(*args):\n",
    "    return np.random.rand(*args) * np.exp(1j * 2 * np.pi * np.random.rand(*args))"
   ]
  },
  {
   "cell_type": "code",
   "execution_count": 94,
   "id": "5e76e552",
   "metadata": {},
   "outputs": [],
   "source": [
    "def dagger(x : str):\n",
    "    return np.mat(x).conj().T\n",
    "# e.g. dagger(np.mat([1 + 1j,0,0]))"
   ]
  },
  {
   "cell_type": "code",
   "execution_count": 95,
   "id": "31fb3a1c",
   "metadata": {},
   "outputs": [],
   "source": [
    "def tensor_product(a, b):\n",
    "    return np.kron(a, b)"
   ]
  },
  {
   "cell_type": "code",
   "execution_count": 96,
   "id": "45509412",
   "metadata": {},
   "outputs": [],
   "source": [
    "np.eye?"
   ]
  },
  {
   "cell_type": "markdown",
   "id": "25022d3c",
   "metadata": {
    "direction": "rtl"
   },
   "source": [
    "## جوابِ سؤال به شکلِ کد"
   ]
  },
  {
   "cell_type": "code",
   "execution_count": 87,
   "id": "56124264",
   "metadata": {},
   "outputs": [],
   "source": [
    "# part 1\n",
    "ket0 = np.array([[1], [0]])\n",
    "ket1 = np.array([[0], [1]])\n",
    "phi = (tensor_product(ket0, ket0) + tensor_product(ket1, ket1)) / np.sqrt(2)\n",
    "plus = np.reshape((ket0 + ket1) / np.sqrt(2),(2,1))\n",
    "minus = np.reshape((ket0 - ket1) / np.sqrt(2),(2,1))"
   ]
  },
  {
   "cell_type": "code",
   "execution_count": 98,
   "id": "d660616f",
   "metadata": {},
   "outputs": [
    {
     "name": "stdout",
     "output_type": "stream",
     "text": [
      "True\n"
     ]
    }
   ],
   "source": [
    "print((abs(phi - ((tensor_product(plus, plus) + tensor_product(minus, minus)) / np.sqrt(2))) < 0.001).all())"
   ]
  },
  {
   "cell_type": "code",
   "execution_count": 89,
   "id": "7967804f",
   "metadata": {},
   "outputs": [
    {
     "name": "stdout",
     "output_type": "stream",
     "text": [
      "True\n"
     ]
    }
   ],
   "source": [
    "# part 2\n",
    "# create Unitary matrices\n",
    "\n",
    "\n",
    "def random_basis(d : int):\n",
    "    res = []\n",
    "    while len(res) < d:\n",
    "        v = complex_rand(d, 1)\n",
    "        for r in res:\n",
    "            v -= complex(np.matmul(dagger(r), v)) * r\n",
    "        if np.linalg.norm(v) == 0:\n",
    "            continue\n",
    "        v = v / np.linalg.norm(v)\n",
    "        res.append(v)\n",
    "    return res\n",
    "\n",
    "U = np.hstack(random_basis(2))\n",
    "print((phi - np.matmul(tensor_product(U, U.conj()), phi) < 0.001).all())"
   ]
  },
  {
   "cell_type": "code",
   "execution_count": 99,
   "id": "93a657c7",
   "metadata": {},
   "outputs": [
    {
     "name": "stdout",
     "output_type": "stream",
     "text": [
      "True\n"
     ]
    }
   ],
   "source": [
    "# part 3\n",
    "\n",
    "A = complex_rand(2,2)\n",
    "print((abs(np.trace(A) / 2 - np.matmul(dagger(phi), np.matmul(tensor_product(A,np.eye(2)), phi))) < 0.001).all())"
   ]
  },
  {
   "cell_type": "markdown",
   "id": "2287aff1",
   "metadata": {
    "direction": "rtl"
   },
   "source": [
    "## جوابِ سؤال به شکلِ ریاضی\n",
    "### جواب بخش ۱\n",
    "می‌دانیم\n",
    "$$\\vert 0\\rangle=\\frac{1}{\\sqrt 2}\\big(\\vert +\\rangle +\\vert - \\rangle \\big), \\quad \\vert 1\\rangle=\\frac{1}{\\sqrt 2}\\big(\\vert{+}\\rangle-\\vert{-}\\rangle\\big).\n",
    "$$\n",
    "لذا داریم\n",
    "\\begin{align*}\n",
    "\\vert{\\Phi}\\rangle=\\frac{1}{\\sqrt 2}(\\vert 0\\rangle\\vert 0\\rangle+\\vert 1\\rangle\\vert 1\\rangle)= &\\frac {1}{2\\sqrt 2} \\big(\\vert +\\rangle +\\vert -\\rangle \\big)\\big(\\vert +\\rangle +\\vert -\\rangle \\big)+\\big(\\vert{+}\\rangle-\\vert{-}\\rangle\\big)\\big(\\vert{+}\\rangle-\\vert{-}\\rangle\\big)\\\\\n",
    "= & \\frac{1}{\\sqrt 2}(\\vert+\\rangle\\vert+\\rangle+\\vert -\\rangle\\vert -\\rangle)\n",
    "\\end{align*}\n",
    "\n",
    "\n",
    "### جواب بخش ۲\n",
    "$U$ یک ماتریس یکانی هست لذا\n",
    "$$U=\\begin{bmatrix}\n",
    "a & b \\\\ \n",
    "\\bar{b} & \\bar{a}\n",
    "\\end{bmatrix}, \\quad |a|^2+|b|^2=1.$$\n",
    "پس داریم\n",
    "\\begin{align*}\n",
    "U\\otimes \\overline{U}\\frac{\\vert{00}\\rangle+\\vert{11}\\rangle}{\\sqrt 2}= &\\frac{1}{\\sqrt 2}\\Big(U\\vert{0}\\rangle\\otimes\\overline{U}\\vert{0}\\rangle+U\\vert{1}\\rangle\\otimes\\overline{U}\\vert{1}\\rangle\\Big) \\\\ = &\n",
    "\\frac{1}{\\sqrt 2}\\Big(\\big(a\\vert{0}\\rangle+\\overline{b}\\vert{1}\\rangle\\big)\\otimes\\big(\\overline{a}\\vert{0}\\rangle+b\\vert{1}\\rangle\\big)+\\big(b\\vert{0}\\rangle+\\overline{a}\\vert{1}\\rangle\\big)\\otimes\\big(\\overline{b}\\vert{0}\\rangle+a\\vert{1}\\rangle\\big)\\Big) \\\\ = &\n",
    "\\frac{1}{\\sqrt 2}\\Big(\\big(|a|^2+|b|^2\\big)\\vert{00}\\rangle+\\big(|a|^2+|b|^2\\big)\\vert{11}\\rangle+\\big(ab-ba\\big)\\vert{01}\\rangle+\\big(\\overline{b}\\overline{a}-\\overline{a}\\overline{b}\\big)\\vert{10}\\rangle\\Big) \\\\= &\n",
    "\\vert{\\Phi}\\rangle.\n",
    "\\end{align*}\n",
    "\n",
    "\n",
    "\n",
    "### جواب بخش ۳\n",
    "\n",
    "\\begin{align*}\n",
    "\\langle \\Phi\\vert A\\otimes I\\vert \\Phi\\rangle\n",
    "& =\\frac{1}{2}\\Big( \\langle{00}\\vert A\\otimes I\\vert{00}\\rangle+\\langle{00}\\vert A\\otimes I\\vert{11}\\rangle+\\langle{11}\\vert A\\otimes I\\vert{00}\\rangle+ \\langle{11}\\vert A\\otimes I\\vert{11}\\rangle\\Big) \\\\ & =\n",
    "\\frac 12 \\Big(\\langle 0\\vert A \\vert 0\\rangle \\times 1 + \\langle 0\\vert A \\vert 1\\rangle \\times 0 +\\langle 1\\vert A \\vert 0\\rangle \\times 0+\\langle 1\\vert A \\vert 1\\rangle \\times 1\\Big) \\\\ & =\n",
    "\\frac 12\\langle 0\\vert A \\vert 0\\rangle+\\langle 1\\vert A \\vert 1\\rangle \\\\ & =\\frac 12 \\mathrm{tr} A.\n",
    "\\end{align*}\n",
    "\n"
   ]
  }
 ],
 "metadata": {
  "kernelspec": {
   "display_name": "Python 3 (ipykernel)",
   "language": "python",
   "name": "python3"
  },
  "language_info": {
   "codemirror_mode": {
    "name": "ipython",
    "version": 3
   },
   "file_extension": ".py",
   "mimetype": "text/x-python",
   "name": "python",
   "nbconvert_exporter": "python",
   "pygments_lexer": "ipython3",
   "version": "3.8.10"
  }
 },
 "nbformat": 4,
 "nbformat_minor": 5
}
