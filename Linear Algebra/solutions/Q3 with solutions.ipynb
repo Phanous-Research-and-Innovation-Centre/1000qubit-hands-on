{
 "cells": [
  {
   "cell_type": "markdown",
   "id": "e80aa7cd",
   "metadata": {
    "direction": "rtl"
   },
   "source": [
    "# سؤالِ سوم"
   ]
  },
  {
   "cell_type": "markdown",
   "id": "d5c80fa8",
   "metadata": {
    "direction": "rtl"
   },
   "source": [
    "موارد زیر را ثابت کنید.\n",
    "\n",
    "1. $(A\\otimes B)^{\\dagger} = A^{\\dagger}\\otimes B^{\\dagger}$\n"
   ]
  },
  {
   "cell_type": "markdown",
   "id": "f930e9df",
   "metadata": {
    "direction": "rtl"
   },
   "source": [
    "2. اگر $A, B$ هرمیتی باشند، $A\\otimes B$ نیز هرمیتی است."
   ]
  },
  {
   "cell_type": "markdown",
   "id": "2ac3e390",
   "metadata": {
    "direction": "rtl"
   },
   "source": [
    "3. اگر $A, B$ یکانی باشند، $A\\otimes B$ نیز یکانی است."
   ]
  },
  {
   "cell_type": "markdown",
   "id": "a7247a48",
   "metadata": {
    "direction": "rtl"
   },
   "source": [
    "## آماده‌سازی‌ها"
   ]
  },
  {
   "cell_type": "code",
   "execution_count": 121,
   "id": "56124264",
   "metadata": {},
   "outputs": [],
   "source": [
    "import numpy as np"
   ]
  },
  {
   "cell_type": "code",
   "execution_count": 122,
   "id": "786456f3",
   "metadata": {},
   "outputs": [],
   "source": [
    "# you can create a random matrix/vector using this function\n",
    "def complex_rand(*args):\n",
    "    return np.random.rand(*args) * np.exp(1j * 2 * np.pi * np.random.rand(*args))"
   ]
  },
  {
   "cell_type": "code",
   "execution_count": 123,
   "id": "4b5bbaf7",
   "metadata": {},
   "outputs": [],
   "source": [
    "def dagger(x : str):\n",
    "    return np.mat(x).conj().T\n",
    "# e.g. dagger(np.mat([1 + 1j,0,0]))"
   ]
  },
  {
   "cell_type": "code",
   "execution_count": 124,
   "id": "445dd734",
   "metadata": {},
   "outputs": [],
   "source": [
    "def tensor_product(a, b):\n",
    "    return np.kron(a, b)"
   ]
  },
  {
   "cell_type": "markdown",
   "id": "25022d3c",
   "metadata": {
    "direction": "rtl"
   },
   "source": [
    "## جوابِ سؤال به شکلِ کد"
   ]
  },
  {
   "cell_type": "code",
   "execution_count": 125,
   "id": "c3d35c13",
   "metadata": {},
   "outputs": [
    {
     "name": "stdout",
     "output_type": "stream",
     "text": [
      "A =  [[-0.22530537-0.23923365j -0.17002669-0.48125799j]\n",
      " [-0.24339912-0.51361177j  0.48054755+0.80534746j]]\n",
      "B =  [[ 0.34022099+0.80197774j -0.32912457-0.01028617j  0.23826179+0.63899931j\n",
      "   0.1045768 +0.51964984j]\n",
      " [ 0.35769731-0.30111226j  0.39746752+0.14046694j -0.11730029+0.82205244j\n",
      "   0.11612227+0.04261476j]\n",
      " [ 0.63811436-0.32085126j  0.02829931-0.02141019j -0.89339575-0.15193772j\n",
      "  -0.35567946+0.08985169j]\n",
      " [-0.14507002-0.16267495j  0.03021072+0.07813137j -0.1157774 +0.5003231j\n",
      "   0.86405141-0.0160464j ]]\n"
     ]
    }
   ],
   "source": [
    "# part 1\n",
    "# creat complex matrices\n",
    "A = complex_rand(2, 2)\n",
    "B = complex_rand(4, 4)\n",
    "print(\"A = \", A)\n",
    "print(\"B = \", B)"
   ]
  },
  {
   "cell_type": "code",
   "execution_count": 126,
   "id": "874b2bcf",
   "metadata": {},
   "outputs": [],
   "source": [
    "#conjugate and transpose\n",
    "A_dagger = dagger(A)\n",
    "B_dagger = dagger(B)"
   ]
  },
  {
   "cell_type": "code",
   "execution_count": 127,
   "id": "ab962134",
   "metadata": {},
   "outputs": [
    {
     "name": "stdout",
     "output_type": "stream",
     "text": [
      "True\n"
     ]
    }
   ],
   "source": [
    "print((abs(dagger(tensor_product(A, B)) - tensor_product(A_dagger, B_dagger)) < 0.001).all())"
   ]
  },
  {
   "cell_type": "code",
   "execution_count": 128,
   "id": "ca647b03",
   "metadata": {},
   "outputs": [],
   "source": [
    "# part 2\n",
    "# create Hermitian matrices\n",
    "# a Hermitian matrix is equal to its conjugate transpose\n",
    "\n",
    "S_A = complex_rand(4,4)\n",
    "S_B = complex_rand(3,3)\n",
    "\n",
    "# S + S_dagger is a hermitian matrix\n",
    "A = S_A + dagger(S_A)\n",
    "B = S_B + dagger(S_B)\n"
   ]
  },
  {
   "cell_type": "code",
   "execution_count": 129,
   "id": "b53e608f",
   "metadata": {},
   "outputs": [
    {
     "name": "stdout",
     "output_type": "stream",
     "text": [
      "True True True\n"
     ]
    }
   ],
   "source": [
    "check_A = (abs(A - dagger(A)) < 0.001).all()\n",
    "check_B = (abs(B - dagger(B)) < 0.001).all()\n",
    "check_AB = (abs(tensor_product(A,B) - dagger(tensor_product(A,B))) < 0.001).all()\n",
    "print(check_A,check_B,check_AB)"
   ]
  },
  {
   "cell_type": "code",
   "execution_count": 130,
   "id": "85faa176",
   "metadata": {},
   "outputs": [
    {
     "name": "stdout",
     "output_type": "stream",
     "text": [
      "True True True\n"
     ]
    }
   ],
   "source": [
    "# part 3\n",
    "# create Unitary matrices\n",
    "\n",
    "\n",
    "def random_basis(d : int):\n",
    "    res = []\n",
    "    while len(res) < d:\n",
    "        v = complex_rand(d, 1)\n",
    "        for r in res:\n",
    "            v -= complex(np.matmul(dagger(r), v)) * r\n",
    "        if np.linalg.norm(v) == 0:\n",
    "            continue\n",
    "        v = v / np.linalg.norm(v)\n",
    "        res.append(v)\n",
    "    return res\n",
    "\n",
    "A = np.hstack(random_basis(3))\n",
    "B = np.hstack(random_basis(4))\n",
    "check_A = (abs(np.matmul(A, dagger(A)) - np.eye(3)) < 0.001).all()\n",
    "check_B = (abs(np.matmul(B, dagger(B)) - np.eye(4)) < 0.001).all()\n",
    "check_AB = (abs(np.matmul(tensor_product(A, B), dagger(tensor_product(A, B))) - np.eye(12)) < 0.001).all()\n",
    "print(check_A,check_B,check_AB)"
   ]
  },
  {
   "cell_type": "markdown",
   "id": "02685702",
   "metadata": {
    "direction": "rtl"
   },
   "source": [
    "## جوابِ سؤال به شکلِ ریاضی\n",
    "\n",
    "### جواب بخش ۱\n",
    "از تعریف ماتریس الحاقی می‌دانیم که \n",
    "$$\\langle w \\vert A \\vert v\\rangle^* = \\langle w \\vert A^\\dagger \\vert v \\rangle$$\n",
    "از پایه‌های فضای ضرب تانسوری استفاده می‌کنیم و آن‌ها را به شکل زیر در نظر می‌گیریم.\n",
    "$$\\{ \\vert v_i \\rangle \\otimes \\vert u_j \\rangle \\}$$\n",
    "حالا به یک درایه دلخواه از ماتریس نگاه می‌کنیم.\n",
    "$$\\langle v_i \\vert \\otimes \\langle u_j \\vert (A\\otimes B) \\vert v_k \\rangle \\otimes \\vert u_l \\rangle = \\langle v_i \\vert A\\vert v_k \\rangle \\langle u_j \\vert B\\vert u_l \\rangle = A_{ik} B_{jl}$$\n",
    "حالا از تعریف ماتریس الحاقی و رابطه بالا استفاده می‌کنیم و می‌توانیم درستی عبارت سوال را نشان دهیم.\n",
    "$$ \\langle v_i \\vert \\otimes \\langle u_j \\vert (A\\otimes B)^\\dagger \\vert v_k \\rangle \\otimes \\vert u_l \\rangle = \\langle v_i \\vert \\otimes \\langle u_j \\vert (A\\otimes B) \\vert v_k \\rangle \\otimes \\vert u_l \\rangle^* = A_{ik}^* B_{jl}^* = \\langle v_i \\vert A\\vert v_k\\rangle^* \\langle u_j\\vert B\\vert u_l \\rangle^* = \\langle v_i\\vert A^\\dagger \\vert v_k\\rangle \\langle u_j\\vert B^\\dagger\\vert u_l\\rangle $$\n",
    "در رابطه بالا از تعریف ماتریس الحاقی برای A و B هم استفاده کردیم. \n",
    "### جواب بخش ۲\n",
    "برای اینکه نشان دهیم $A\\otimes B$ هرمیتی است کافی است نشان دهیم که $A \\otimes B = (A \\otimes B)^\\dagger$. برای این از بخش قبل کمک می‌گیریم و می‌نویسیم:\n",
    "$$(A \\otimes B)^\\dagger = A^\\dagger \\otimes B^\\dagger = A \\otimes B$$\n",
    "در رابطه بالا از هرمیتی بودن A و B هم استفاده کردیم.\n",
    "### جواب بخش ۳\n",
    "در این سوال دو ماتریس یکانی در نظر می‌گیریم و از نتیجه بخش اول نیز استفاده می‌کنیم.\n",
    "$$(U_1 \\otimes U_2)^\\dagger (U_1 \\otimes U_2) = (U_1^\\dagger \\otimes U_2^\\dagger) (U_1\\otimes U_2) = U_1^\\dagger U_1 \\otimes U_2^\\dagger U_2 = \\mathbb{1}_1 \\otimes \\mathbb{1}_2$$"
   ]
  }
 ],
 "metadata": {
  "kernelspec": {
   "display_name": "Python 3 (ipykernel)",
   "language": "python",
   "name": "python3"
  },
  "language_info": {
   "codemirror_mode": {
    "name": "ipython",
    "version": 3
   },
   "file_extension": ".py",
   "mimetype": "text/x-python",
   "name": "python",
   "nbconvert_exporter": "python",
   "pygments_lexer": "ipython3",
   "version": "3.8.10"
  }
 },
 "nbformat": 4,
 "nbformat_minor": 5
}
