{
 "cells": [
  {
   "cell_type": "markdown",
   "id": "e80aa7cd",
   "metadata": {
    "direction": "rtl"
   },
   "source": [
    "# سؤالِ دوم"
   ]
  },
  {
   "cell_type": "markdown",
   "id": "03ff9958",
   "metadata": {
    "direction": "rtl"
   },
   "source": [
    "\n",
    "توی این تمرین یه مقدار بیشتر با خواص تریس ماتریس‌ها آشنا می‌شویم. توجه کنید که تریس یک ماتریس $d\\times d$ برابر با مجموع عناصر روی قطر آن است. طبق نمادگذاری دیراک \n",
    "تعریف تریس به فرم زیر است:\n",
    " $$\\mathrm{tr} A=\\sum_{i=0}^{d-1} \\langle i\\vert A\\vert i\\rangle$$\n",
    " \n",
    "1. نشان دهید تعریف $\\mathrm{tr}$ مستقل از انتخاب پایه است. یعنی برای هر پایه‌ی متعامد یکه‌ی ‌دیگری مانند\n",
    "$\\{\\vert v_0 \\rangle, \\vert v_1 \\rangle, \\dots,\\vert v_{d-1} \\rangle\\}$ \n",
    "نیز داریم\n",
    "$\\mathrm{tr} A=\\sum_{i=0}^{d-1} \\langle v_i\\vert A\\vert v_i\\rangle$.\n",
    "\n",
    "راهنمایی: اعضای پایه $\\{\\vert v_0 \\rangle, \\vert v_1 \\rangle, \\dots,\\vert v_{d-1} \\rangle\\}$ را بر حسب پایه محاسباتی\n",
    "$\\{\\vert 0 \\rangle, \\vert 1 \\rangle, \\dots,\\vert {d-1} \\rangle\\}$ \n",
    "بسط دهید و از خاصیت متعامد یکه بودن استفاده کنید. روش دیگر این که می‌توانید از تساوی\n",
    "$\\sum_i \\vert{v_i}\\rangle \\langle{v_i}\\vert =I$\n",
    "استفاده کنید.\n"
   ]
  },
  {
   "cell_type": "markdown",
   "id": "b1dd13c8",
   "metadata": {
    "direction": "rtl"
   },
   "source": [
    "2. نشان دهید برای هر دو ماتریس\n",
    " $A, B$\n",
    " داریم\n",
    "$tr(AB)=tr(BA)$\n"
   ]
  },
  {
   "cell_type": "markdown",
   "id": "6bc96008",
   "metadata": {
    "direction": "rtl"
   },
   "source": [
    "3. نشان دهید\n",
    " $tr(A\\otimes B)= tr(A) tr(B)$"
   ]
  },
  {
   "cell_type": "markdown",
   "id": "6969098e",
   "metadata": {
    "direction": "rtl"
   },
   "source": [
    "## آماده‌سازی‌ها"
   ]
  },
  {
   "cell_type": "code",
   "execution_count": 166,
   "id": "e31a9e27",
   "metadata": {},
   "outputs": [],
   "source": [
    "import numpy as np"
   ]
  },
  {
   "cell_type": "code",
   "execution_count": 167,
   "id": "64ce2c65",
   "metadata": {},
   "outputs": [],
   "source": [
    "# you can create a random matrix/vector using this function\n",
    "def complex_rand(*args):\n",
    "    return np.random.rand(*args) * np.exp(1j * 2 * np.pi * np.random.rand(*args))"
   ]
  },
  {
   "cell_type": "code",
   "execution_count": 168,
   "id": "ac20e7d9",
   "metadata": {},
   "outputs": [],
   "source": [
    "def dagger(x : str):\n",
    "    return np.mat(x).conj().T\n",
    "# e.g. dagger(np.mat([1 + 1j,0,0]))"
   ]
  },
  {
   "cell_type": "code",
   "execution_count": 169,
   "id": "2a7e7989",
   "metadata": {},
   "outputs": [],
   "source": [
    "# only use in 2nd and 3rd parts\n",
    "np.trace?"
   ]
  },
  {
   "cell_type": "code",
   "execution_count": 170,
   "id": "5355191b",
   "metadata": {},
   "outputs": [],
   "source": [
    "# only for 3rd part\n",
    "def tensor_product(a, b):\n",
    "    return np.kron(a, b)"
   ]
  },
  {
   "cell_type": "code",
   "execution_count": 171,
   "id": "3063c2f5",
   "metadata": {},
   "outputs": [],
   "source": [
    "np.matmul?"
   ]
  },
  {
   "cell_type": "code",
   "execution_count": 172,
   "id": "6a5791aa",
   "metadata": {},
   "outputs": [],
   "source": [
    "np.dot?"
   ]
  },
  {
   "cell_type": "code",
   "execution_count": 173,
   "id": "f41f8f91",
   "metadata": {
    "scrolled": true
   },
   "outputs": [],
   "source": [
    "np.linalg.norm?"
   ]
  },
  {
   "cell_type": "markdown",
   "id": "18164f3c",
   "metadata": {
    "direction": "rtl"
   },
   "source": [
    "## جوابِ سؤال به شکلِ کد"
   ]
  },
  {
   "cell_type": "code",
   "execution_count": 174,
   "id": "7faa44a8",
   "metadata": {},
   "outputs": [
    {
     "name": "stdout",
     "output_type": "stream",
     "text": [
      "A =  [[0.0138207  0.98256123 0.90250655]\n",
      " [0.08977324 0.18821074 0.16648929]\n",
      " [0.84548975 0.79004111 0.39414387]]\n",
      "vs =  [array([[-0.44383389+0.28302731j],\n",
      "       [ 0.63636655-0.42350056j],\n",
      "       [ 0.34667493-0.13567756j]]), array([[0.43685712-0.72396064j],\n",
      "       [0.26844166-0.43933643j],\n",
      "       [0.07371064-0.12052454j]]), array([[-0.08318307+0.03200698j],\n",
      "       [ 0.38723955-0.02555366j],\n",
      "       [-0.91226252-0.09605085j]])]\n"
     ]
    }
   ],
   "source": [
    "# part 1\n",
    "\n",
    "def random_basis(d : int):\n",
    "    res = []\n",
    "    while len(res) < d:\n",
    "        v = complex_rand(d, 1)\n",
    "        for r in res:\n",
    "            v -= complex(np.matmul(dagger(r), v)) * r\n",
    "        if np.linalg.norm(v) == 0:\n",
    "            continue\n",
    "        v = v / np.linalg.norm(v)\n",
    "        res.append(v)\n",
    "    return res\n",
    "\n",
    "d = 3\n",
    "\n",
    "A = np.random.rand(d, d)\n",
    "us = [] # standard basis\n",
    "for i in range(d):\n",
    "    u = np.array([[0]] * i + [[1]] + [[0]] * (d - i - 1))\n",
    "    us.append(u)    \n",
    "vs = random_basis(d)\n",
    "\n",
    "tr_1 = sum([complex(np.matmul(dagger(u), np.matmul(A, u))) for u in us])\n",
    "tr_2 = sum([complex(np.matmul(dagger(v), np.matmul(A, v))) for v in vs])\n",
    "\n",
    "print(\"A = \", A)\n",
    "print(\"vs = \", vs)"
   ]
  },
  {
   "cell_type": "code",
   "execution_count": 175,
   "id": "88aa3cfa",
   "metadata": {},
   "outputs": [
    {
     "name": "stdout",
     "output_type": "stream",
     "text": [
      "(-1.1102230246251565e-16+5.898059818321144e-17j)\n"
     ]
    }
   ],
   "source": [
    "print(tr_1 - tr_2)"
   ]
  },
  {
   "cell_type": "code",
   "execution_count": 176,
   "id": "54120dfd",
   "metadata": {
    "scrolled": true
   },
   "outputs": [
    {
     "name": "stdout",
     "output_type": "stream",
     "text": [
      "A =  [[0.25761997 0.8199799  0.72153633]\n",
      " [0.61470549 0.89821421 0.22577435]\n",
      " [0.64164713 0.40129499 0.94694   ]]\n",
      "B =  [[0.88181578 0.84254705 0.87450675]\n",
      " [0.69626815 0.22569976 0.39253732]\n",
      " [0.09894231 0.90585236 0.13269262]]\n"
     ]
    }
   ],
   "source": [
    "# part 2\n",
    "d = 3 # check for 3*3 matrix\n",
    "A = np.random.rand(d, d)\n",
    "B = np.random.rand(d, d)\n",
    "print(\"A = \", A)\n",
    "print(\"B = \", B)"
   ]
  },
  {
   "cell_type": "code",
   "execution_count": 177,
   "id": "c0c0da7e",
   "metadata": {},
   "outputs": [
    {
     "name": "stdout",
     "output_type": "stream",
     "text": [
      "True\n"
     ]
    }
   ],
   "source": [
    "print(abs(np.trace(np.matmul(A, B)) - np.trace(np.matmul(B, A))) < 0.01)"
   ]
  },
  {
   "cell_type": "code",
   "execution_count": 178,
   "id": "ddada727",
   "metadata": {},
   "outputs": [
    {
     "name": "stdout",
     "output_type": "stream",
     "text": [
      "A =  [[0.157383   0.88110995 0.48405122]\n",
      " [0.57883138 0.87553316 0.86691274]\n",
      " [0.27494286 0.70001743 0.87105294]]\n",
      "B =  [[0.60271768 0.76241497 0.69919003 0.63489987]\n",
      " [0.85616135 0.80043641 0.42462866 0.10985439]\n",
      " [0.2697705  0.59441339 0.94820594 0.58744336]\n",
      " [0.88759019 0.10768886 0.5254831  0.50251493]]\n"
     ]
    }
   ],
   "source": [
    "# part 3\n",
    "d_A = 3 \n",
    "d_B = 4\n",
    "\n",
    "A = np.random.rand(d_A, d_A)\n",
    "B = np.random.rand(d_B, d_B)\n",
    "print(\"A = \", A)\n",
    "print(\"B = \", B)"
   ]
  },
  {
   "cell_type": "code",
   "execution_count": 179,
   "id": "300c000e",
   "metadata": {},
   "outputs": [
    {
     "name": "stdout",
     "output_type": "stream",
     "text": [
      "0.0\n"
     ]
    }
   ],
   "source": [
    "print(np.trace(tensor_product(A, B)) - np.trace(A) * np.trace(B))"
   ]
  },
  {
   "cell_type": "markdown",
   "id": "4d432478",
   "metadata": {
    "direction": "rtl"
   },
   "source": [
    "## جوابِ سؤال به شکلِ ریاضی\n",
    "\n",
    "### جواب بخش ۱\n",
    "\n",
    "ابتدا $|v_i\\rangle$ را بسط می‌دهیم\n",
    "\n",
    "$$ |v_i\\rangle = \\sum_j \\alpha_{ij} |j\\rangle $$\n",
    "\n",
    "این‌که $v$ها یک پایهٔ متعامدیکه هستند نتیجه می‌دهد می‌توان $ \\vert i \\rangle $ را برحسبِ آن‌ها بست داد.\n",
    "\n",
    "$$ \\vert i \\rangle = \\sum_j \\langle v_j \\vert i \\rangle \\vert v_j \\rangle = \\sum_j \\bar \\alpha_{ji} \\vert v_j \\rangle $$\n",
    "\n",
    "حالا باز چون پایهٔ متعامدیکه است، ضربِ داخلیِ دوبردار با ضربِ این ضرایب به دست می‌آید، یعنی برای دو بردار به شکلِ زیر\n",
    "\n",
    "$$ \\langle j \\vert i \\rangle = \\sum_k \\bar{\\bar \\alpha}_{kj} \\bar \\alpha_{ki} = \\sum_k \\alpha_{kj} \\bar \\alpha_{ki} $$\n",
    "\n",
    "و از طرفی این دو بردار خودشان یک پایهٔ اند و ضربشان با توجه به عمود بودن و یکه بودن، به شکلِ زیر است.\n",
    "$$\n",
    "\\langle i \\vert j \\rangle = \\begin{cases} 0 & i \\ne j\\\\ 1 & i = j\\end{cases}\n",
    "$$\n",
    "\n",
    "حالا اگر برگردیم به مسئله و تریسِ خواسته‌شده را بنویسیم\n",
    "\n",
    "$$ \\sum_{i=0}^{d-1} \\langle v_i\\vert A\\vert v_i\\rangle = \\sum_i \\sum_{j, k} (\\bar\\alpha_{ij}\\alpha_{ik}) \\langle j \\vert A \\vert k \\rangle $$\n",
    "\n",
    "اگر ترتیبِ جمع‌ها را عوض کنیم و از رابطهٔ اثبات‌شدهٔ فوق استفاده کنیم، می‌توانیم به شکلِ زیر ساده‌سازی را انجام دهیم\n",
    "\n",
    "$$ \\sum_{i=0}^{d-1} \\langle v_i\\vert A\\vert v_i\\rangle = \\sum_{j, k} \\big(\\begin{cases} 0 & j \\ne k\\\\ 1 & j = k\\end{cases}\\big) \\langle j \\vert A \\vert k \\rangle = \\sum_j \\langle j \\vert A \\vert j \\rangle = \\mathrm{tr} (A)$$\n",
    "\n",
    "\n",
    "### جواب بخش ۲\n",
    "\n",
    "اول از تعریف ضرب ماتریسی استفاده می‌کنیم تا حاصل AB را به دست آوریم.\n",
    "$$(AB)_{ij} = \\sum_k A_{ik} B_{kj}$$\n",
    "از طرفی می‌دانیم که تریس حاصل جمع درایه‌های قطری است.\n",
    "$$\\mathrm{tr} (AB) = \\sum_i (AB)_{ii} = \\sum_i \\sum_k A_{ik} B_{ki} $$\n",
    "حالا اگر دوتا جمع بالا را جابه‌جا کنیم می‌توانیم عبارت خواسته شده را نشان دهیم.\n",
    "$$\\mathrm{tr}(AB) = \\sum_i \\sum_k A_{ik} B_{ki} = \\sum_k \\sum_i B_{ki} A_{ik} = \\sum_k (BA)_{kk} = \\mathrm{tr}(BA)$$\n",
    "\n",
    "### جواب بخش ۳\n",
    "\n",
    "می‌دانیم که اگر یک پایه برای فضای $A$ به نامِ  $ \\{\\vert v_i \\rangle\\}$و یک پایه برای فضای $B$ به نامِ $ \\{\\vert u_i \\rangle\\}$ داشته‌باشیم\n",
    "\n",
    "مجموعهٔ زیر پایه‌ای برای فضای ضربِ تانسوریِ این‌دو است.\n",
    "\n",
    "$$ \\{ \\vert v_i \\rangle \\otimes \\vert u_j \\rangle \\} $$\n",
    "\n",
    "پس، می‌توان تریس را به این صورت محاسبه کرد\n",
    "\n",
    "$$ \\mathrm{tr}(A \\otimes B) = \\sum_{i, j} \n",
    "(\\langle v_i \\vert \\otimes \\langle u_j \\vert)  (A \\otimes B) (\\vert v_i \\rangle \\otimes \\vert u_j \\rangle)  $$\n",
    "\n",
    "که به این صورت ساده می‌شود.\n",
    "\n",
    "$$ \\mathrm{tr}(A \\otimes B) = \\sum_{i} \n",
    "\\langle v_i \\vert A \\vert v_i \\rangle \\sum_{j} \\langle u_j \\vert B \\vert u_j \\rangle = \\mathrm{tr}(A)\\mathrm{tr}(B) $$"
   ]
  }
 ],
 "metadata": {
  "kernelspec": {
   "display_name": "Python 3 (ipykernel)",
   "language": "python",
   "name": "python3"
  },
  "language_info": {
   "codemirror_mode": {
    "name": "ipython",
    "version": 3
   },
   "file_extension": ".py",
   "mimetype": "text/x-python",
   "name": "python",
   "nbconvert_exporter": "python",
   "pygments_lexer": "ipython3",
   "version": "3.8.10"
  }
 },
 "nbformat": 4,
 "nbformat_minor": 5
}
