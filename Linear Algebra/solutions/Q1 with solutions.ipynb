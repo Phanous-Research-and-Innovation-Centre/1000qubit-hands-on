{
 "cells": [
  {
   "cell_type": "markdown",
   "id": "dbf6b4c1",
   "metadata": {
    "direction": "rtl"
   },
   "source": [
    "# سؤالِ اول"
   ]
  },
  {
   "cell_type": "markdown",
   "id": "d61393c2",
   "metadata": {
    "direction": "rtl"
   },
   "source": [
    "بررسی کنید که چهار بردار زیر یک پایه متعامد یکه برای فضای تانسوری تشکیل می‌دهند:\n",
    "$$|{\\Phi_\\pm}\\rangle = \\frac{1}{\\sqrt 2}\\big(|0\\rangle| 0\\rangle\\pm |1\\rangle| 1\\rangle\\big), \\qquad |{\\Psi_{\\pm}}\\rangle=\\frac{1}{\\sqrt 2}\\big(|0\\rangle| 1\\rangle\\pm  |1\\rangle|0\\rangle\\big).$$\n",
    "این پایه برای فضای تانسوری پایه‌ مهمی در مکانیک کوانتومی‌ است که به آن پایه بل می‌گویند. هفته دوم کارگاه در مورد این پایه بیشتر خواهیم شنید.\n"
   ]
  },
  {
   "cell_type": "markdown",
   "id": "088308a6",
   "metadata": {
    "direction": "rtl"
   },
   "source": [
    "## آماده‌سازی‌ها"
   ]
  },
  {
   "cell_type": "code",
   "execution_count": 6,
   "id": "21285d40",
   "metadata": {},
   "outputs": [],
   "source": [
    "# You can use other similiar libraries too\n",
    "import numpy as np"
   ]
  },
  {
   "cell_type": "code",
   "execution_count": 2,
   "id": "13ef4609",
   "metadata": {},
   "outputs": [],
   "source": [
    "# You can create vector using this function\n",
    "np.array?"
   ]
  },
  {
   "cell_type": "code",
   "execution_count": 3,
   "id": "b7a1db52",
   "metadata": {},
   "outputs": [],
   "source": [
    "def tensor_product(a, b):\n",
    "    return np.kron(a, b)"
   ]
  },
  {
   "cell_type": "code",
   "execution_count": 4,
   "id": "b78dc8a6",
   "metadata": {},
   "outputs": [],
   "source": [
    "np.dot?"
   ]
  },
  {
   "cell_type": "markdown",
   "id": "ec4030d6",
   "metadata": {
    "direction": "rtl"
   },
   "source": [
    "## جوابِ سؤال به شکلِ کد"
   ]
  },
  {
   "cell_type": "code",
   "execution_count": 7,
   "id": "89422527",
   "metadata": {},
   "outputs": [],
   "source": [
    "ket0 = np.array([1, 0])\n",
    "ket1 = np.array([0, 1])\n",
    "bells = [(tensor_product(ket0, ket0) + tensor_product(ket1, ket1)) / np.sqrt(2), \n",
    "         (tensor_product(ket0, ket0) - tensor_product(ket1, ket1)) / np.sqrt(2),\n",
    "         (tensor_product(ket0, ket1) + tensor_product(ket1, ket0)) / np.sqrt(2),\n",
    "         (tensor_product(ket0, ket1) - tensor_product(ket1, ket0)) / np.sqrt(2)]"
   ]
  },
  {
   "cell_type": "code",
   "execution_count": 8,
   "id": "9f4d16da",
   "metadata": {},
   "outputs": [
    {
     "name": "stdout",
     "output_type": "stream",
     "text": [
      "[0.70710678 0.         0.         0.70710678]\n",
      "[ 0.70710678  0.          0.         -0.70710678]\n",
      "[0.         0.70710678 0.70710678 0.        ]\n",
      "[ 0.          0.70710678 -0.70710678  0.        ]\n"
     ]
    }
   ],
   "source": [
    "for b in bells:\n",
    "    print(b)"
   ]
  },
  {
   "cell_type": "code",
   "execution_count": 9,
   "id": "22eba99d",
   "metadata": {},
   "outputs": [
    {
     "name": "stdout",
     "output_type": "stream",
     "text": [
      "bell[0] * bell[0] = 1.000000\n",
      "bell[0] * bell[1] = -0.000000\n",
      "bell[0] * bell[2] = 0.000000\n",
      "bell[0] * bell[3] = 0.000000\n",
      "bell[1] * bell[0] = -0.000000\n",
      "bell[1] * bell[1] = 1.000000\n",
      "bell[1] * bell[2] = 0.000000\n",
      "bell[1] * bell[3] = 0.000000\n",
      "bell[2] * bell[0] = 0.000000\n",
      "bell[2] * bell[1] = 0.000000\n",
      "bell[2] * bell[2] = 1.000000\n",
      "bell[2] * bell[3] = -0.000000\n",
      "bell[3] * bell[0] = 0.000000\n",
      "bell[3] * bell[1] = 0.000000\n",
      "bell[3] * bell[2] = -0.000000\n",
      "bell[3] * bell[3] = 1.000000\n"
     ]
    }
   ],
   "source": [
    "for i in range(4):\n",
    "    for j in range(4):\n",
    "        print(\"bell[%d] * bell[%d] = %f\" % (i, j, np.dot(bells[i], bells[j])))"
   ]
  },
  {
   "cell_type": "markdown",
   "id": "e71fdf5e",
   "metadata": {
    "direction": "rtl"
   },
   "source": [
    "## جوابِ سؤال به شکلِ ریاضی\n",
    "باید یکه بودن و دوبه‌دو متعامد بودن حالت‌های بل را نشان دهیم.\n",
    "ابتدا یکه بودن آن‌ها را بررسی کنیم:\n",
    "$$\\langle \\phi_{\\pm} \\vert \\phi_{\\pm}\\rangle = \\frac{1}{2} (\\langle 00 \\vert \\pm \\langle 11 \\vert)(\\vert 00 \\rangle \\pm \\vert 11 \\rangle) = \\frac{1}{2}(\\langle 00 \\vert 00 \\rangle + \\langle 11 \\vert 11 \\rangle) = 1$$\n",
    "\n",
    "$$\\langle \\psi_{\\pm} \\vert \\psi_{\\pm}\\rangle = \\frac{1}{2} (\\langle 01 \\vert \\pm \\langle 10 \\vert)(\\vert 01 \\rangle \\pm \\vert 10 \\rangle) = \\frac{1}{2}(\\langle 01 \\vert 01 \\rangle + \\langle 10 \\vert 10 \\rangle) = 1$$\n",
    "\n",
    "برای محاسبه ضرب‌داخلی‌های بالا از این استفاده کردیم که:\n",
    "$$\\langle a_1 b_1 \\vert a_2 b_2 \\rangle = (\\langle a_1 \\vert \\otimes \\langle b_1 \\vert)(\\vert a_2 \\rangle \\otimes \\vert b_2 \\rangle) = \\langle a_1 \\vert a_2 \\rangle \\langle b_1 \\vert b_2 \\rangle$$\n",
    "\n",
    "حالا برای اینکه متعامد بودن آن‌ها را نشان دهیم کافی است ضرب‌داخلی دوبه‌دو آن‌ها را محاسبه کنیم و ببینیم که همه آن‌ها صفر می‌شوند."
   ]
  }
 ],
 "metadata": {
  "kernelspec": {
   "display_name": "Python 3 (ipykernel)",
   "language": "python",
   "name": "python3"
  },
  "language_info": {
   "codemirror_mode": {
    "name": "ipython",
    "version": 3
   },
   "file_extension": ".py",
   "mimetype": "text/x-python",
   "name": "python",
   "nbconvert_exporter": "python",
   "pygments_lexer": "ipython3",
   "version": "3.8.10"
  }
 },
 "nbformat": 4,
 "nbformat_minor": 5
}
