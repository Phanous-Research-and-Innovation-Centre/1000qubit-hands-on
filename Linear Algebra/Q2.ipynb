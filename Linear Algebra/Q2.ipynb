{
 "cells": [
  {
   "cell_type": "markdown",
   "id": "e80aa7cd",
   "metadata": {
    "direction": "rtl"
   },
   "source": [
    "# سؤالِ دوم"
   ]
  },
  {
   "cell_type": "markdown",
   "id": "03ff9958",
   "metadata": {
    "direction": "rtl"
   },
   "source": [
    "\n",
    "توی این تمرین یه مقدار بیشتر با خواص تریس ماتریس‌ها آشنا می‌شویم. توجه کنید که تریس یک ماتریس $d\\times d$ برابر با مجموع عناصر روی قطر آن است. طبق نمادگذاری دیراک \n",
    "تعریف تریس به فرم زیر است:\n",
    " $$\\mathrm{tr} A=\\sum_{i=0}^{d-1} \\langle i\\vert A\\vert i\\rangle$$\n",
    " \n",
    "1. نشان دهید تعریف $\\mathrm{tr}$ مستقل از انتخاب پایه است. یعنی برای هر پایه‌ی متعامد یکه‌ی ‌دیگری مانند\n",
    "$\\{\\vert v_0 \\rangle, \\vert v_1 \\rangle, \\dots,\\vert v_{d-1} \\rangle\\}$ \n",
    "نیز داریم\n",
    "$\\mathrm{tr} A=\\sum_{i=0}^{d-1} \\langle v_i\\vert A\\vert v_i\\rangle$.\n",
    "\n",
    "راهنمایی: اعضای پایه $\\{\\vert v_0 \\rangle, \\vert v_1 \\rangle, \\dots,\\vert v_{d-1} \\rangle\\}$ را بر حسب پایه محاسباتی\n",
    "$\\{\\vert 0 \\rangle, \\vert 1 \\rangle, \\dots,\\vert {d-1} \\rangle\\}$ \n",
    "بسط دهید و از خاصیت متعامد یکه بودن استفاده کنید. روش دیگر این که می‌توانید از تساوی\n",
    "$\\sum_i \\vert{v_i}\\rangle \\langle{v_i}\\vert =I$\n",
    "استفاده کنید.\n"
   ]
  },
  {
   "cell_type": "markdown",
   "id": "b1dd13c8",
   "metadata": {
    "direction": "rtl"
   },
   "source": [
    "2. نشان دهید برای هر دو ماتریس\n",
    " $A, B$\n",
    " داریم\n",
    "$tr(AB)=tr(BA)$\n"
   ]
  },
  {
   "cell_type": "markdown",
   "id": "6bc96008",
   "metadata": {
    "direction": "rtl"
   },
   "source": [
    "3. نشان دهید\n",
    " $tr(A\\otimes B)= tr(A) tr(B)$"
   ]
  },
  {
   "cell_type": "markdown",
   "id": "6969098e",
   "metadata": {
    "direction": "rtl"
   },
   "source": [
    "## آماده‌سازی‌ها"
   ]
  },
  {
   "cell_type": "code",
   "execution_count": 166,
   "id": "e31a9e27",
   "metadata": {},
   "outputs": [],
   "source": [
    "import numpy as np"
   ]
  },
  {
   "cell_type": "code",
   "execution_count": 167,
   "id": "64ce2c65",
   "metadata": {},
   "outputs": [],
   "source": [
    "# you can create a random matrix/vector using this function\n",
    "def complex_rand(*args):\n",
    "    return np.random.rand(*args) * np.exp(1j * 2 * np.pi * np.random.rand(*args))"
   ]
  },
  {
   "cell_type": "code",
   "execution_count": 168,
   "id": "ac20e7d9",
   "metadata": {},
   "outputs": [],
   "source": [
    "def dagger(x : str):\n",
    "    return np.mat(x).conj().T\n",
    "# e.g. dagger(np.mat([1 + 1j,0,0]))"
   ]
  },
  {
   "cell_type": "code",
   "execution_count": 169,
   "id": "2a7e7989",
   "metadata": {},
   "outputs": [],
   "source": [
    "# only use in 2nd and 3rd parts\n",
    "np.trace?"
   ]
  },
  {
   "cell_type": "code",
   "execution_count": 170,
   "id": "5355191b",
   "metadata": {},
   "outputs": [],
   "source": [
    "# only for 3rd part\n",
    "def tensor_product(a, b):\n",
    "    return np.kron(a, b)"
   ]
  },
  {
   "cell_type": "code",
   "execution_count": 171,
   "id": "3063c2f5",
   "metadata": {},
   "outputs": [],
   "source": [
    "np.matmul?"
   ]
  },
  {
   "cell_type": "code",
   "execution_count": 172,
   "id": "6a5791aa",
   "metadata": {},
   "outputs": [],
   "source": [
    "np.dot?"
   ]
  },
  {
   "cell_type": "code",
   "execution_count": 173,
   "id": "f41f8f91",
   "metadata": {
    "scrolled": true
   },
   "outputs": [],
   "source": [
    "np.linalg.norm?"
   ]
  }
 ],
 "metadata": {
  "kernelspec": {
   "display_name": "Python 3 (ipykernel)",
   "language": "python",
   "name": "python3"
  },
  "language_info": {
   "codemirror_mode": {
    "name": "ipython",
    "version": 3
   },
   "file_extension": ".py",
   "mimetype": "text/x-python",
   "name": "python",
   "nbconvert_exporter": "python",
   "pygments_lexer": "ipython3",
   "version": "3.8.10"
  }
 },
 "nbformat": 4,
 "nbformat_minor": 5
}
