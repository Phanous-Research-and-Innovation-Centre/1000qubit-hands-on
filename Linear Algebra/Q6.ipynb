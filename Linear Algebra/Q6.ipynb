{
 "cells": [
  {
   "cell_type": "markdown",
   "id": "e80aa7cd",
   "metadata": {
    "direction": "rtl"
   },
   "source": [
    "# سؤالِ ششم"
   ]
  },
  {
   "cell_type": "markdown",
   "id": "cab41a05",
   "metadata": {
    "direction": "rtl"
   },
   "source": [
    " در این تمرین با شاهد‌های درهم‌تنیدگی آشنا می‌شویم.\n",
    "ماتریس $M$ در فضای تانسوری را به صورت زیر تعریف کنید\n",
    "$$M= \\vert0\\rangle \\langle0\\vert \\otimes \\vert0\\rangle \\langle0\\vert + \\vert0\\rangle \\langle1\\vert\\otimes \\vert1\\rangle \\langle0\\vert + \\vert1\\rangle \\langle0\\vert\\otimes \\vert0\\rangle \\langle1\\vert + \\vert1\\rangle \\langle1\\vert\\otimes \\vert1\\rangle \\langle1\\vert$$\n",
    "\n",
    "  \n",
    "1. نشان دهید برای هر دو بردار ۲-بعدی $\\vert v\\rangle, \\vert w\\rangle $،  داریم\n",
    "$\\langle v\\vert\\otimes \\langle w\\vert M \\vert v\\rangle \\otimes \\vert w\\rangle \\geq 0$"
   ]
  },
  {
   "cell_type": "markdown",
   "id": "ec8fdb40",
   "metadata": {
    "direction": "rtl"
   },
   "source": [
    "2. نشان دهید $M$ یک مقدار ویژه منفی دارد، و نتیجه بگیرید بردار $\\vert\\psi\\rangle$ \n",
    "در فضای تانسوری وجود دارد به طوری که\n",
    "$\\langle \\psi \\vert M\\vert \\psi\\rangle<0$\n",
    "\n",
    "\n",
    "عملگر $M$ با دو خاصیت فوق، یک «شاهد درهم‌تنیدگی یا Entanglement witness» نامیده می‌شود. در واقع طبق این تمرین فقط بعضی از بردار‌های فضای تانسوری را می‌توان به فرم $\\vert v\\rangle \\otimes \\vert w\\rangle$\n",
    "نوشت که به آنها بردارهای ضربی گویند. برداری که ضربی نباشد را بردار درهم‌تنیده گویند. ماتریس $M$\n",
    "بالا را یک شاهد درهم‌تنیدگی است چون  $\\langle \\phi \\vert M\\vert \\phi\\rangle$\n",
    "برای همه برداری‌های ضربی مثبت است، ولی برای بعضی از بردار‌های درهم‌تنیده، منفی است.\n",
    "\n"
   ]
  },
  {
   "cell_type": "markdown",
   "id": "6a6095af",
   "metadata": {
    "direction": "rtl"
   },
   "source": [
    "## آماده‌سازی‌ها"
   ]
  },
  {
   "cell_type": "code",
   "execution_count": 2,
   "id": "228fb3b5",
   "metadata": {},
   "outputs": [],
   "source": [
    "import numpy as np"
   ]
  },
  {
   "cell_type": "code",
   "execution_count": 3,
   "id": "44515fee",
   "metadata": {},
   "outputs": [],
   "source": [
    "# you can create a random matrix/vector using this function\n",
    "def complex_rand(*args):\n",
    "    return np.random.rand(*args) * np.exp(1j * 2 * np.pi * np.random.rand(*args))"
   ]
  },
  {
   "cell_type": "code",
   "execution_count": 4,
   "id": "993bc946",
   "metadata": {},
   "outputs": [],
   "source": [
    "def dagger(x : str):\n",
    "    return np.mat(x).conj().T\n",
    "# e.g. dagger(np.mat([1 + 1j,0,0]))"
   ]
  },
  {
   "cell_type": "code",
   "execution_count": 5,
   "id": "84921e96",
   "metadata": {},
   "outputs": [],
   "source": [
    "def tensor_product(a, b):\n",
    "    return np.kron(a, b)"
   ]
  },
  {
   "cell_type": "code",
   "execution_count": 6,
   "id": "2e7914e6",
   "metadata": {},
   "outputs": [],
   "source": [
    "# part 2\n",
    "# Hint: use the determinant of matrix M\n",
    "# the determinant of a matrix is the product of all eigenvalues\n",
    "np.linalg.det?"
   ]
  }
 ],
 "metadata": {
  "kernelspec": {
   "display_name": "Python 3 (ipykernel)",
   "language": "python",
   "name": "python3"
  },
  "language_info": {
   "codemirror_mode": {
    "name": "ipython",
    "version": 3
   },
   "file_extension": ".py",
   "mimetype": "text/x-python",
   "name": "python",
   "nbconvert_exporter": "python",
   "pygments_lexer": "ipython3",
   "version": "3.8.10"
  }
 },
 "nbformat": 4,
 "nbformat_minor": 5
}
