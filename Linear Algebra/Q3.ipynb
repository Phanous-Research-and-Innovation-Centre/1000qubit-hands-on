{
 "cells": [
  {
   "cell_type": "markdown",
   "id": "e80aa7cd",
   "metadata": {
    "direction": "rtl"
   },
   "source": [
    "# سؤالِ سوم"
   ]
  },
  {
   "cell_type": "markdown",
   "id": "d5c80fa8",
   "metadata": {
    "direction": "rtl"
   },
   "source": [
    "موارد زیر را ثابت کنید.\n",
    "\n",
    "1. $(A\\otimes B)^{\\dagger} = A^{\\dagger}\\otimes B^{\\dagger}$\n"
   ]
  },
  {
   "cell_type": "markdown",
   "id": "f930e9df",
   "metadata": {
    "direction": "rtl"
   },
   "source": [
    "2. اگر $A, B$ هرمیتی باشند، $A\\otimes B$ نیز هرمیتی است."
   ]
  },
  {
   "cell_type": "markdown",
   "id": "2ac3e390",
   "metadata": {
    "direction": "rtl"
   },
   "source": [
    "3. اگر $A, B$ یکانی باشند، $A\\otimes B$ نیز یکانی است."
   ]
  },
  {
   "cell_type": "markdown",
   "id": "a7247a48",
   "metadata": {
    "direction": "rtl"
   },
   "source": [
    "## آماده‌سازی‌ها"
   ]
  },
  {
   "cell_type": "code",
   "execution_count": 121,
   "id": "56124264",
   "metadata": {},
   "outputs": [],
   "source": [
    "import numpy as np"
   ]
  },
  {
   "cell_type": "code",
   "execution_count": 122,
   "id": "786456f3",
   "metadata": {},
   "outputs": [],
   "source": [
    "# you can create a random matrix/vector using this function\n",
    "def complex_rand(*args):\n",
    "    return np.random.rand(*args) * np.exp(1j * 2 * np.pi * np.random.rand(*args))"
   ]
  },
  {
   "cell_type": "code",
   "execution_count": 123,
   "id": "4b5bbaf7",
   "metadata": {},
   "outputs": [],
   "source": [
    "def dagger(x : str):\n",
    "    return np.mat(x).conj().T\n",
    "# e.g. dagger(np.mat([1 + 1j,0,0]))"
   ]
  },
  {
   "cell_type": "code",
   "execution_count": 124,
   "id": "445dd734",
   "metadata": {},
   "outputs": [],
   "source": [
    "def tensor_product(a, b):\n",
    "    return np.kron(a, b)"
   ]
  }
 ],
 "metadata": {
  "kernelspec": {
   "display_name": "Python 3 (ipykernel)",
   "language": "python",
   "name": "python3"
  },
  "language_info": {
   "codemirror_mode": {
    "name": "ipython",
    "version": 3
   },
   "file_extension": ".py",
   "mimetype": "text/x-python",
   "name": "python",
   "nbconvert_exporter": "python",
   "pygments_lexer": "ipython3",
   "version": "3.8.10"
  }
 },
 "nbformat": 4,
 "nbformat_minor": 5
}
