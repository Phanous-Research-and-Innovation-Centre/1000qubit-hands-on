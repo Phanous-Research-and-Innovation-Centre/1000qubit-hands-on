{
 "cells": [
  {
   "cell_type": "markdown",
   "id": "e80aa7cd",
   "metadata": {
    "direction": "rtl"
   },
   "source": [
    "# سؤالِ چهارم"
   ]
  },
  {
   "cell_type": "markdown",
   "id": "ef95c142",
   "metadata": {
    "direction": "rtl"
   },
   "source": [
    "تعریف کنید\n",
    "$$\\vert{\\Phi}\\rangle = \\frac{1}{\\sqrt 2}(\\vert 0\\rangle \\vert 0\\rangle+\\vert 1\\rangle\\vert 1\\rangle).$$\n",
    "توجه کنید که این بردار یکی از اعضای پایه بل است که در سوال اول با آن آشنا شدیم. در واقع این بردار (و بقیه اعضای پایه بل) «درهم‌تنیده‌ترین» حالات کوانتومی هستند. در این تمرین یاد می‌گیریم که این بردار به نوعی مستقل از پایه است.\n",
    " \n",
    "1. قرار دهید  \n",
    "$$\\vert{\\pm}\\rangle=\\frac{1}{\\sqrt 2} (\\vert 0\\rangle\\pm \\vert 1\\rangle).$$\n",
    "بررسی کنید که \n",
    "$\\vert{\\Phi}\\rangle = \\frac{1}{\\sqrt 2}(\\vert +\\rangle\\vert +\\rangle+\\vert -\\rangle\\vert -\\rangle)$.\n"
   ]
  },
  {
   "cell_type": "markdown",
   "id": "65e5e1df",
   "metadata": {
    "direction": "rtl"
   },
   "source": [
    "2. توجه کنید که طبق قسمت قبل داریم \n",
    "$H\\otimes \\overline H \\vert{\\Phi}\\rangle = \\vert{\\Phi}\\rangle$\n",
    "که در آن \n",
    "$$H=\\frac{1}{\\sqrt 2}\\begin{pmatrix}\n",
    "1 & 1\\\\\n",
    "1 &-1\n",
    "\\end{pmatrix}.$$\n",
    "نشان دهید این رابطه در حالت کلی برای هر ماتریس  یکانی $U$ برقرار است. یعنی \n",
    "$U\\otimes \\overline U\\vert{\\Phi}\\rangle = \\vert{\\Phi}\\rangle$\n",
    ". در اینجا منظور از \n",
    "$\\overline U$\n",
    "ماتریسی است که از مزدوج مختلط کردن درایه‌های ماتریس $U$ بدست می‌آید یعنی \n",
    "$\\langle i \\vert \\overline U \\vert j \\rangle= \\overline{\\langle i \\vert U \\vert j\\rangle}$\n",
    ".\n",
    "\n",
    " "
   ]
  },
  {
   "cell_type": "markdown",
   "id": "416b406e",
   "metadata": {
    "direction": "rtl"
   },
   "source": [
    "3. نشان دهید\n",
    "$tr A = \\frac{1}{2} \\langle \\Phi\\vert A\\otimes I\\vert \\Phi\\rangle$\n",
    "\n"
   ]
  },
  {
   "cell_type": "markdown",
   "id": "60c62590",
   "metadata": {
    "direction": "rtl"
   },
   "source": [
    "## آماده‌سازی‌ها"
   ]
  },
  {
   "cell_type": "code",
   "execution_count": 92,
   "id": "6960f7ce",
   "metadata": {},
   "outputs": [],
   "source": [
    "import numpy as np"
   ]
  },
  {
   "cell_type": "code",
   "execution_count": 93,
   "id": "acad0b3e",
   "metadata": {},
   "outputs": [],
   "source": [
    "# you can create a random matrix/vector using this function\n",
    "def complex_rand(*args):\n",
    "    return np.random.rand(*args) * np.exp(1j * 2 * np.pi * np.random.rand(*args))"
   ]
  },
  {
   "cell_type": "code",
   "execution_count": 94,
   "id": "5e76e552",
   "metadata": {},
   "outputs": [],
   "source": [
    "def dagger(x : str):\n",
    "    return np.mat(x).conj().T\n",
    "# e.g. dagger(np.mat([1 + 1j,0,0]))"
   ]
  },
  {
   "cell_type": "code",
   "execution_count": 95,
   "id": "31fb3a1c",
   "metadata": {},
   "outputs": [],
   "source": [
    "def tensor_product(a, b):\n",
    "    return np.kron(a, b)"
   ]
  },
  {
   "cell_type": "code",
   "execution_count": 96,
   "id": "45509412",
   "metadata": {},
   "outputs": [],
   "source": [
    "np.eye?"
   ]
  }
 ],
 "metadata": {
  "kernelspec": {
   "display_name": "Python 3 (ipykernel)",
   "language": "python",
   "name": "python3"
  },
  "language_info": {
   "codemirror_mode": {
    "name": "ipython",
    "version": 3
   },
   "file_extension": ".py",
   "mimetype": "text/x-python",
   "name": "python",
   "nbconvert_exporter": "python",
   "pygments_lexer": "ipython3",
   "version": "3.8.10"
  }
 },
 "nbformat": 4,
 "nbformat_minor": 5
}
