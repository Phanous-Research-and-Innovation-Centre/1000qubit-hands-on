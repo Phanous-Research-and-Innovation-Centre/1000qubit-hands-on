{
 "cells": [
  {
   "cell_type": "markdown",
   "id": "dbf6b4c1",
   "metadata": {
    "direction": "rtl"
   },
   "source": [
    "# سؤالِ اول"
   ]
  },
  {
   "cell_type": "markdown",
   "id": "d61393c2",
   "metadata": {
    "direction": "rtl"
   },
   "source": [
    "بررسی کنید که چهار بردار زیر یک پایه متعامد یکه برای فضای تانسوری تشکیل می‌دهند:\n",
    "$$|{\\Phi_\\pm}\\rangle = \\frac{1}{\\sqrt 2}\\big(|0\\rangle| 0\\rangle\\pm |1\\rangle| 1\\rangle\\big), \\qquad |{\\Psi_{\\pm}}\\rangle=\\frac{1}{\\sqrt 2}\\big(|0\\rangle| 1\\rangle\\pm  |1\\rangle|0\\rangle\\big).$$\n",
    "این پایه برای فضای تانسوری پایه‌ مهمی در مکانیک کوانتومی‌ است که به آن پایه بل می‌گویند. هفته دوم کارگاه در مورد این پایه بیشتر خواهیم شنید.\n"
   ]
  },
  {
   "cell_type": "markdown",
   "id": "088308a6",
   "metadata": {
    "direction": "rtl"
   },
   "source": [
    "## آماده‌سازی‌ها"
   ]
  },
  {
   "cell_type": "code",
   "execution_count": 6,
   "id": "21285d40",
   "metadata": {},
   "outputs": [],
   "source": [
    "# You can use other similiar libraries too\n",
    "import numpy as np"
   ]
  },
  {
   "cell_type": "code",
   "execution_count": 2,
   "id": "13ef4609",
   "metadata": {},
   "outputs": [],
   "source": [
    "# You can create vector using this function\n",
    "np.array?"
   ]
  },
  {
   "cell_type": "code",
   "execution_count": 3,
   "id": "b7a1db52",
   "metadata": {},
   "outputs": [],
   "source": [
    "def tensor_product(a, b):\n",
    "    return np.kron(a, b)"
   ]
  },
  {
   "cell_type": "code",
   "execution_count": 4,
   "id": "b78dc8a6",
   "metadata": {},
   "outputs": [],
   "source": [
    "np.dot?"
   ]
  }
 ],
 "metadata": {
  "kernelspec": {
   "display_name": "Python 3 (ipykernel)",
   "language": "python",
   "name": "python3"
  },
  "language_info": {
   "codemirror_mode": {
    "name": "ipython",
    "version": 3
   },
   "file_extension": ".py",
   "mimetype": "text/x-python",
   "name": "python",
   "nbconvert_exporter": "python",
   "pygments_lexer": "ipython3",
   "version": "3.8.10"
  }
 },
 "nbformat": 4,
 "nbformat_minor": 5
}
