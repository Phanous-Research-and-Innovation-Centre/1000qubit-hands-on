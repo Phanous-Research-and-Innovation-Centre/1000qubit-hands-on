{
 "cells": [
  {
   "cell_type": "markdown",
   "id": "e80aa7cd",
   "metadata": {
    "direction": "rtl"
   },
   "source": [
    "# سؤالِ پنجم"
   ]
  },
  {
   "cell_type": "markdown",
   "id": "4d9836e9",
   "metadata": {
    "direction": "rtl"
   },
   "source": [
    " در این تمرین یک مقدار با خواص مقدار ویژه‌های ماتریس‌های هرمیتی آشنا می‌شویم.\n",
    "فرض کنید $A$ یک ماتریس هرمیتی باشد.\n",
    " \n",
    "1. نشان دهید که به ازای هر بردار\n",
    "$\\vert{\\psi}\\rangle$\n",
    "عبارت\n",
    "$\\langle \\psi \\vert A\\vert \\psi\\rangle$\n",
    "یک عدد حقیقی است."
   ]
  },
  {
   "cell_type": "markdown",
   "id": "7b1de921",
   "metadata": {
    "direction": "rtl"
   },
   "source": [
    "2. نشان دهید \n",
    "$$\\lambda_0 = \\min_{\\vert{\\psi}\\rangle:\\, \\|\\vert\\psi\\rangle\\|=1} \\langle \\psi \\vert A\\vert \\psi\\rangle$$\n",
    "یک مقدار\n",
    "ویژه ماتریس $A$ است.\n",
    "در واقع اگر $\\vert{\\psi_0}\\rangle$\n",
    "برداری باشد که عبارت فوق در آن کمینه می‌شود، آنگاه داریم \n",
    "$A\\vert{\\psi_0}\\rangle = \\lambda_0\\vert{\\psi_0}\\rangle$\n",
    "\n",
    "راهنمایی: ضرایب لاگرانژ را گوگل کنید و مشتق بگیرید.\n"
   ]
  },
  {
   "cell_type": "markdown",
   "id": "4e70c08a",
   "metadata": {
    "direction": "rtl"
   },
   "source": [
    "3. نشان دهید\n",
    "$\\lambda_0$\n",
    "کوچکترین‌ مقدار ویژه $A$\n",
    "است.\n"
   ]
  },
  {
   "cell_type": "markdown",
   "id": "517ffe04",
   "metadata": {
    "direction": "rtl"
   },
   "source": [
    "4. نشان دهید $\\langle \\psi \\vert A\\vert \\psi\\rangle$\n",
    "به ازای هر بردار $\\vert \\psi\\rangle$\n",
    "مثبت است اگر و فقط اگر همه مقدار ویژه‌های $A$\n",
    "مثبت باشند. \n"
   ]
  },
  {
   "cell_type": "markdown",
   "id": "2e73c103",
   "metadata": {
    "direction": "rtl"
   },
   "source": [
    "5. فرض کنید $\\vert{\\phi_1}\\rangle, \\dots, \\vert{\\phi_{d}}\\rangle$\n",
    "بردار‌هایی دلخواه باشند. ماتریس $A$ را ماتریسی $d\\times d$ بگیرید که درایه \n",
    " $(i,j)$\n",
    "برابر $\\langle i \\vert A\\vert j \\rangle = \\langle \\phi_i \\vert \\phi_j \\rangle$\n",
    "باشد.\n",
    "نشان دهید $A$ هرمیتی است و همه مقادیر ویژه $A$\n",
    "نامنفی هستند."
   ]
  },
  {
   "cell_type": "markdown",
   "id": "316b9e3a",
   "metadata": {
    "direction": "rtl"
   },
   "source": [
    "## آماده‌سازی‌ها"
   ]
  },
  {
   "cell_type": "code",
   "execution_count": 209,
   "id": "9e9b9562",
   "metadata": {},
   "outputs": [],
   "source": [
    "import numpy as np"
   ]
  },
  {
   "cell_type": "code",
   "execution_count": 210,
   "id": "3bae88d4",
   "metadata": {},
   "outputs": [],
   "source": [
    "# you can create a random matrix/vector using this function\n",
    "def complex_rand(*args):\n",
    "    return np.random.rand(*args) * np.exp(1j * 2 * np.pi * np.random.rand(*args))"
   ]
  },
  {
   "cell_type": "code",
   "execution_count": 211,
   "id": "af1a91bc",
   "metadata": {},
   "outputs": [],
   "source": [
    "def dagger(x : str):\n",
    "    return np.mat(x).conj().T\n",
    "# e.g. dagger(np.mat([1 + 1j,0,0]))"
   ]
  },
  {
   "cell_type": "code",
   "execution_count": 212,
   "id": "002cb12a",
   "metadata": {},
   "outputs": [],
   "source": [
    "def tensor_product(a, b):\n",
    "    return np.kron(a, b)"
   ]
  },
  {
   "cell_type": "code",
   "execution_count": 213,
   "id": "db8d9527",
   "metadata": {},
   "outputs": [],
   "source": [
    "# part 2\n",
    "# optimization\n",
    "from scipy.optimize import minimize\n",
    "minimize?"
   ]
  },
  {
   "cell_type": "code",
   "execution_count": 214,
   "id": "958bcd94",
   "metadata": {},
   "outputs": [],
   "source": [
    "# part 3\n",
    "np.linalg.eig?"
   ]
  },
  {
   "cell_type": "markdown",
   "id": "25022d3c",
   "metadata": {
    "direction": "rtl"
   },
   "source": [
    "## جوابِ سؤال به شکلِ کد"
   ]
  },
  {
   "cell_type": "code",
   "execution_count": 215,
   "id": "56124264",
   "metadata": {},
   "outputs": [
    {
     "name": "stdout",
     "output_type": "stream",
     "text": [
      "True\n"
     ]
    }
   ],
   "source": [
    "# part 1\n",
    "\n",
    "# create Hermitian matrices\n",
    "# a Hermitian matrix is equal to its conjugate transpose\n",
    "\n",
    "S_A = complex_rand(4,4)\n",
    "# S + S_dagger is a hermitian matrix\n",
    "A = S_A + dagger(S_A)\n",
    "\n",
    "# a random state \n",
    "psi = complex_rand(4,1)\n",
    "\n",
    "# expectation value\n",
    "E = dagger(psi) * A * psi\n",
    "print((abs(E - E.conj()) < 0.001).all()) # E - E* = 2 Im(E)"
   ]
  },
  {
   "cell_type": "code",
   "execution_count": 216,
   "id": "f4c77a0d",
   "metadata": {},
   "outputs": [
    {
     "name": "stdout",
     "output_type": "stream",
     "text": [
      "`gtol` termination condition is satisfied.\n",
      "Number of iterations: 7, function evaluations: 5, CG iterations: 8, optimality: 5.32e-09, constraint violation: 0.00e+00, execution time: 0.011 s.\n",
      "0.9977178514236119\n",
      "lambda_0 =  -0.857107971046558\n",
      "psi_0 =  [[0.91207158+1.07425008e-15j]\n",
      " [0.37226201+1.58073871e-01j]]\n",
      "False\n"
     ]
    }
   ],
   "source": [
    "# part 2\n",
    "\n",
    "ket0 = np.array([[1], [0]])\n",
    "ket1 = np.array([[0], [1]])\n",
    "\n",
    "S_A = complex_rand(2,2)\n",
    "# S + S_dagger is a hermitian matrix\n",
    "A = S_A + dagger(S_A)\n",
    "\n",
    "# optimization\n",
    "def opt(x):\n",
    "    psi = (x[0] + 1j * x[1]) * ket0 + (x[2] + 1j * x[3]) * ket1\n",
    "    return complex(np.matmul(dagger(psi), np.matmul(A, psi))).real\n",
    "\n",
    "def opt_J(x):\n",
    "    der = np.zeros_like(x)\n",
    "    der[0] = (2 * x[0] *A[0, 0] + (x[2] + 1j * x[3]) * A[0, 1] + (x[2] - 1j * x[3]) * A[1, 0]).real\n",
    "    der[1] = (2 * x[1] *A[0, 0] - 1j * (x[2] + 1j * x[3]) * A[0, 1] + 1j * (x[2] - 1j * x[3]) * A[1,0]).real\n",
    "    der[2] = (2 * x[2] *A[1, 1] + (x[0] + 1j * x[1]) * A[1, 0] + (x[0] - 1j * x[1]) * A[0, 1]).real\n",
    "    der[3] = (2 * x[3] *A[1, 1] - 1j * (x[0] + 1j * x[1]) * A[1, 0] + 1j * (x[0] - 1j * x[1]) * A[0,1]).real\n",
    "    return der\n",
    "\n",
    "def opt_H(x):\n",
    "    x = np.asarray(x)\n",
    "    H = np.zeros((4, 4))\n",
    "    H[0, 0] = H[1, 1] = (2 * A[0,0]).real\n",
    "    H[2, 2] = H[3, 3] = (2 * A[1,1]).real\n",
    "    H[0, 1] = H[1, 0] = H[2,3] = H[3,2] = 0\n",
    "    H[0, 2] = H[2, 0] = (A[0,1] + A[1,0]).real\n",
    "    H[0, 3] = H[3, 0] = (1j * (A[0,1] - A[1,0])).real\n",
    "    H[1, 2] = H[2, 1] = (1j * (-A[0,1] + A[1,0])).real\n",
    "    H[1, 3] = H[3, 1] = (A[0,1] + A[1,0]).real\n",
    "    return H\n",
    "\n",
    "# Defining Nonlinear Constraints\n",
    "def cons_f(x):\n",
    "    return [x[0]**2 + x[1]**2 + x[2]**2 + x[3]**2]\n",
    "def cons_J(x):\n",
    "    return [2*x[0], 2*x[1], 2*x[2], 2*x[3]]\n",
    "def cons_H(x, v):\n",
    "     return v[0] * np.diag([2, 2, 2, 2])\n",
    "\n",
    "from scipy.optimize import NonlinearConstraint \n",
    "nonlinear_constraint = NonlinearConstraint(cons_f, -np.inf, 1, jac=cons_J, hess=cons_H)\n",
    "\n",
    "x0 = np.array([1.0, 0.0, 0.0, 0.0])\n",
    "res = minimize(opt, x0, method='trust-constr', jac=opt_J, hess=opt_H, options={'verbose': 1},\n",
    "                constraints=[nonlinear_constraint])\n",
    "\n",
    "lambda_0 = opt(res.x)\n",
    "print(np.linalg.norm(res.x))\n",
    "psi_opt = (res.x[0] + 1j * res.x[1]) * ket0 + (res.x[2] + 1j * res.x[3]) * ket1\n",
    "\n",
    "print(\"lambda_0 = \", lambda_0)\n",
    "print(\"psi_0 = \", psi_opt)\n",
    "\n",
    "print((abs(lambda_0 * psi_opt - np.matmul(A, psi_opt)) < 0.001).all())"
   ]
  },
  {
   "cell_type": "code",
   "execution_count": 217,
   "id": "0a0ec86a",
   "metadata": {},
   "outputs": [
    {
     "name": "stdout",
     "output_type": "stream",
     "text": [
      "True\n"
     ]
    }
   ],
   "source": [
    "# part 3\n",
    "\n",
    "eigenvalue, eigenvector = np.linalg.eig(A)\n",
    "print(abs(np.sort(eigenvalue)[0] - lambda_0) < 0.01)"
   ]
  },
  {
   "cell_type": "code",
   "execution_count": 218,
   "id": "a76c3639",
   "metadata": {
    "scrolled": false
   },
   "outputs": [
    {
     "name": "stdout",
     "output_type": "stream",
     "text": [
      "all of eigenvalues are positive :  False\n",
      "psi-A-psi is positive :  False\n"
     ]
    }
   ],
   "source": [
    "# part 4\n",
    "\n",
    "random_psi = complex_rand(2,1)\n",
    "print(\"all of eigenvalues are positive : \", np.sort(eigenvalue)[0] > 0)\n",
    "print(\"psi-A-psi is positive : \", complex(np.matmul(dagger(random_psi), np.matmul(A, random_psi))).real > 0)"
   ]
  },
  {
   "cell_type": "code",
   "execution_count": 219,
   "id": "e79b3e56",
   "metadata": {},
   "outputs": [
    {
     "name": "stdout",
     "output_type": "stream",
     "text": [
      "True True\n"
     ]
    }
   ],
   "source": [
    "# part 5\n",
    "\n",
    "n = 4\n",
    "d = 10\n",
    "phis = [complex_rand(d, 1) for _ in range(n)]\n",
    "A = np.zeros((n, n), complex)\n",
    "for i in range(n):\n",
    "    for j in range(n):\n",
    "        A[i,j] = complex(np.matmul(dagger(phis[i]), phis[j]))\n",
    "\n",
    "eigenvalue, eigenvector = np.linalg.eig(A)\n",
    "print(np.sort(eigenvalue)[0] > 0, (abs(A - dagger(A)) < 0.0001).all())"
   ]
  },
  {
   "cell_type": "markdown",
   "id": "0cfe2c7d",
   "metadata": {
    "direction": "rtl"
   },
   "source": [
    "## جوابِ سؤال به شکلِ ریاضی\n",
    "### جواب بخش ۱\n",
    "\n",
    "برای نشان دادن حقیقی بودن یک عدد کافی است نشان دهیم آن عدد با مزدوج مختلطش برابر است.\n",
    "$$\n",
    "\\langle{\\psi}\\vert A \\vert{\\psi}\\rangle^*=\\sum_{i,j}\\psi_i A^*_{ij}\\psi_j^*=\\sum_{i,j}\\psi_j^* A_{ji}\\psi_i=\\langle{\\psi}\\vert A \\vert{\\psi}\\rangle\n",
    "$$\n",
    "\n",
    "### جواب بخش ۲\n",
    "\n",
    "از روش لاگرانژ میدانیم برای کمینه کردن \n",
    "$\\langle \\psi\\vert A\\vert \\psi\\rangle$\n",
    "با قید\n",
    "$\\| \\vert{\\psi}\\rangle\\|=1$\n",
    "باید مشتق تابع \n",
    "$f= \\langle \\psi\\vert A\\vert \\psi\\rangle+\\lambda \\langle \\psi\\vert\\psi\\rangle -1$\n",
    "را برابر صفر قرار دهیم.  برای این کار فرض کنید درایه \n",
    "$m$ام از بردار $\\psi$ برابر است با\n",
    "$\\psi_m=c_m+ib_m$. \n",
    "لذا\n",
    "\\begin{align*}\n",
    "   f= \\sum_{jk} (c_j-ib_j)A_{jk}(c_k+ib_k)-\\lambda \\Big(\\sum_{j}(c_j^2+b_j^2)-1\\Big).\n",
    "\\end{align*}    \n",
    "و داریم\n",
    "\\begin{align*}\n",
    "&  \\frac{ \\partial f}{\\partial c_m}=\\sum_{j}A_{mj}(c_j+ib_j)+\\sum_j A_{jm} (c_j-ib_j)-\\lambda 2 c_m, \\\\  &\n",
    "  \\frac{ \\partial f}{\\partial b_m}=-i\\sum_{j}A_{mj}(c_j+ib_j)+i\\sum_j A_{jm} (c_j-ib_j)-\\lambda 2 b_m.\n",
    "  \\end{align*}\n",
    "اگر برای هر $m$ قرار دهیم\n",
    "$\\frac{ \\partial f}{\\partial c_m}=\\frac{ \\partial f}{\\partial b_m}=0$\n",
    "داریم\n",
    "$2\\lambda(c_m+ib_m)=\\sum_j 2A_{mj}(c_j+ib_j).$\n",
    "پس\n",
    "$$\\lambda\\begin{bmatrix}\n",
    " \\psi_1 \\\\ \n",
    " \\vdots \\\\ \n",
    " \\psi_n\n",
    " \\end{bmatrix} =A\\begin{bmatrix}\n",
    " \\psi_1 \\\\ \n",
    " \\vdots \\\\ \n",
    " \\psi_n\n",
    " \\end{bmatrix} $$\n",
    "\n",
    "\n",
    "### جواب بخش ۳\n",
    "\n",
    "همانطور که در قسمت قبل ثابت کردیم اگر بردار \n",
    "$\\psi_0$\n",
    "برداری باشد که عبارت فوق را کمینه میکند باید در معادله\n",
    "$\\lambda\\vert{\\psi_0}\\rangle=A\\vert{\\phi_0}\\rangle$\n",
    " صدق کند. لذا یک بردار ویژه ماتریس\n",
    " $A$\n",
    " است و کمترین مقدار این عبارت برابر کوچکترین مقدار ویژه است.\n",
    "\n",
    "### جواب بخش ۴\n",
    "\n",
    " با توجه به این که نرم هر بردار \n",
    "$\\vert\\psi\\rangle$\n",
    " مثبت است و قسمت قبل سوال واضح است. \n",
    "\n",
    "### جواب بخش ۵\n",
    "\n",
    "برای هرمیتی بودن کافی است نشان دهیم\n",
    "$A_{ij}=A^*_{ji}$.\n",
    "با توجه به تعریف داریم\n",
    "$A_{ij}=\\langle \\phi_i\\vert \\phi_j\\rangle=\\langle \\phi_j\\vert \\phi_i\\rangle^*=A_{ji}^*$.\n",
    "\n",
    " برای نشان دادن نامنفی بودن مقادیر ویژه، برای هر بردار\n",
    " $\\vert\\psi\\rangle$  \n",
    " داریم\n",
    " $$\\langle \\psi\\vert A \\vert\\psi\\rangle =\\sum_i \\psi_i^* \\sum_j \\langle \\phi_i \\vert \\phi_j\\rangle \\psi_j= \\Big(\\sum_i \\psi_i^*\\langle{\\psi_i}\\vert\\Big)\\Big(\\sum_j \\psi_j \\vert{\\phi_j}\\rangle\\Big) =\\Big\\| \\sum_j \\psi_j \\vert{\\phi_j}\\rangle\\Big\\|^2 \\geq 0.$$\n",
    "  پس طبق قسمت قبل همه مقادیر ویژه مثبت هستند."
   ]
  }
 ],
 "metadata": {
  "kernelspec": {
   "display_name": "Python 3 (ipykernel)",
   "language": "python",
   "name": "python3"
  },
  "language_info": {
   "codemirror_mode": {
    "name": "ipython",
    "version": 3
   },
   "file_extension": ".py",
   "mimetype": "text/x-python",
   "name": "python",
   "nbconvert_exporter": "python",
   "pygments_lexer": "ipython3",
   "version": "3.8.10"
  }
 },
 "nbformat": 4,
 "nbformat_minor": 5
}
