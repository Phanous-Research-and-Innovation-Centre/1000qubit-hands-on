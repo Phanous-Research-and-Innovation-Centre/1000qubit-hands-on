{
 "cells": [
  {
   "cell_type": "markdown",
   "id": "e80aa7cd",
   "metadata": {
    "direction": "rtl"
   },
   "source": [
    "# سؤالِ پنجم"
   ]
  },
  {
   "cell_type": "markdown",
   "id": "4d9836e9",
   "metadata": {
    "direction": "rtl"
   },
   "source": [
    " در این تمرین یک مقدار با خواص مقدار ویژه‌های ماتریس‌های هرمیتی آشنا می‌شویم.\n",
    "فرض کنید $A$ یک ماتریس هرمیتی باشد.\n",
    " \n",
    "1. نشان دهید که به ازای هر بردار\n",
    "$\\vert{\\psi}\\rangle$\n",
    "عبارت\n",
    "$\\langle \\psi \\vert A\\vert \\psi\\rangle$\n",
    "یک عدد حقیقی است."
   ]
  },
  {
   "cell_type": "markdown",
   "id": "7b1de921",
   "metadata": {
    "direction": "rtl"
   },
   "source": [
    "2. نشان دهید \n",
    "$$\\lambda_0 = \\min_{\\vert{\\psi}\\rangle:\\, \\|\\vert\\psi\\rangle\\|=1} \\langle \\psi \\vert A\\vert \\psi\\rangle$$\n",
    "یک مقدار\n",
    "ویژه ماتریس $A$ است.\n",
    "در واقع اگر $\\vert{\\psi_0}\\rangle$\n",
    "برداری باشد که عبارت فوق در آن کمینه می‌شود، آنگاه داریم \n",
    "$A\\vert{\\psi_0}\\rangle = \\lambda_0\\vert{\\psi_0}\\rangle$\n",
    "\n",
    "راهنمایی: ضرایب لاگرانژ را گوگل کنید و مشتق بگیرید.\n"
   ]
  },
  {
   "cell_type": "markdown",
   "id": "4e70c08a",
   "metadata": {
    "direction": "rtl"
   },
   "source": [
    "3. نشان دهید\n",
    "$\\lambda_0$\n",
    "کوچکترین‌ مقدار ویژه $A$\n",
    "است.\n"
   ]
  },
  {
   "cell_type": "markdown",
   "id": "517ffe04",
   "metadata": {
    "direction": "rtl"
   },
   "source": [
    "4. نشان دهید $\\langle \\psi \\vert A\\vert \\psi\\rangle$\n",
    "به ازای هر بردار $\\vert \\psi\\rangle$\n",
    "مثبت است اگر و فقط اگر همه مقدار ویژه‌های $A$\n",
    "مثبت باشند. \n"
   ]
  },
  {
   "cell_type": "markdown",
   "id": "2e73c103",
   "metadata": {
    "direction": "rtl"
   },
   "source": [
    "5. فرض کنید $\\vert{\\phi_1}\\rangle, \\dots, \\vert{\\phi_{d}}\\rangle$\n",
    "بردار‌هایی دلخواه باشند. ماتریس $A$ را ماتریسی $d\\times d$ بگیرید که درایه \n",
    " $(i,j)$\n",
    "برابر $\\langle i \\vert A\\vert j \\rangle = \\langle \\phi_i \\vert \\phi_j \\rangle$\n",
    "باشد.\n",
    "نشان دهید $A$ هرمیتی است و همه مقادیر ویژه $A$\n",
    "نامنفی هستند."
   ]
  },
  {
   "cell_type": "markdown",
   "id": "316b9e3a",
   "metadata": {
    "direction": "rtl"
   },
   "source": [
    "## آماده‌سازی‌ها"
   ]
  },
  {
   "cell_type": "code",
   "execution_count": 209,
   "id": "9e9b9562",
   "metadata": {},
   "outputs": [],
   "source": [
    "import numpy as np"
   ]
  },
  {
   "cell_type": "code",
   "execution_count": 210,
   "id": "3bae88d4",
   "metadata": {},
   "outputs": [],
   "source": [
    "# you can create a random matrix/vector using this function\n",
    "def complex_rand(*args):\n",
    "    return np.random.rand(*args) * np.exp(1j * 2 * np.pi * np.random.rand(*args))"
   ]
  },
  {
   "cell_type": "code",
   "execution_count": 211,
   "id": "af1a91bc",
   "metadata": {},
   "outputs": [],
   "source": [
    "def dagger(x : str):\n",
    "    return np.mat(x).conj().T\n",
    "# e.g. dagger(np.mat([1 + 1j,0,0]))"
   ]
  },
  {
   "cell_type": "code",
   "execution_count": 212,
   "id": "002cb12a",
   "metadata": {},
   "outputs": [],
   "source": [
    "def tensor_product(a, b):\n",
    "    return np.kron(a, b)"
   ]
  },
  {
   "cell_type": "code",
   "execution_count": 213,
   "id": "db8d9527",
   "metadata": {},
   "outputs": [],
   "source": [
    "# part 2\n",
    "# optimization\n",
    "from scipy.optimize import minimize\n",
    "minimize?"
   ]
  },
  {
   "cell_type": "code",
   "execution_count": 214,
   "id": "958bcd94",
   "metadata": {},
   "outputs": [],
   "source": [
    "# part 3\n",
    "np.linalg.eig?"
   ]
  }
 ],
 "metadata": {
  "kernelspec": {
   "display_name": "Python 3 (ipykernel)",
   "language": "python",
   "name": "python3"
  },
  "language_info": {
   "codemirror_mode": {
    "name": "ipython",
    "version": 3
   },
   "file_extension": ".py",
   "mimetype": "text/x-python",
   "name": "python",
   "nbconvert_exporter": "python",
   "pygments_lexer": "ipython3",
   "version": "3.8.10"
  }
 },
 "nbformat": 4,
 "nbformat_minor": 5
}
