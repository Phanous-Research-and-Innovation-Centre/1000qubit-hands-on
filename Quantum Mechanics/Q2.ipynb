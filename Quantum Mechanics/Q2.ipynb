{
 "cells": [
  {
   "cell_type": "markdown",
   "id": "d075827b",
   "metadata": {
    "direction": "rtl"
   },
   "source": [
    "# یک سیستم ساده"
   ]
  },
  {
   "cell_type": "markdown",
   "id": "38eeb194",
   "metadata": {
    "direction": "rtl"
   },
   "source": [
    "اگر از درس شیمی به خاطر داشته باشید، با استفاده از ساختار لوویس می‌توانستیم الکترون‌ها و پیوندهای مولکول‌ها را نشان دهیم. اما بعضی مولکول‌ها بودند که چند ساختار لوویس داشتند که به اصطلاح به آن‌ها رزونانس می‌گفتیم. برای مثال بنزن یا آمونیاک که هر دو ساختارهای دو حالته داشتند. در شکل زیر ساختارهای ممکن بنزن را می‌بینیم."
   ]
  },
  {
   "attachments": {
    "540px-Benzene_delocalization.svg.png": {
     "image/png": "[encoded data removed]"
    }
   },
   "cell_type": "markdown",
   "id": "d8fa65aa",
   "metadata": {},
   "source": [
    "![540px-Benzene_delocalization.svg.png](attachment:540px-Benzene_delocalization.svg.png)"
   ]
  },
  {
   "cell_type": "markdown",
   "id": "461d8e06",
   "metadata": {
    "direction": "rtl"
   },
   "source": [
    "پس برای توصیف مولکول بنزن، باید از یک سیستم دو حالته استفاده کنیم. پس دوبردار پایه این فضا را تعریف می‌کنیم: به ساختار لوویس اول بردار\n",
    "$\\vert 0 \\rangle = \\begin{pmatrix}\n",
    "1\\\\0\n",
    "\\end{pmatrix}$\n",
    "و به ساختار دوم بردار\n",
    "$\\vert 1 \\rangle = \\begin{pmatrix}\n",
    "0\\\\1\n",
    "\\end{pmatrix}$\n",
    "را نسبت می‌دهیم. سیستم را می‌توانیم با هامیلتونی زیر که یک ماتریس هرمیتی است توصیف کنیم.\n",
    "$$\\hat{H} = \\begin{pmatrix}\n",
    "E_0 & -\\Delta \\\\-\\Delta & E_0\n",
    "\\end{pmatrix}$$\n",
    "\n",
    "درایه‌های قطری به این معنی هستند که اگر هر یک از ساختارها را به تنهایی داشتیم هر کدام انرژی\n",
    "$E_0$ \n",
    "داشتند. و درایه‌های غیر قطری $-\\Delta$ برای این هستند که این دو ساختار بتوانند با احتمالی غیر صفر به یکدیگر تبدیل شوند. \n",
    "1. ماتریس هامیلتونی بالا را قطری کنید و ویژه‌بردارها و ویژه‌مقدارهای آن را به دست آورید.\n",
    "\n",
    "حالا می‌خواهیم تحول این سیستم را بررسی کنیم. بنابراین از معادله شرودینگر استفاده می‌کنیم.\n",
    "$$i \\hbar \\frac{d}{dt} \\vert \\psi(t) \\rangle = \\hat{H} \\vert \\psi(t) \\rangle$$\n",
    "تابع موج در زمان‌های مختلف را می‌توانیم برحسب بردارهای پایه فضا بسط دهیم.\n",
    "$$\\vert \\psi(t) \\rangle = c_0(t) \\vert 0 \\rangle + c_1(t) \\vert 1 \\rangle = \\begin{pmatrix} c_0(t) \\\\ c_1(t) \\end{pmatrix}$$\n",
    "بنابراین مسئله تبدیل می‌شود به پیدا کردن تحولات ضرایب $c_0 (t)$ و $c_1 (t)$. با قرار دادن تابع موج برحسب این ضرایب در معادله شرودینگر دو معادله دیفرانسیل خطی خواهیم داشت.\n",
    "\n",
    "2. این دو معادله دیفرانسیل را به دست آورید و با تغییر متغییر آنها را به صورت زیر بازنویسی کنید.\n",
    "$$i \\hbar \\frac{d(c_0 + c_1)}{dt} = (E_0 - \\Delta) (c_0 + c_1)$$\n",
    "$$i \\hbar \\frac{d(c_0 - c_1)}{dt} = (E_0 + \\Delta) (c_0 - c_1)$$\n",
    "3. \tمعادلات بالا را حل کنید و ضرایب $c_0 (t)$ و $c_1 (t)$ را به دست آورید. می‌توانید این معادلات را به صورت عددی حل کنید. \n",
    "\n",
    "4. نشان دهید که در زمان‌های مختلف، احتمال اینکه بنزن در ساختار اول و دوم باشد برابر است با $\\vert c_0(t) \\vert^2$ و $\\vert c_1(t) \\vert^2$. از روی جواب قسمت قبل نمودار این احتمالات برحسب زمان را رسم کنید. \n",
    "5. با استفاده از جواب بخش قبل ساختار رزونانسی بنزن را توصیف کنید.\n",
    "\n",
    "حالا می‌خواهیم این جواب‌ها را از روش دیگری به دست آوریم.\n",
    "\n",
    "6. از جواب های بخش اول استفاده کنید و معادله شرودینگر را در پایه ویژه‌بردارهای ماتریس هامیلتونی بنویسید. یعنی بجای اینکه $\\vert \\psi(t) \\rangle$ را در پایه $\\vert 0 \\rangle$ و $\\vert 1 \\rangle$ بنویسم، در پایه‌ای که در بخش یک بدست آوردیم بنویسیم.\n",
    "7. تحولات ویژه‌بردارهای هامیلتونی را با استفاده از معادله بخش قبل به دست آورید. مشاهده کنید که مشابه جواب‌های بخش ۳ می‌شود."
   ]
  },
  {
   "cell_type": "markdown",
   "id": "ddbb2ed7",
   "metadata": {
    "direction": "rtl"
   },
   "source": [
    "## آماده‌سازی‌ها"
   ]
  },
  {
   "cell_type": "code",
   "execution_count": 63,
   "id": "9a3e0bc8",
   "metadata": {},
   "outputs": [],
   "source": [
    "import numpy as np\n",
    "import matplotlib.pylab as plt"
   ]
  },
  {
   "cell_type": "code",
   "execution_count": 64,
   "id": "c7d82b13",
   "metadata": {},
   "outputs": [],
   "source": [
    "# use for finding eigenvalue and eigenvectors\n",
    "from numpy import linalg as LA"
   ]
  },
  {
   "cell_type": "code",
   "execution_count": 65,
   "id": "11c7c234",
   "metadata": {},
   "outputs": [],
   "source": [
    "def dagger(x : str):\n",
    "    return np.mat(x).conj().T\n",
    "# e.g. dagger(np.mat([1 + 1j,0,0]))"
   ]
  },
  {
   "cell_type": "code",
   "execution_count": null,
   "id": "f00aca5c",
   "metadata": {},
   "outputs": [],
   "source": [
    "# calculate e^matrix\n",
    "from scipy.linalg import expm"
   ]
  },
  {
   "cell_type": "code",
   "execution_count": 66,
   "id": "d64ed920",
   "metadata": {},
   "outputs": [],
   "source": [
    "#part 3\n",
    "def evolution(H,initial,T):\n",
    "    N = 1000\n",
    "    delta_t = T / N\n",
    "    hbar = 1\n",
    "    psi = initial\n",
    "    psi_t = psi\n",
    "    c_0 = complex_rand(N)\n",
    "    c_1 = complex_rand(N)\n",
    "    for i in range(N):\n",
    "        psi_t = np.matmul(expm(-1j * delta_t * H ) , psi) # psi(t) = e^{-itH} psi_0\n",
    "        psi = psi_t\n",
    "        c_0[i] = psi_t[0]\n",
    "        c_1[i] = psi_t[1]\n",
    "    return psi_t,c_0,c_1"
   ]
  }
 ],
 "metadata": {
  "kernelspec": {
   "display_name": "Python 3 (ipykernel)",
   "language": "python",
   "name": "python3"
  },
  "language_info": {
   "codemirror_mode": {
    "name": "ipython",
    "version": 3
   },
   "file_extension": ".py",
   "mimetype": "text/x-python",
   "name": "python",
   "nbconvert_exporter": "python",
   "pygments_lexer": "ipython3",
   "version": "3.8.10"
  }
 },
 "nbformat": 4,
 "nbformat_minor": 5
}
