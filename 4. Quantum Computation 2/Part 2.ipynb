{
 "cells": [
  {
   "cell_type": "markdown",
   "id": "1d171a96",
   "metadata": {
    "direction": "rtl"
   },
   "source": [
    "# تبدیل فوریه کوانتومی (QFT)\n",
    "\n",
    "**Disclaimer**: توی حوزه‌های کوانتومی، دوتا QFT داریم، یکی‌ش همین Quantum Fourier Transformه و اون‌یکی Quantum Field Theory. سعی کنید با هم قاطی‌شون نکنید. :))"
   ]
  },
  {
   "cell_type": "code",
   "execution_count": null,
   "id": "5ee2b891",
   "metadata": {},
   "outputs": [],
   "source": [
    "from qiskit import QuantumCircuit, QuantumRegister, ClassicalRegister, assemble, Aer, transpile\n",
    "from qiskit.visualization import plot_bloch_multivector, plot_histogram, array_to_latex\n",
    "from qiskit.quantum_info import random_statevector\n",
    "import numpy as np\n",
    "import warnings\n",
    "warnings.filterwarnings('ignore')\n",
    "\n",
    "sim = Aer.get_backend('aer_simulator')\n",
    "%matplotlib"
   ]
  },
  {
   "cell_type": "code",
   "execution_count": null,
   "id": "bb7a238f",
   "metadata": {},
   "outputs": [],
   "source": [
    "def get_statevector(qc: QuantumCircuit) -> np.ndarray:\n",
    "    qc.save_statevector()\n",
    "    qobj = assemble(qc)\n",
    "    state = sim.run(qobj).result().get_statevector(qc)\n",
    "    return state"
   ]
  },
  {
   "cell_type": "markdown",
   "id": "2a67fd0f",
   "metadata": {
    "direction": "rtl"
   },
   "source": [
    "\n",
    "## ۱. مقدمه\n",
    "\n",
    "همون‌طور که می‌دونیم، تبدیل فوریه توی قسمت‌های مختلفی از علوم کامپیوتر نقش داره. تبدیل فوریه کوانتومی، پیاده‌سازی کوانتومی‌ای از تبدیل فوریه گسسته روی amplitudeهای یه تابع موجه و قسمت مهمی از خیلی الگوریتم‌های کوانتومی‌ه، از جمله الگوریتم فاکتورگیری Shor و الگوریتم Quantum Phase Estimation.\n",
    "\n",
    "تبدیل فوریه گسسته کلاسیک روی یه بردار  $(x_0, ..., x_{N-1})$ عمل می‌کنه و اون رو طبق فرمول زیر به بردار $(y_0, ..., y_{N-1})$  مپ می‌کنه\n",
    "\n",
    "$$y_k = \\frac{1}{\\sqrt{N}}\\sum_{j=0}^{N-1}x_j\\omega_N^{jk} \\space \\space ; \\space \\space \\text{where} \\space \\omega_N^{jk} = e^{2\\pi i \\frac{jk}{N}} $$\n",
    "\n",
    "به طور مشابه، می‌شه QFT رو به این صورت تعریف کنیم که روی $\\vert X\\rangle = \\sum_{j=0}^{N-1} x_j \\vert j \\rangle$ عمل می‌کنه و طبق فرمول زیر اون رو به $\\vert Y\\rangle = \\sum_{k=0}^{N-1} y_k \\vert k \\rangle$ می‌بره.\n",
    "\n",
    "$$y_k = \\frac{1}{\\sqrt{N}}\\sum_{j=0}^{N-1}x_j\\omega_N^{jk}$$\n",
    "\n",
    "توجه کنید که فقط amplitude استیت‌هامون تغییر می‌کنن. (می‌تونید این‌طوری بهش فکر کنید که استیت جدیدی ایجاد نمی‌شه یا از بین نمی‌ره، همون استیت‌هایی که از قبل داشتیم رو بعد از تبدیل فوریه‌مون هم داریم، فقط با ضریب‌های متفاوت.)\n",
    "\n",
    "### تمرین:\n",
    "\n",
    "توی این تمرین می‌خوایم یه مقدار بیش‌تر و عملی‌تر با QFT آشنا بشیم و حالت‌های مختلف و نحوه ساخت مدار کوانتومی‌ش رو بهتر بشناسیم.\n",
    "\n",
    "#### ۱. QFT تک‌کیوبیتی\n",
    "**ورودی:** مدار تک‌کیوبیتی‌ای داریم که توی وضعیت $|\\psi\\rangle = x_0 |0\\rangle + x_1 |1\\rangle$ قرار داره.\n",
    "\n",
    "**هدف:** QFT رو به این کیوبیت اعمال کنید، یعنی ببریدش به این وضعیت:\n",
    "$$\\frac{1}{\\sqrt{2}} \\big((x_0 + x_1) |0\\rangle + (x_0 - x_1) |1\\rangle\\big)$$\n",
    "\n",
    "یا اگه یه جور دیگه بخوایم بگیم، پایه‌ی $|j\\rangle$ رو ببرید به وضعیت:\n",
    " $\\frac{1}{\\sqrt{2}} \\big(|0\\rangle + e^{2\\pi i \\cdot \\frac{j}{2}}|1\\rangle\\big)$"
   ]
  },
  {
   "cell_type": "code",
   "execution_count": null,
   "id": "67baa2ed",
   "metadata": {},
   "outputs": [],
   "source": [
    "qc = QuantumCircuit(1)\n",
    "qc.initialize(random_statevector(2))\n",
    "\n",
    "def single_QFT(qc: QuantumCircuit):\n",
    "    pass"
   ]
  },
  {
   "cell_type": "markdown",
   "id": "066b8b7d",
   "metadata": {
    "direction": "rtl"
   },
   "source": [
    "#### ۲. گیت دوران یا Rotation\n",
    "**ورودی‌ها:**\n",
    "\n",
    "۱. یه مدار تک کیوبیتی توی وضعیت $|\\psi\\rangle = \\alpha |0\\rangle + \\beta |1\\rangle$.\n",
    "\n",
    "۲. یه عدد صحیح $.k \\geq 0$\n",
    "\n",
    "**هدف:**\n",
    "تابعی بنویسید که مدار رو بگیره و وضعیت کیوبیتش رو به این وضعیت تغییر بدید:\n",
    "$\\alpha |0\\rangle + \\beta \\cdot e^{\\frac{2\\pi i}{2^{k}}} |1\\rangle$\n",
    "نکته: توی این سوال به طور خاص، نمی‌خوایم global phaseای به مدارمون اضافه شه، پس حواس‌تون بهش باشه.\n",
    "\n",
    "اگه نمی‌دونید باید چی‌کار کنید، می‌تونید از مستندات کلاس [QuantumCircuit](https://qiskit.org/documentation/stubs/qiskit.circuit.QuantumCircuit.html) استفاده کنید. :دی"
   ]
  },
  {
   "cell_type": "code",
   "execution_count": null,
   "id": "68fad356",
   "metadata": {},
   "outputs": [],
   "source": [
    "qc = QuantumCircuit(1)\n",
    "qc.initialize(random_statevector(2))\n",
    "\n",
    "k = np.random.randint(1, 100)\n",
    "\n",
    "def qubit_rotation(qc: QuantumCircuit, k: int):\n",
    "    pass"
   ]
  },
  {
   "cell_type": "markdown",
   "id": "c7c84e8f",
   "metadata": {
    "direction": "rtl"
   },
   "source": [
    "#### ۳. توان کسر باینری با ورودی کلاسیک.\n",
    "\n",
    "**ورودی‌ها:**\n",
    "\n",
    "۱. یه مدار تک کیوبیتی توی وضعیت $|\\psi\\rangle = \\alpha |0\\rangle + \\beta |1\\rangle$.\n",
    "\n",
    "۲. یه آرایه $n$ بیتی از اعداد باینری:\n",
    "\n",
    "$$[j_1, j_2, ..., j_n] \\space \\text{where} \\space j_k \\in \\{0,1\\} $$\n",
    "\n",
    "**هدف:**\n",
    "وضعیت کیوبیت رو به $\\alpha |0\\rangle + \\beta \\cdot e^{2\\pi i \\cdot 0.j_1 j_2 ... j_n} |1\\rangle$ تغییر بدید، که توی این فرمول، $0.j_1 j_2 ... j_n$ یه کسر باینریه، مشابه کسرهای ده‌دهی، یعنی:\n",
    "\n",
    "$$0.j_1 j_2 ... j_n = j_1 \\cdot \\frac{1}{2^1} + j_2 \\cdot \\frac{1}{2^2} + ... j_n \\cdot \\frac{1}{2^n}$$"
   ]
  },
  {
   "cell_type": "code",
   "execution_count": null,
   "id": "4c274486",
   "metadata": {},
   "outputs": [],
   "source": [
    "qc = QuantumCircuit(1)\n",
    "qc.initialize(random_statevector(2))\n",
    "\n",
    "n = 10\n",
    "j = np.random.randint(0, 2, size=n)\n",
    "\n",
    "def binary_fraction_classical(qc: QuantumCircuit, j: np.ndarray):\n",
    "    pass"
   ]
  },
  {
   "cell_type": "markdown",
   "id": "df2b472f",
   "metadata": {
    "direction": "rtl"
   },
   "source": [
    "#### ۴. توان کسر باینری با ورودی کوانتومی.\n",
    "\n",
    "**ورودی‌ها:**\n",
    "\n",
    "۱. یه رجیستر تک کیوبیتی توی وضعیت $|\\psi\\rangle = \\alpha |0\\rangle + \\beta |1\\rangle$.\n",
    "\n",
    "۲. یه رجیستر $n$ تایی از کیوبیت‌ها توی وضعیت $|j_1 j_2 ... j_n\\rangle$.\n",
    "\n",
    "۳. یه مدار کوانتومی که این دو رجیستر توشن.\n",
    "\n",
    "**هدف:**\n",
    "وضعیت ورودی رو از \n",
    "$(\\alpha |0\\rangle + \\beta |1\\rangle) \\otimes |j_1 j_2 ... j_n\\rangle$\n",
    "به\n",
    "$(\\alpha |0\\rangle + \\beta \\cdot e^{2\\pi i \\cdot 0.j_1 j_2 ... j_n} |1\\rangle) \\otimes |j_1 j_2 ... j_n\\rangle$\n",
    "تغییر بدید، به صورتی که $0.j_1 j_2 ... j_n$ یه کسر باینری به نسبت وضعیت \n",
    "$j_1 j_2 ... j_n$ رجیسترمون‌ه.\n",
    "\n",
    "توجه داشته‌باشید که رجیستر کوانتومیه، یعنی می‌تونه وضعیتش توی Superposition هم باشه، ولی فقط لازمه بتونیم رفتار یه مدار روی پایه‌های برداری‌مون رو کنترل کنیم و بقیه‌ش آسون می‌شه. "
   ]
  },
  {
   "cell_type": "code",
   "execution_count": 75,
   "id": "a08cfe36",
   "metadata": {},
   "outputs": [],
   "source": [
    "n = 10\n",
    "psi = QuantumRegister(1, name='psi')\n",
    "j = QuantumRegister(n, name='j')\n",
    "qc = QuantumCircuit(psi, j)\n",
    "\n",
    "j_x = np.random.randint(0, 2, size=n)\n",
    "j_h = np.random.randint(0, 2, size=n)\n",
    "for i, (x, h) in enumerate(zip(j_x, j_h)):\n",
    "    if x:\n",
    "        qc.x(j[i])\n",
    "    if h:\n",
    "        qc.h(j[i])\n",
    "\n",
    "def binary_fraction_quantum(qc: QuantumCircuit, psi: QuantumRegister, j: QuantumRegister):\n",
    "    pass"
   ]
  },
  {
   "cell_type": "markdown",
   "id": "0ac232aa",
   "metadata": {
    "direction": "rtl"
   },
   "source": [
    "#### ۵. توان کسر باینری با ورودی کوانتومی. (بدون کیوبیت اضافی)\n",
    "\n",
    "**ورودی‌ها:**\n",
    "\n",
    "۱. یه رجیستر $n$ تایی از کیوبیت‌ها توی وضعیت $|j_1 j_2 ... j_n\\rangle$.\n",
    "\n",
    "۲. یه مدار کوانتومی که فقط همین رجیستر توش قرار گرفته.\n",
    "\n",
    "**هدف:**\n",
    "وضعیت ورودی رو \n",
    "$|j_1 j_2 ... j_n\\rangle$\n",
    "به\n",
    " $\\frac{1}{\\sqrt{2}} \\big(|0\\rangle + e^{2\\pi i \\cdot 0.j_1 j_2 ... j_n} |1\\rangle \\otimes |j_2 ... j_n\\rangle\\big)$\n",
    "تغییر بدید، به صورتی که $0.j_1 j_2 ... j_n$ یه کسر باینری به نسبت وضعیت \n",
    "$j_1 j_2 ... j_n$ رجیسترمون‌ه.\n",
    "\n",
    "(این تمرین عملا همون تمرین قبلیه، با این فرق که داریم encoding رو توی همون رجیستری که داشتیم انجام می‌دیم."
   ]
  },
  {
   "cell_type": "code",
   "execution_count": 84,
   "id": "a976dfae",
   "metadata": {},
   "outputs": [],
   "source": [
    "n = 10\n",
    "j = QuantumRegister(n, name='j')\n",
    "qc = QuantumCircuit(j)\n",
    "\n",
    "j_x = np.random.randint(0, 2, size=n)\n",
    "j_h = np.random.randint(0, 2, size=n)\n",
    "for i, (x, h) in enumerate(zip(j_x, j_h)):\n",
    "    if x:\n",
    "        qc.x(j[i])\n",
    "    if h:\n",
    "        qc.h(j[i])\n",
    "\n",
    "def binary_fraction_quantum_in_place(qc: QuantumCircuit, j: QuantumRegister):\n",
    "    pass"
   ]
  },
  {
   "cell_type": "markdown",
   "id": "598ba968",
   "metadata": {
    "direction": "rtl"
   },
   "source": [
    "#### ۶. برعکس کردن کیوبیت‌ها\n",
    "\n",
    "**ورودی:**\n",
    "\n",
    "۱. یه رجیستر $n$ کیوبیتی توی وضعیت $|x_1 x_2 ... x_n \\rangle$.\n",
    "\n",
    "**هدف:**\n",
    "رجیستر رو ببرید به وضعیت برعکسش، یعنی  $|x_n ... x_2 x_1\\rangle$ "
   ]
  },
  {
   "cell_type": "code",
   "execution_count": null,
   "id": "fa4c8963",
   "metadata": {},
   "outputs": [],
   "source": [
    "n = 3\n",
    "j = QuantumRegister(n, name='j')\n",
    "qc = QuantumCircuit(j)\n",
    "\n",
    "j_x = np.random.randint(0, 2, size=n)\n",
    "for i, x, in enumerate(j_x):\n",
    "    if x:\n",
    "        qc.x(j[i])\n",
    "    else:\n",
    "        pass\n",
    "    \n",
    "def reverse_register(qc: QuantumCircuit, reg: QuantumRegister):\n",
    "    pass"
   ]
  },
  {
   "cell_type": "markdown",
   "id": "c7b3f25c",
   "metadata": {
    "direction": "rtl"
   },
   "source": [
    "#### ۷. در نهایت، تبدیل فوریه کوانتومی!\n",
    "\n",
    "**ورودی:**\n",
    "\n",
    "۱. یه رجیستر از کیوبیت‌ها توی وضعیت $|j_1 j_2 ... j_n \\rangle$.\n",
    "\n",
    "**هدف:**\n",
    "اجرای تبدیل فوریه کوانتومی روی این رجیستر، یعنی وضعیت نهایی رجیستر به صورت زیر در بیاد:\n",
    "\n",
    "$$\\frac{1}{\\sqrt{2^{n}}} \\sum_{k=0}^{n-1} e^{2\\pi i \\cdot \\frac{jk}{2^{n}}} |k\\rangle = $$\n",
    "$$\\begin{align}= &\\frac{1}{\\sqrt{2}} \\big(|0\\rangle + e^{2\\pi i \\cdot 0.j_n} |1\\rangle\\big) \\otimes \\\\\n",
    "\\otimes &\\frac{1}{\\sqrt{2}} \\big(|0\\rangle + e^{2\\pi i \\cdot 0.j_{n-1} j_n} |1\\rangle\\big) \\otimes ... \\\\\n",
    "\\otimes &\\frac{1}{\\sqrt{2}} \\big(|0\\rangle + e^{2\\pi i \\cdot 0.j_1 j_2 ... j_{n-1} j_n} |1\\rangle\\big)\\end{align}$$\n",
    "\n",
    "<details>\n",
    "  <summary><b>برای دیدن راهنمایی این‌جا رو کلیک کنید. </b></summary>\n",
    "سعی کنید اول یه وضعیت دیگه رو درست کنید و بعد ببریدش به وضعیت نهایی:\n",
    "    \n",
    "$\\frac{1}{\\sqrt{2}} \\big(|0\\rangle + exp(2\\pi i \\cdot 0.j_1 j_2 ... j_{n-1} j_n) |1\\rangle\\big) \\otimes ...\n",
    "\\otimes \\frac{1}{\\sqrt{2}} \\big(|0\\rangle + exp(2\\pi i \\cdot 0.j_{n-1} j_n) |1\\rangle\\big)\n",
    "\\otimes \\frac{1}{\\sqrt{2}} \\big(|0\\rangle + exp(2\\pi i \\cdot 0.j_n) |1\\rangle\\big)$\n",
    "    \n",
    "</details>"
   ]
  },
  {
   "cell_type": "code",
   "execution_count": 85,
   "id": "2acab346",
   "metadata": {},
   "outputs": [],
   "source": [
    "n = 10\n",
    "j = QuantumRegister(n, name='j')\n",
    "qc = QuantumCircuit(j)\n",
    "\n",
    "j_x = np.random.randint(0, 2, size=n)\n",
    "j_h = np.random.randint(0, 2, size=n)\n",
    "for i, (x, h) in enumerate(zip(j_x, j_h)):\n",
    "    if x:\n",
    "        qc.x(j[i])\n",
    "    if h:\n",
    "        qc.h(j[i])\n",
    "\n",
    "def quantum_fourier_transform(qc: QuantumCircuit, j: QuantumRegister):\n",
    "    pass"
   ]
  }
 ],
 "metadata": {
  "kernelspec": {
   "display_name": "Python 3 (ipykernel)",
   "language": "python",
   "name": "python3"
  },
  "language_info": {
   "codemirror_mode": {
    "name": "ipython",
    "version": 3
   },
   "file_extension": ".py",
   "mimetype": "text/x-python",
   "name": "python",
   "nbconvert_exporter": "python",
   "pygments_lexer": "ipython3",
   "version": "3.9.6"
  }
 },
 "nbformat": 4,
 "nbformat_minor": 5
}
