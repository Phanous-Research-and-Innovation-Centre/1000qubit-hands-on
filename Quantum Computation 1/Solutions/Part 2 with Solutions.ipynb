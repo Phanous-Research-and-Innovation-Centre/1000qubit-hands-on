{
 "cells": [
  {
   "cell_type": "markdown",
   "metadata": {
    "direction": "rtl",
    "tags": [
     "remove_cell"
    ]
   },
   "source": [
    "# Qiskit: گیت‌های چندکیوبیتی"
   ]
  },
  {
   "cell_type": "code",
   "execution_count": 1,
   "metadata": {},
   "outputs": [
    {
     "name": "stdout",
     "output_type": "stream",
     "text": [
      "Using matplotlib backend: agg\n"
     ]
    }
   ],
   "source": [
    "from qiskit import QuantumCircuit, assemble, Aer\n",
    "from qiskit.visualization import plot_bloch_multivector, plot_histogram, array_to_latex\n",
    "from qiskit.quantum_info import random_statevector\n",
    "import numpy as np\n",
    "import warnings\n",
    "warnings.filterwarnings('ignore')\n",
    "\n",
    "sim = Aer.get_backend('aer_simulator')\n",
    "%matplotlib"
   ]
  },
  {
   "cell_type": "code",
   "execution_count": 66,
   "metadata": {},
   "outputs": [],
   "source": [
    "def get_statevector(qc: QuantumCircuit) -> np.ndarray:\n",
    "    sim = Aer.get_backend('aer_simulator_statevector')\n",
    "    qc.save_statevector()\n",
    "    qobj = assemble(qc)\n",
    "    state = sim.run(qobj).result().get_statevector(qc)\n",
    "    return state"
   ]
  },
  {
   "cell_type": "markdown",
   "metadata": {
    "direction": "rtl"
   },
   "source": [
    "منطقا کیوبیت‌هایی که با هم کاری نداشته‌باشن نمی‌تونن خیلی محاسبات عجیبی انجام بدن، برای همینم می‌خوایم یه کاری کنیم کیوبیت‌هامون برهم‌کنش داشته‌باشن و سعی کنیم محاسباتی فراتر از محاسبات کلاسیک انجام بدیم.\n",
    "\n",
    "## ۱. یادآوری: نشون‌دادن وضعیت‌های چندکیوبیتی\n",
    "\n",
    "یادمون هست که وضعیت یه سیستم دو کیوبیتی رو می‌تونستیم با استفاده از ضرب تانسوری و به صورت زیر تعریف کنیم:\n",
    "\n",
    "$$ |a\\rangle = a_{00}|00\\rangle + a_{01}|01\\rangle + a_{10}|10\\rangle + a_{11}|11\\rangle = \\begin{bmatrix} a_{00} \\\\ a_{01} \\\\ a_{10} \\\\ a_{11} \\end{bmatrix} $$\n",
    "\n",
    "که این‌جا $ a_{ij} $ ها اعداد مختلطی تحت این شرایط بودن:\n",
    "\n",
    "$$ |a_{00}|^2 + |a_{01}|^2 + |a_{10}|^2 + |a_{11}|^2 = 1$$\n",
    "\n",
    "و قوانین اندازه‌گیری هم مثل قبل بهشون اعمال می‌شد:\n",
    "$$ p(|ij\\rangle) = |\\langle ij | a \\rangle |^2 = |a_{ij}|^2 \\space ; \\space i, j \\in \\{0, 1\\}$$\n",
    "\n",
    "اگه ما دوتا کیوبیت جدا داشته‌باشیم، می‌تونیم بردار وضعیت‌شونو به این شکل توصیف کنیم:\n",
    "\n",
    "$$ |a\\rangle = \\begin{bmatrix} a_0 \\\\ a_1 \\end{bmatrix}, \\quad |b\\rangle = \\begin{bmatrix} b_0 \\\\ b_1 \\end{bmatrix} $$\n",
    "\n",
    "$$ \n",
    "|ba\\rangle = |b\\rangle \\otimes |a\\rangle = \\begin{bmatrix} b_0 \\times \\begin{bmatrix} a_0 \\\\ a_1 \\end{bmatrix} \\\\ b_1 \\times \\begin{bmatrix} a_0 \\\\ a_1 \\end{bmatrix} \\end{bmatrix} = \\begin{bmatrix} b_0 a_0 \\\\ b_0 a_1 \\\\ b_1 a_0 \\\\ b_1 a_1 \\end{bmatrix}\n",
    "$$\n",
    "\n",
    "و اگه سه تا کیوبیت داشته‌باشیم:\n",
    "$$ \n",
    "|cba\\rangle = \\begin{bmatrix} c_0 b_0 a_0 \\\\ c_0 b_0 a_1 \\\\ c_0 b_1 a_0 \\\\ c_0 b_1 a_1 \\\\\n",
    "                              c_1 b_0 a_0 \\\\ c_1 b_0 a_1 \\\\ c_1 b_1 a_0 \\\\ c_1 b_1 a_1 \\\\\n",
    "              \\end{bmatrix}\n",
    "$$\n",
    "\n",
    "پس همون‌طور که می‌بینید اگه $n$تا کیوبیت داشته‌باشیم، برای دونستن وضعیتش باید $2^n$تا عدد مختلط رو نگه داریم. چون این اندازه به صورت نمایی افزایش پیدا می‌کنه، شبیه‌سازی رفتار کامپیوترهای کوانتومی روی کامپیوترهای کلاسیک سختن. مثلا یه لپ‌تاپ امروزی می‌تونه یه بردار وضعیت با حدود ۲۰ کیوبیت رو به راحتی شبیه‌سازی کنه، ولی شبیه‌سازی ۱۰۰  کیوبیت برای بزرگ‌ترین ابرکامیپوترها هم بیش از حد سخته.\n",
    "\n",
    "برای یه دست‌گرمی ساده، سعی کنید وضعیت زیر رو به صورت ضرب تانسوری دوتا کیوبیت بنویسید.\n",
    "\n",
    "$$|\\psi\\rangle = \\frac{1}{\\sqrt{2}}|00\\rangle + \\frac{i}{\\sqrt{2}}|01\\rangle $$\n",
    "\n",
    "به عنوان یه مثال ساده، مدار زیر رو ببینید:"
   ]
  },
  {
   "cell_type": "code",
   "execution_count": 19,
   "metadata": {},
   "outputs": [
    {
     "data": {
      "image/png": "[encoded data removed]",
      "text/plain": [
       "<Figure size 203.885x284.278 with 1 Axes>"
      ]
     },
     "execution_count": 19,
     "metadata": {},
     "output_type": "execute_result"
    }
   ],
   "source": [
    "qc = QuantumCircuit(3)\n",
    "# Apply H-gate to each qubit:\n",
    "for qubit in range(3):\n",
    "    qc.h(qubit)\n",
    "# See the circuit:\n",
    "qc.draw(output=\"mpl\")"
   ]
  },
  {
   "cell_type": "markdown",
   "metadata": {
    "direction": "rtl"
   },
   "source": [
    "که وضعیت همه‌ی کیوبیت‌ها رو به استیت  $|+\\rangle$ می‌بره، یعنی وضعیت نهایی‌مون به صورت زیر درمی‌آد:\n",
    "\n",
    "$$ \n",
    "|{+++}\\rangle = \\frac{1}{\\sqrt{8}}\\begin{bmatrix} 1 \\\\ 1 \\\\ 1 \\\\ 1 \\\\\n",
    "                              1 \\\\ 1 \\\\ 1 \\\\ 1 \\\\\n",
    "              \\end{bmatrix}\n",
    "$$\n",
    "\n",
    "و نتیجه‌ش رو هم می‌تونیم با اجرای این کد تایید کنیم:"
   ]
  },
  {
   "cell_type": "code",
   "execution_count": 20,
   "metadata": {},
   "outputs": [
    {
     "data": {
      "text/latex": [
       "$$\n",
       "\\text{Statevector} = \n",
       "\\begin{bmatrix}\n",
       "\\tfrac{1}{\\sqrt{8}}  \\\\\n",
       " \\tfrac{1}{\\sqrt{8}}  \\\\\n",
       " \\tfrac{1}{\\sqrt{8}}  \\\\\n",
       " \\tfrac{1}{\\sqrt{8}}  \\\\\n",
       " \\tfrac{1}{\\sqrt{8}}  \\\\\n",
       " \\tfrac{1}{\\sqrt{8}}  \\\\\n",
       " \\tfrac{1}{\\sqrt{8}}  \\\\\n",
       " \\tfrac{1}{\\sqrt{8}}  \\\\\n",
       " \\end{bmatrix}\n",
       "$$"
      ],
      "text/plain": [
       "<IPython.core.display.Latex object>"
      ]
     },
     "execution_count": 20,
     "metadata": {},
     "output_type": "execute_result"
    }
   ],
   "source": [
    "# Let's see the result\n",
    "state = get_statevector(qc)\n",
    "state_vertical = state.reshape(8, 1)\n",
    "array_to_latex(state_vertical, prefix=\"\\\\text{Statevector} = \")"
   ]
  },
  {
   "cell_type": "markdown",
   "metadata": {
    "direction": "rtl"
   },
   "source": [
    "## ۲. گیت‌های چندکیوبیتی\n",
    "\n",
    "### ۱.۲ گیت‌های چندکیوبیتی ترکیبی\n",
    "\n",
    "همون‌طور که یه سیستم $n$ کیوبیتی رو با یه بردار $2^n$ کیوبیتی نشون می‌دیم، برای اعمال تغییرات روشون به ماتریس‌هایی  با ابعاد $2^n \\times 2^n $ نیاز داریم.\n",
    "بعضی از این ماتریس‌ها رو می‌شه به صورت ضرب تانسوری دوتا گیت تک‌کیوبیتی نوشت. به عنوان مثال داریم:\n",
    "\n",
    "$$\n",
    "X|q_1\\rangle \\otimes H|q_0\\rangle = (X\\otimes H)|q_1 q_0\\rangle\n",
    "$$\n",
    "\n",
    "که ماتریسش به این صورته\n",
    "\n",
    "$$\n",
    "X\\otimes H = \\begin{bmatrix} 0 & 1 \\\\ 1 & 0 \\end{bmatrix} \\otimes \\tfrac{1}{\\sqrt{2}}\\begin{bmatrix} 1 & 1 \\\\ 1 & -1 \\end{bmatrix} = \\frac{1}{\\sqrt{2}}\n",
    "\\begin{bmatrix} 0 \\times \\begin{bmatrix} 1 & 1 \\\\ 1 & -1 \\end{bmatrix}\n",
    "              & 1 \\times \\begin{bmatrix} 1 & 1 \\\\ 1 & -1 \\end{bmatrix}\n",
    "                \\\\ \n",
    "                1 \\times \\begin{bmatrix} 1 & 1 \\\\ 1 & -1 \\end{bmatrix}\n",
    "              & 0 \\times \\begin{bmatrix} 1 & 1 \\\\ 1 & -1 \\end{bmatrix}\n",
    "\\end{bmatrix} = \\frac{1}{\\sqrt{2}}\n",
    "\\begin{bmatrix} 0 & 0 & 1 & 1 \\\\\n",
    "                0 & 0 & 1 & -1 \\\\\n",
    "                1 & 1 & 0 & 0 \\\\\n",
    "                1 & -1 & 0 & 0 \\\\\n",
    "\\end{bmatrix}\n",
    "$$\n",
    "\n",
    "این گیت‌ها رو می‌شه عملا به این صورت دید که داریم دوتا گیت تک‌کیوبیتی رو همزمان روی دوتا کیوبیت اجرا می‌کنیم.\n",
    "توی Qiskit، ما می‌تونیم مداری که درست می‌کنیم رو به صورت یه ماتریس یکانی نشون بدیم. مثلا برای همین گیت $ (X\\otimes H) $ داریم: "
   ]
  },
  {
   "cell_type": "code",
   "execution_count": 21,
   "metadata": {},
   "outputs": [
    {
     "data": {
      "image/png": "[encoded data removed]",
      "text/plain": [
       "<Figure size 203.683x200.667 with 1 Axes>"
      ]
     },
     "execution_count": 21,
     "metadata": {},
     "output_type": "execute_result"
    }
   ],
   "source": [
    "qc = QuantumCircuit(2)\n",
    "qc.h(0)\n",
    "qc.x(1)\n",
    "qc.draw(output=\"mpl\")"
   ]
  },
  {
   "cell_type": "code",
   "execution_count": 22,
   "metadata": {},
   "outputs": [],
   "source": [
    "qc.save_unitary()\n",
    "qobj = assemble(qc)\n",
    "unitary = sim.run(qobj).result().get_unitary()"
   ]
  },
  {
   "cell_type": "code",
   "execution_count": 23,
   "metadata": {},
   "outputs": [
    {
     "data": {
      "text/latex": [
       "$$\n",
       "\\text{Circuit = }\n",
       "\n",
       "\\begin{bmatrix}\n",
       "0 & 0 & \\tfrac{1}{\\sqrt{2}} & \\tfrac{1}{\\sqrt{2}}  \\\\\n",
       " 0 & 0 & \\tfrac{1}{\\sqrt{2}} & -\\tfrac{1}{\\sqrt{2}}  \\\\\n",
       " \\tfrac{1}{\\sqrt{2}} & \\tfrac{1}{\\sqrt{2}} & 0 & 0  \\\\\n",
       " \\tfrac{1}{\\sqrt{2}} & -\\tfrac{1}{\\sqrt{2}} & 0 & 0  \\\\\n",
       " \\end{bmatrix}\n",
       "$$"
      ],
      "text/plain": [
       "<IPython.core.display.Latex object>"
      ]
     },
     "execution_count": 23,
     "metadata": {},
     "output_type": "execute_result"
    }
   ],
   "source": [
    "array_to_latex(unitary, prefix=\"\\\\text{Circuit = }\\n\")"
   ]
  },
  {
   "cell_type": "markdown",
   "metadata": {
    "direction": "rtl"
   },
   "source": [
    "### ۲.۲. گیت CNOT\n",
    "\n",
    "گیت CNOT یه گیت چندکیوبیتیه و گیت نسبتا خاصی‌ه، چراکه کاری که می‌کنه کاملا به این بستگی داره که وضعیت یکی از کیوبیت‌هامون در لحظه‌ی اجرا چی باشه، و به همین دلیل نمی‌شه به صورت ضرب تانسوری دوتا گیت تک‌کیوبیتی یکانی نوشتنش.\n",
    "\n",
    "این گیت، یه گیت $X$ یا $NOT$ رو روی یکی از کیوبیت‌ها (که بهش می‌گیم ‍`target`) اعمال می‌کنه، تنها در صورتی که اون‌یکی کیوبیت (که بهش می‌گیم `control`) توی حالت $|1\\rangle$ باشه. \n",
    "\n",
    "نمایش ماتریسی $CNOT$ ای که توش کیوبیت اول `control` ه و کیوبیت دومی `target` هم به این شکله:\n",
    "\n",
    "$$\n",
    "\\text{CNOT} = \\begin{bmatrix} 1 & 0 & 0 & 0 \\\\\n",
    "                              0 & 1 & 0 & 0 \\\\\n",
    "                              0 & 0 & 0 & 1 \\\\\n",
    "                              0 & 0 & 1 & 0 \\\\\n",
    "              \\end{bmatrix}\n",
    "$$\n",
    "\n",
    "و اگه کیوبیت اول `target` باشه و کیوبیت دومی `control`، $CNOT$ به این صورت در می‌آد.\n",
    "\n",
    "$$\n",
    "\\text{CNOT} = \\begin{bmatrix} 1 & 0 & 0 & 0 \\\\\n",
    "                              0 & 0 & 0 & 1 \\\\\n",
    "                              0 & 0 & 1 & 0 \\\\\n",
    "                              0 & 1 & 0 & 0 \\\\\n",
    "              \\end{bmatrix}\n",
    "$$\n",
    "\n",
    "به این معنا که $q_0$ کیوبیت `control` مون‌ه و $q_1$ کیوبیت `target`مون.\n",
    "\n",
    "یه نحوه‌ی دیگه فکر کردن بهش اینه که $CNOT$ وقتی روی یه بردار ۴-بعدی (۲ کیوبیتی) اجرا بشه، جای ضریب‌های این دوتا وضعیت پایه رو با هم عوض می‌کنه:\n",
    "\n",
    "$$ \n",
    "|a\\rangle = \\begin{bmatrix} a_{00} \\\\ a_{01} \\\\ a_{10} \\\\ a_{11} \\end{bmatrix}, \\quad \\text{CNOT}|a\\rangle = \\begin{bmatrix} a_{00} \\\\ a_{01} \\\\ a_{11} \\\\ a_{10} \\end{bmatrix} \\begin{matrix} \\\\ \\\\ \\leftarrow \\\\ \\leftarrow \\end{matrix}\n",
    "$$\n",
    "\n",
    "این گیت توی Qiskit به صورت `cx(control, target)` پیاده‌سازی شده."
   ]
  },
  {
   "cell_type": "markdown",
   "metadata": {
    "direction": "rtl"
   },
   "source": [
    "### تمرین 💡\n",
    "\n",
    "۱. می‌دونیم که گیت $CNOT$ روی دوتا کیوبیت control و target عمل می‌کنه. چک کنید و ببینید اگه کیوبیت controlمون توی superposition نباشه، می‌تونیم با CNOT کاری انجام بدیم که قبلا هم می‌تونستیم انجام بدیم یا نه.\n",
    "و اون حالت رو با حالتی که کیوبیت `control` توی superpositionای از $ |0\\rangle$ و $|1\\rangle$ باشه مقایسه کنید. "
   ]
  },
  {
   "cell_type": "code",
   "execution_count": 63,
   "metadata": {},
   "outputs": [
    {
     "name": "stdout",
     "output_type": "stream",
     "text": [
      "Are these two the same thing? \n",
      " True\n",
      "Are these two also the same thing? \n",
      " True\n",
      "The entangled state: \n",
      " [[0.70710678+0.j]\n",
      " [0.        +0.j]\n",
      " [0.        +0.j]\n",
      " [0.70710678+0.j]]\n",
      "Is it equal to the first case? \n",
      " False\n",
      "Is it equal to the second case? \n",
      " False\n"
     ]
    }
   ],
   "source": [
    "# ENTER CODE FOR Q1 HERE\n",
    "\n",
    "## |00> + |01>\n",
    "qc_1 = QuantumCircuit(2)\n",
    "qc_1.h(1)\n",
    "qc_1.cx(0, 1)\n",
    "\n",
    "state_1 = get_statevector(qc_1)\n",
    "\n",
    "# |00> + |01>\n",
    "qc_2 = QuantumCircuit(2)\n",
    "qc_2.h(1)\n",
    "qc_2.i(1)\n",
    "\n",
    "state_2 = get_statevector(qc_2)\n",
    "\n",
    "print(f\"Are these two the same thing? \\n {np.all(state_1 == state_2)}\")\n",
    "\n",
    "# |10> + |11>\n",
    "qc_3 = QuantumCircuit(2)\n",
    "qc_3.h(1)\n",
    "qc_3.x(0)\n",
    "qc_3.cx(0, 1)\n",
    "\n",
    "state_3 = get_statevector(qc_3)\n",
    "\n",
    "# |10> + |11>\n",
    "qc_4 = QuantumCircuit(2)\n",
    "qc_4.h(1)\n",
    "qc_4.x(0)\n",
    "qc_4.i(1)\n",
    "\n",
    "state_4 = get_statevector(qc_4)\n",
    "\n",
    "print(f\"Are these two also the same thing? \\n {np.all(state_3 == state_4)}\")\n",
    "\n",
    "# |00> + |11>\n",
    "\n",
    "qc_5 = QuantumCircuit(2)\n",
    "\n",
    "qc_5.h(0)\n",
    "qc_5.cx(0, 1)\n",
    "\n",
    "state_5 = get_statevector(qc_5)\n",
    "\n",
    "print(f\"The entangled state: \\n {state_5.reshape(4, 1)}\")\n",
    "print(f\"Is it equal to the first case? \\n {np.all(state_5 == state_1)}\")\n",
    "print(f\"Is it equal to the second case? \\n {np.all(state_5 == state_3)}\")"
   ]
  },
  {
   "cell_type": "markdown",
   "metadata": {
    "direction": "rtl"
   },
   "source": [
    "می‌بینیم که وقتی کیوبیت `control` مون توی وضعیت $ |0\\rangle$ یا $|1\\rangle$ باشه انگار داریم روی کیوبیت `target`مون عملیات $I$ انجام می‌دیم، ولی وقتی `control` توی superpositionای از $ |0\\rangle$ و $|1\\rangle$ باشه وضعیت کاملا فرق می‌کنه!\n",
    "\n",
    "$$ \\text{Isn't that something?!} $$"
   ]
  },
  {
   "cell_type": "markdown",
   "metadata": {
    "direction": "rtl"
   },
   "source": [
    "\n",
    "۲. توی جلسه‌ی دست به کار روز اول، با چهار بردار متعامد یکه آشنا شدیم که یه پایه‌ی برای فضای برداری‌مون تشکیل \n",
    "می‌دادن. به این بردارها که این زیر می‌بینیم‌شون Bell State می‌گن.\n",
    "\n",
    "$$|{\\Phi_\\pm}\\rangle = \\frac{1}{\\sqrt 2}\\big(|0\\rangle| 0\\rangle\\pm |1\\rangle| 1\\rangle\\big), \\qquad |{\\Psi_{\\pm}}\\rangle=\\frac{1}{\\sqrt 2}\\big(|0\\rangle| 1\\rangle\\pm  |1\\rangle|0\\rangle\\big).$$\n",
    "\n",
    "با کمک گیت‌هایی که تا الان بهتون معرفی شده، یکی از Bell Stateها رو بسازید و ببینید با استفاده از گیت‌های تک‌کیوبیتی چه‌طور می‌تونید بردارهای این پایه رو به هم تبدیل کنید.\n"
   ]
  },
  {
   "cell_type": "code",
   "execution_count": 77,
   "metadata": {},
   "outputs": [
    {
     "data": {
      "text/latex": [
       "$$\n",
       "\\text{The 4 bell states augmented in one matrix = }\n",
       "\n",
       "\\begin{bmatrix}\n",
       "\\tfrac{1}{\\sqrt{2}} & 0 & 0 & \\tfrac{1}{\\sqrt{2}}  \\\\\n",
       " 0 & \\tfrac{1}{\\sqrt{2}} & \\tfrac{1}{\\sqrt{2}} & 0  \\\\\n",
       " \\tfrac{1}{\\sqrt{2}} & 0 & 0 & -\\tfrac{1}{\\sqrt{2}}  \\\\\n",
       " 0 & \\tfrac{1}{\\sqrt{2}} & -\\tfrac{1}{\\sqrt{2}} & 0  \\\\\n",
       " \\end{bmatrix}\n",
       "$$"
      ],
      "text/plain": [
       "<IPython.core.display.Latex object>"
      ]
     },
     "execution_count": 77,
     "metadata": {},
     "output_type": "execute_result"
    }
   ],
   "source": [
    "# ENTER CODE FOR Q2 HERE\n",
    "\n",
    "qcs = [QuantumCircuit(2) for _ in range(4)]\n",
    "x_qc, z_qc = (QuantumCircuit(2) for _ in range(2))\n",
    "\n",
    "qcs[0].h(0)\n",
    "qcs[0].cx(0, 1)\n",
    "\n",
    "x_qc.x(1)\n",
    "z_qc.z(1)\n",
    "\n",
    "qcs[1] = qcs[0] + x_qc\n",
    "qcs[2] = qcs[0] + z_qc\n",
    "qcs[3] = qcs[1] + z_qc\n",
    "\n",
    "bells = [get_statevector(qc) for qc in qcs]\n",
    "\n",
    "array_to_latex(bells, prefix=\"\\\\text{The 4 bell states augmented in one matrix = }\\n\")"
   ]
  },
  {
   "cell_type": "markdown",
   "metadata": {
    "direction": "rtl"
   },
   "source": [
    "\n",
    "۳. یه گیت معروف دیگه، گیت $SWAP$ هست که همون‌طور که از اسمش مشخصه، دوتا کیوبیت رو می‌گیره و اون‌ها رو با هم جابه‌جا می‌کنه، یعنی بردار کیوبیت ۱ رو تبدیل به بردار کیوبیت ۲ می‌کنه و بالعکس. نمایش ماتریسی این گیت رو این زیر می‌بینید:\n",
    "\n",
    "$$\n",
    "\\text{SWAP} = \\begin{bmatrix} \n",
    "                                1 & 0 & 0 & 0 \\\\\n",
    "                              0 & 0 & 1 & 0 \\\\\n",
    "                              0 & 1 & 0 & 0 \\\\\n",
    "                              0 & 0 & 0 & 1 \\\\\n",
    "              \\end{bmatrix}\n",
    "$$\n",
    "سعی کنید این گیت رو با استفاده از گیت‌هایی که تا حالا بهتون معرفی شده بسازید."
   ]
  },
  {
   "cell_type": "code",
   "execution_count": 117,
   "metadata": {},
   "outputs": [
    {
     "name": "stdout",
     "output_type": "stream",
     "text": [
      "The initial state is: \n",
      " [-0.14120413+0.17954327j  0.47721124-0.64422677j  0.04474872-0.15465144j\n",
      " -0.52808328+0.01659646j]\n",
      "The swapped state is: \n",
      " [-0.14120413+0.17954327j  0.04474872-0.15465144j  0.47721124-0.64422677j\n",
      " -0.52808328+0.01659646j]\n",
      "Is doing 3 CNOTs equal to a SWAP? True\n"
     ]
    }
   ],
   "source": [
    "# ENTER CODE FOR Q3 HERE\n",
    "\n",
    "init_state = random_statevector(4).data\n",
    "print(f\"The initial state is: \\n {init_state}\")\n",
    "\n",
    "qc_swap = QuantumCircuit(2)\n",
    "qc_swap.initialize(init_state)\n",
    "\n",
    "qc_swap.swap(0, 1)\n",
    "\n",
    "swap_state = get_statevector(qc_swap)\n",
    "\n",
    "print(f\"The swapped state is: \\n {swap_state}\")\n",
    "\n",
    "qc_triple_cnot = QuantumCircuit(2)\n",
    "qc_triple_cnot.initialize(init_state)\n",
    "qc_triple_cnot.cx(0, 1)\n",
    "qc_triple_cnot.cx(1, 0)\n",
    "qc_triple_cnot.cx(0, 1)\n",
    "\n",
    "cnot_x3_state = get_statevector(qc_triple_cnot)\n",
    "\n",
    "print(f\"Is doing 3 CNOTs equal to a SWAP? {np.all(cnot_x3_state == swap_state)}\")"
   ]
  },
  {
   "cell_type": "markdown",
   "metadata": {},
   "source": [
    "\n",
    "$CNOT_{(0, 1)}CNOT_{(1, 0)}CNOT_{(0, 1)} = \\begin{bmatrix}               1 & 0 & 0 & 0 \\\\\n",
    "                              0 & 1 & 0 & 0 \\\\\n",
    "                              0 & 0 & 0 & 1 \\\\\n",
    "                              0 & 0 & 1 & 0 \\\\\n",
    "\\end{bmatrix} \n",
    "\\begin{bmatrix}               1 & 0 & 0 & 0 \\\\\n",
    "                              0 & 0 & 0 & 1 \\\\\n",
    "                              0 & 0 & 1 & 0 \\\\\n",
    "                              0 & 1 & 0 & 0 \\\\\n",
    "\\end{bmatrix}\n",
    "\\begin{bmatrix}               1 & 0 & 0 & 0 \\\\\n",
    "                              0 & 1 & 0 & 0 \\\\\n",
    "                              0 & 0 & 0 & 1 \\\\\n",
    "                              0 & 0 & 1 & 0 \\\\\n",
    "\\end{bmatrix}\n",
    "= \n",
    "\\begin{bmatrix} \n",
    "                              1 & 0 & 0 & 0 \\\\\n",
    "                              0 & 0 & 1 & 0 \\\\\n",
    "                              0 & 1 & 0 & 0 \\\\\n",
    "                              0 & 0 & 0 & 1 \\\\\n",
    "\\end{bmatrix}\n",
    "= SWAP $\n",
    "\n",
    "$$ |\\psi \\rangle = \\big(a |0\\rangle + b |1\\rangle \\big) \\big( c |0\\rangle + d |1\\rangle \\big) =\n",
    "ac |00\\rangle + ad |01\\rangle + bc |10\\rangle + bd |11\\rangle \\\\\n",
    "CNOT_{(0, 1)} |\\psi \\rangle = ac |00\\rangle + ad |01\\rangle + bc |11\\rangle + bd |10\\rangle \\\\\n",
    "CNOT_{(1, 0)}\\big( CNOT_{(0, 1)} |\\psi \\rangle \\big) =  ac |00\\rangle + ad |11\\rangle + bc |01\\rangle + bd |10\\rangle \\\\\n",
    "CNOT_{(0, 1)} \\left( CNOT_{(1, 0)} \\big( CNOT_{(0, 1)} |\\psi \\rangle \\big) \\right) = ac |00\\rangle + ad |10\\rangle + bc |01\\rangle + bd |11\\rangle\n",
    "= \\big( c |0\\rangle + d |1\\rangle \\big) \\big(a |0\\rangle + b |1\\rangle \\big)$$\n"
   ]
  },
  {
   "cell_type": "markdown",
   "metadata": {
    "direction": "rtl"
   },
   "source": [
    "۴. بعضی کامپیوترهای کوانتومی به خاطر محدودیت‌های سخت‌افزاری که دارن، فقط می‌تونن CNOT رو در یه جهت اعمال کنن، یعنی فقط می‌تونن `cx(0, 1)` رو انجام بدن. آیا می‌شه کاری کرد که بدون استفاده‌ی مستقیم از `cx(1, 0)‍‍` این کارکرد رو پیاده‌سازی کرد؟ اگه آره، چطور؟ اگه نه، چرا؟"
   ]
  },
  {
   "cell_type": "code",
   "execution_count": 129,
   "metadata": {},
   "outputs": [
    {
     "name": "stdout",
     "output_type": "stream",
     "text": [
      "[ 0.31121196-0.14756099j  0.5715482 -0.37516327j -0.48473565+0.08999709j\n",
      "  0.2776306 +0.30628608j]\n",
      "[ 0.31121196-0.14756099j  0.5715482 -0.37516327j -0.48473565+0.08999709j\n",
      "  0.2776306 +0.30628608j]\n",
      "True\n"
     ]
    }
   ],
   "source": [
    "# ENTER CODE FOR Q4 HERE\n",
    "\n",
    "init_state = random_statevector(4).data\n",
    "print(f\"The initial state is: \\n {init_state}\")\n",
    "\n",
    "qc_10 = QuantumCircuit(2)\n",
    "qc_10.initialize(init_state)\n",
    "\n",
    "qc_10.cx(1, 0)\n",
    "\n",
    "state_10 = get_statevector(qc_10)\n",
    "\n",
    "qc_01 = QuantumCircuit(2)\n",
    "qc_01.initialize(init_state)\n",
    "\n",
    "qc_01.h([0, 1])\n",
    "qc_01.cx(0, 1)\n",
    "qc_01.h([0, 1])\n",
    "\n",
    "state_01 = get_statevector(qc_01)\n",
    "\n",
    "# Error is in the range of 1e-16, so python won't see them as equals by default. \n",
    "print(f\"Are the two circuits equal? \\n {np.allclose(state_10, state_01)})"
   ]
  },
  {
   "attachments": {
    "dcfcbf7a32548cbaf26cc034fdc7ab211c6aa07c.png": {
     "image/png": "[encoded data removed]"
    }
   },
   "cell_type": "markdown",
   "metadata": {},
   "source": [
    "![dcfcbf7a32548cbaf26cc034fdc7ab211c6aa07c.png](attachment:dcfcbf7a32548cbaf26cc034fdc7ab211c6aa07c.png)"
   ]
  },
  {
   "cell_type": "markdown",
   "metadata": {
    "direction": "rtl"
   },
   "source": [
    "### ۳.۲. !Controlled Everything\n",
    "\n",
    "توی قسمت قبل با گیت $U_3$ آشنا شدید که کلی‌ترین حالت یه ماتریس یکانی بود که می‌تونستیم روی کیوبیت‌مون اعمال کنیم.\n",
    "\n",
    "حالا، توجه داشته‌باشید که ما این کنترلی که روی $CNOT$مون انجام دادیم رو می‌تونیم روی همه‌ی کیوبیت‌ها انجام بدیم.\n",
    "به این معنا که، اگه کیوبیت `control`مون $|0\\rangle$ باشه، ماتریس $I$ به کیوبیت `target` اعمال می‌شه و اگه $|1\\rangle$ باشه، ماتریس $U_3$ به کیوبیت `target` اعمال می‌شه. به این عمل‌گر می‌گیم Controlled-U که شکل‌ش رو به صورت دقیق این زیر می‌بینید.\n",
    "\n",
    "$$\n",
    "\\newcommand{\\th}{\\frac{\\theta}{2}}\n",
    "CU(\\theta, \\phi, \\lambda, \\gamma)\\ q_{control}, q_{target} =\n",
    "                |0\\rangle\\langle 0| \\otimes I +\n",
    "                e^{i\\gamma}|1\\rangle\\langle 1| \\otimes U(\\theta,\\phi,\\lambda) =\n",
    "                \\begin{pmatrix}\n",
    "                    1 & 0 & 0                             & 0 \\\\\n",
    "                    0 & 1 & 0                             & 0 \\\\\n",
    "                    0 & 0 & e^{i\\gamma} \\cos(\\th)         & -e^{i(\\gamma + \\lambda)}\\sin(\\th) \\\\\n",
    "                    0 & 0 & e^{i(\\gamma + \\phi)}\\sin(\\th) & e^{i(\\gamma + \\phi+\\lambda)}\\cos(\\th)\n",
    "                \\end{pmatrix}\n",
    "$$\n",
    "\n",
    "[اگه دقت کنید، می‌بینید که این عمل‌گر از Augment کردن قطری دوتا ماتریس یکانی ساخته شده که ماتریس یکانی اول همون $I$ه و ماتریس یکانی دوم همون $U_3$ و طبق همین قاعده، $CNOT$ هم دقیقا همین ساختار رو داشت.]\n",
    "\n",
    "این عمل‌گر توی Qiskit به این صورت پیاده‌سازی شده: `cu(theta, phi, lam, gamma, control_qubit, target_qubit`\n",
    "\n",
    "**نکته:** می‌تونید یه لیست کامل از عمل‌گرهایی که می‌تونید توی یه `QuantumCircuit` اجرا کنید رو از [این‌جای](https://qiskit.org/documentation/stubs/qiskit.circuit.QuantumCircuit.html) مستندات Qiskit ببینید. (برای سوال‌های بعدی لازم‌تون می‌شه. :)) )"
   ]
  },
  {
   "cell_type": "markdown",
   "metadata": {
    "direction": "rtl"
   },
   "source": [
    "## تمرین‌های سخت!  🧠\n",
    "\n",
    "حالا، یه سری بردار وجود دارن که درست کردنشون به همین سادگی‌ها هم نیست، ولی می‌شه از بردار $|0\\rangle^{\\otimes n} $ شروع کرد و با استفاده از گیت‌هایی که تا الان شناختیم، ساخت‌شون.\n",
    "\n",
    "خیلی نگران نباشید، با هم‌فکری و یه مقدار بازی‌کردن با جبرخطی‌ش، می‌تونید راحت استیت‌ها رو بسازید.\n",
    "\n",
    "برای همه‌ی سوال‌های این قسمت، یه تابع بنویسید که ورودی‌ای که تو سوال اومده رو بگیره و خروجی‌ای که اومده رو ریترن کنه. (خروجی می‌تونه به صورت یه آبجکت `QuantumCircuit` باشه.)\n",
    "\n",
    "### ۱. استیت GHZ.\n",
    "\n",
    "ورودی:\n",
    "$$ n \\in \\mathbb{N} \\space ; n \\geq 1 $$\n",
    "\n",
    "خروجی:\n",
    "\n",
    "$$\\frac{1}{\\sqrt{2}} \\big (|0\\dots0\\rangle + |1\\dots1\\rangle\\big) = \\frac{1}{\\sqrt{2}} \\big (|0\\rangle^{\\otimes n} + |1\\rangle^{\\otimes n}\\big)$$"
   ]
  },
  {
   "cell_type": "code",
   "execution_count": 3,
   "metadata": {},
   "outputs": [],
   "source": [
    "# ENTER CODE FOR Q1 HERE\n",
    "def ghz_circuit(n: int) -> QuantumCircuit:\n",
    "    qc = QuantumCircuit(n)\n",
    "    qc.h(0)\n",
    "    for i in range(1, n):\n",
    "        qc.cx(i-1, i)\n",
    "    \n",
    "    return qc"
   ]
  },
  {
   "cell_type": "code",
   "execution_count": 9,
   "metadata": {},
   "outputs": [
    {
     "data": {
      "text/latex": [
       "$$\n",
       "\\text{GHZ = }\n",
       "\n",
       "\\begin{bmatrix}\n",
       "\\tfrac{1}{\\sqrt{2}}  \\\\\n",
       " 0  \\\\\n",
       " 0  \\\\\n",
       " 0  \\\\\n",
       " \\vdots \\\\\n",
       " 0  \\\\\n",
       " 0  \\\\\n",
       " \\tfrac{1}{\\sqrt{2}}  \\\\\n",
       " \\end{bmatrix}\n",
       "$$"
      ],
      "text/plain": [
       "<IPython.core.display.Latex object>"
      ]
     },
     "execution_count": 9,
     "metadata": {},
     "output_type": "execute_result"
    }
   ],
   "source": [
    "n = 4\n",
    "ghz = ghz_circuit(n)\n",
    "state = get_statevector(ghz)\n",
    "array_to_latex(state.reshape(2**n, 1), prefix=\"\\\\text{GHZ = }\\n\")"
   ]
  },
  {
   "cell_type": "markdown",
   "metadata": {
    "direction": "rtl"
   },
   "source": [
    "### ۲. سوپرپوزیشن بین bitstring و $|0\\rangle^{\\otimes n}$\n",
    "\n",
    "ورودی: \n",
    "\n",
    "$$ s \\in \\{0, 1\\}^{\\otimes n} ; \\space e.g \\space (for \\space n=2): 10 $$\n",
    "\n",
    "خروجی:\n",
    "\n",
    "$$ \\frac{1}{\\sqrt{2}}\\big(|00\\rangle + |10\\rangle\\big) $$"
   ]
  },
  {
   "cell_type": "code",
   "execution_count": 17,
   "metadata": {},
   "outputs": [],
   "source": [
    "def zero_bit_superposition(bits: str) -> QuantumCircuit:\n",
    "    # Because qiskit uses little-endian encoding\n",
    "    bits = bits[::-1]\n",
    "    length = len(bits)\n",
    "    qc = QuantumCircuit(length)\n",
    "    first_1 = bits.find('1')\n",
    "    qc.h(first_1)\n",
    "    for i in range(first_1 + 1, length):\n",
    "        if bits[i] == '1':\n",
    "            qc.cx(first_1, i)\n",
    "    \n",
    "    return qc"
   ]
  },
  {
   "cell_type": "code",
   "execution_count": 18,
   "metadata": {},
   "outputs": [
    {
     "data": {
      "text/latex": [
       "$$\n",
       "\\text{Superposition = }\n",
       "\n",
       "\\begin{bmatrix}\n",
       "\\tfrac{1}{\\sqrt{2}}  \\\\\n",
       " 0  \\\\\n",
       " \\tfrac{1}{\\sqrt{2}}  \\\\\n",
       " 0  \\\\\n",
       " \\end{bmatrix}\n",
       "$$"
      ],
      "text/plain": [
       "<IPython.core.display.Latex object>"
      ]
     },
     "execution_count": 18,
     "metadata": {},
     "output_type": "execute_result"
    }
   ],
   "source": [
    "bits = '10'\n",
    "zero_sup = zero_bit_superposition(bits)\n",
    "state = get_statevector(zero_sup)\n",
    "length = 2**len(bits)\n",
    "array_to_latex(state.reshape(length, 1), prefix=\"\\\\text{Superposition = }\\n\", max_size=length)"
   ]
  },
  {
   "cell_type": "markdown",
   "metadata": {
    "direction": "rtl"
   },
   "source": [
    "### ۳. سوپرپوزیشن بین دوتا bitstring\n",
    "\n",
    "ورودی: \n",
    "\n",
    "$$ s_1, s_2 \\in \\{0, 1\\}^{\\otimes n} \\space ; \\space e.g \\space (for \\space n=2): \\space 10, \\space 01$$\n",
    "\n",
    "خروجی:\n",
    "\n",
    "$$ \\frac{1}{\\sqrt{2}}\\big(|01\\rangle + |10\\rangle\\big) $$"
   ]
  },
  {
   "cell_type": "code",
   "execution_count": 38,
   "metadata": {},
   "outputs": [],
   "source": [
    "def bit_bit_superposition(bits1: str, bits2: str) -> QuantumCircuit:\n",
    "    # Again, because of qiskit using little-endian \n",
    "    bits1, bits2 = bits1[::-1], bits2[::-1]\n",
    "    length = len(bits1)\n",
    "    qc = QuantumCircuit(length)\n",
    "    diffs = [i for i in range(length) if bits1[i] != bits2[i]]\n",
    "    first, rest = diffs[0], diffs[1:]\n",
    "    qc.h(first)\n",
    "    for i in rest:\n",
    "        if bits1[first] == '1':\n",
    "            qc.cx(first, i)\n",
    "            if bits1[i] == '0':\n",
    "                qc.x(i)\n",
    "    return qc"
   ]
  },
  {
   "cell_type": "code",
   "execution_count": 40,
   "metadata": {},
   "outputs": [
    {
     "data": {
      "text/latex": [
       "$$\n",
       "\\text{Superposition of |1001> and |0110> = }\n",
       "\n",
       "\\begin{bmatrix}\n",
       "0  \\\\\n",
       " 0  \\\\\n",
       " 0  \\\\\n",
       " 0  \\\\\n",
       " 0  \\\\\n",
       " 0  \\\\\n",
       " \\tfrac{1}{\\sqrt{2}}  \\\\\n",
       " 0  \\\\\n",
       " 0  \\\\\n",
       " \\tfrac{1}{\\sqrt{2}}  \\\\\n",
       " 0  \\\\\n",
       " 0  \\\\\n",
       " 0  \\\\\n",
       " 0  \\\\\n",
       " 0  \\\\\n",
       " 0  \\\\\n",
       " \\end{bmatrix}\n",
       "$$"
      ],
      "text/plain": [
       "<IPython.core.display.Latex object>"
      ]
     },
     "execution_count": 40,
     "metadata": {},
     "output_type": "execute_result"
    }
   ],
   "source": [
    "bits1, bits2 = '1001', '0110'\n",
    "sup = bit_bit_superposition(bits1, bits2)\n",
    "state = get_statevector(sup)\n",
    "length = 2**len(bits1)\n",
    "pr_str = f\"|{bits1}> and |{bits2}>\"\n",
    "array_to_latex(state.reshape(length, 1), prefix=f\"\\\\text{{Superposition of {pr_str} = }}\\n\", max_size=length)"
   ]
  },
  {
   "cell_type": "markdown",
   "metadata": {
    "direction": "rtl"
   },
   "source": [
    "### ۴. این استیت:\n",
    "$$\\frac{1}{\\sqrt{3}} \\big(|00\\rangle + |01\\rangle + |10\\rangle\\big)$$"
   ]
  },
  {
   "cell_type": "code",
   "execution_count": 76,
   "metadata": {},
   "outputs": [],
   "source": [
    "# Qiskit is too lazy to implement a simulation of the cry gate, so we use the decomposition in:\n",
    "# https://qiskit.org/textbook/ch-gates/more-circuit-identities.html\n",
    "\n",
    "def c_ry(qc: QuantumCircuit, theta: float, c, t) -> QuantumCircuit:\n",
    "    qc.ry(theta/2, t)\n",
    "    qc.cx(c,t)\n",
    "    qc.ry(-theta/2, t)\n",
    "    qc.cx(c,t)\n",
    "    return qc"
   ]
  },
  {
   "cell_type": "code",
   "execution_count": 72,
   "metadata": {},
   "outputs": [],
   "source": [
    "def three_two():\n",
    "    from numpy import arcsin, sqrt, pi\n",
    "    \n",
    "    qc = QuantumCircuit(2)\n",
    "    alpha = 2 * arcsin(1/sqrt(3))\n",
    "    beta = pi / 2\n",
    "    qc.ry(alpha, 1)\n",
    "    \n",
    "    #Controlled on 0\n",
    "    qc.x(1)\n",
    "    qc = c_ry(qc, beta, 1, 0)\n",
    "    qc.x(1)\n",
    "    \n",
    "    return qc"
   ]
  },
  {
   "cell_type": "code",
   "execution_count": 74,
   "metadata": {},
   "outputs": [
    {
     "data": {
      "text/latex": [
       "$$\n",
       "\\text{three_two = }\n",
       "\n",
       "\\begin{bmatrix}\n",
       "\\tfrac{1}{\\sqrt{3}}  \\\\\n",
       " \\tfrac{1}{\\sqrt{3}}  \\\\\n",
       " \\tfrac{1}{\\sqrt{3}}  \\\\\n",
       " 0  \\\\\n",
       " \\end{bmatrix}\n",
       "$$"
      ],
      "text/plain": [
       "<IPython.core.display.Latex object>"
      ]
     },
     "execution_count": 74,
     "metadata": {},
     "output_type": "execute_result"
    }
   ],
   "source": [
    "three_2 = three_two()\n",
    "state = get_statevector(three_2)\n",
    "array_to_latex(state.reshape(2**2, 1), prefix=\"\\\\text{three_two = }\\n\")"
   ]
  },
  {
   "cell_type": "markdown",
   "metadata": {
    "direction": "rtl"
   },
   "source": [
    "### ۵. استیت هاردی:\n",
    "$$\\frac{1}{\\sqrt{12}} \\big(3|00\\rangle + |01\\rangle + |10\\rangle + |11\\rangle\\big)$$"
   ]
  },
  {
   "cell_type": "code",
   "execution_count": 84,
   "metadata": {},
   "outputs": [],
   "source": [
    "def hardy_state():\n",
    "    from numpy import sqrt, arctan, arccos, cos\n",
    "    \n",
    "    qc = QuantumCircuit(2)\n",
    "    \n",
    "    num = 3 / sqrt(12)\n",
    "    t1 = 2 * arctan(1/3)\n",
    "    t2 = 2 * arccos(num / cos(t1 / 2))\n",
    "    t3 = 2 * arctan(1/2)\n",
    "    \n",
    "    qc.ry(t1, 0)\n",
    "    qc.ry(t2, 1)\n",
    "    qc = c_ry(qc, t3, 1, 0)\n",
    "\n",
    "    return qc"
   ]
  },
  {
   "cell_type": "code",
   "execution_count": 85,
   "metadata": {},
   "outputs": [
    {
     "data": {
      "text/latex": [
       "$$\n",
       "\\text{Hardy State = }\n",
       "\n",
       "\\begin{bmatrix}\n",
       "\\sqrt{\\tfrac{3}{4}}  \\\\\n",
       " 0.28868  \\\\\n",
       " 0.28868  \\\\\n",
       " 0.28868  \\\\\n",
       " \\end{bmatrix}\n",
       "$$"
      ],
      "text/plain": [
       "<IPython.core.display.Latex object>"
      ]
     },
     "execution_count": 85,
     "metadata": {},
     "output_type": "execute_result"
    }
   ],
   "source": [
    "hardy = hardy_state()\n",
    "state = get_statevector(hardy)\n",
    "array_to_latex(state.reshape(2**2, 1), prefix=\"\\\\text{Hardy State = }\\n\")"
   ]
  }
 ],
 "metadata": {
  "kernelspec": {
   "display_name": "Python 3 (ipykernel)",
   "language": "python",
   "name": "python3"
  },
  "language_info": {
   "codemirror_mode": {
    "name": "ipython",
    "version": 3
   },
   "file_extension": ".py",
   "mimetype": "text/x-python",
   "name": "python",
   "nbconvert_exporter": "python",
   "pygments_lexer": "ipython3",
   "version": "3.9.6"
  }
 },
 "nbformat": 4,
 "nbformat_minor": 4
}
